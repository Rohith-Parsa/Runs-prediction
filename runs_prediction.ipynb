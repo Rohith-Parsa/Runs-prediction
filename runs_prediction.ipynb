{
 "cells": [
  {
   "cell_type": "markdown",
   "id": "3966065a-2c17-46a1-9b8d-7b6612f9ea61",
   "metadata": {},
   "source": [
    "# Batsman runs prediction project using Multiple Linear Regression"
   ]
  },
  {
   "cell_type": "markdown",
   "id": "ea80b300-2cac-442a-a14e-b8e0f358fbd0",
   "metadata": {},
   "source": [
    "## importing required libraries"
   ]
  },
  {
   "cell_type": "code",
   "execution_count": 160,
   "id": "7f3358bb-1182-4f1a-9ebd-02bd029dda9b",
   "metadata": {},
   "outputs": [],
   "source": [
    "import pandas as pd\n",
    "import numpy as np\n",
    "import matplotlib.pyplot as plt\n",
    "import seaborn as sns"
   ]
  },
  {
   "cell_type": "markdown",
   "id": "2bd23f6d-9de8-4859-af33-57a6edcd3b3e",
   "metadata": {},
   "source": [
    "## load the dataset"
   ]
  },
  {
   "cell_type": "code",
   "execution_count": 161,
   "id": "23c30fc7-d37b-4261-9915-29df9c0a3a81",
   "metadata": {},
   "outputs": [],
   "source": [
    "df=pd.read_csv(\"playerstats.csv\")"
   ]
  },
  {
   "cell_type": "code",
   "execution_count": 162,
   "id": "2ed0d88e-ade9-4795-aefb-4237ff837f82",
   "metadata": {},
   "outputs": [
    {
     "data": {
      "text/html": [
       "<div>\n",
       "<style scoped>\n",
       "    .dataframe tbody tr th:only-of-type {\n",
       "        vertical-align: middle;\n",
       "    }\n",
       "\n",
       "    .dataframe tbody tr th {\n",
       "        vertical-align: top;\n",
       "    }\n",
       "\n",
       "    .dataframe thead th {\n",
       "        text-align: right;\n",
       "    }\n",
       "</style>\n",
       "<table border=\"1\" class=\"dataframe\">\n",
       "  <thead>\n",
       "    <tr style=\"text-align: right;\">\n",
       "      <th></th>\n",
       "      <th>Unnamed: 0</th>\n",
       "      <th>Player</th>\n",
       "      <th>Span</th>\n",
       "      <th>Mat</th>\n",
       "      <th>Inns</th>\n",
       "      <th>NO</th>\n",
       "      <th>Runs</th>\n",
       "      <th>HS</th>\n",
       "      <th>Ave</th>\n",
       "      <th>BF</th>\n",
       "      <th>SR</th>\n",
       "      <th>100</th>\n",
       "      <th>50</th>\n",
       "      <th>0</th>\n",
       "      <th>Unnamed: 13</th>\n",
       "    </tr>\n",
       "  </thead>\n",
       "  <tbody>\n",
       "    <tr>\n",
       "      <th>0</th>\n",
       "      <td>0</td>\n",
       "      <td>SR Tendulkar (INDIA)</td>\n",
       "      <td>1989-2012</td>\n",
       "      <td>463</td>\n",
       "      <td>452</td>\n",
       "      <td>41</td>\n",
       "      <td>18426</td>\n",
       "      <td>200*</td>\n",
       "      <td>44.83</td>\n",
       "      <td>21367</td>\n",
       "      <td>86.23</td>\n",
       "      <td>49</td>\n",
       "      <td>96</td>\n",
       "      <td>20</td>\n",
       "      <td>NaN</td>\n",
       "    </tr>\n",
       "    <tr>\n",
       "      <th>1</th>\n",
       "      <td>1</td>\n",
       "      <td>KC Sangakkara (Asia/ICC/SL)</td>\n",
       "      <td>2000-2015</td>\n",
       "      <td>404</td>\n",
       "      <td>380</td>\n",
       "      <td>41</td>\n",
       "      <td>14234</td>\n",
       "      <td>169</td>\n",
       "      <td>41.98</td>\n",
       "      <td>18048</td>\n",
       "      <td>78.86</td>\n",
       "      <td>25</td>\n",
       "      <td>93</td>\n",
       "      <td>15</td>\n",
       "      <td>NaN</td>\n",
       "    </tr>\n",
       "    <tr>\n",
       "      <th>2</th>\n",
       "      <td>2</td>\n",
       "      <td>RT Ponting (AUS/ICC)</td>\n",
       "      <td>1995-2012</td>\n",
       "      <td>375</td>\n",
       "      <td>365</td>\n",
       "      <td>39</td>\n",
       "      <td>13704</td>\n",
       "      <td>164</td>\n",
       "      <td>42.03</td>\n",
       "      <td>17046</td>\n",
       "      <td>80.39</td>\n",
       "      <td>30</td>\n",
       "      <td>82</td>\n",
       "      <td>20</td>\n",
       "      <td>NaN</td>\n",
       "    </tr>\n",
       "    <tr>\n",
       "      <th>3</th>\n",
       "      <td>3</td>\n",
       "      <td>ST Jayasuriya (Asia/SL)</td>\n",
       "      <td>1989-2011</td>\n",
       "      <td>445</td>\n",
       "      <td>433</td>\n",
       "      <td>18</td>\n",
       "      <td>13430</td>\n",
       "      <td>189</td>\n",
       "      <td>32.36</td>\n",
       "      <td>14725</td>\n",
       "      <td>91.2</td>\n",
       "      <td>28</td>\n",
       "      <td>68</td>\n",
       "      <td>34</td>\n",
       "      <td>NaN</td>\n",
       "    </tr>\n",
       "    <tr>\n",
       "      <th>4</th>\n",
       "      <td>4</td>\n",
       "      <td>DPMD Jayawardene (Asia/SL)</td>\n",
       "      <td>1998-2015</td>\n",
       "      <td>448</td>\n",
       "      <td>418</td>\n",
       "      <td>39</td>\n",
       "      <td>12650</td>\n",
       "      <td>144</td>\n",
       "      <td>33.37</td>\n",
       "      <td>16020</td>\n",
       "      <td>78.96</td>\n",
       "      <td>19</td>\n",
       "      <td>77</td>\n",
       "      <td>28</td>\n",
       "      <td>NaN</td>\n",
       "    </tr>\n",
       "  </tbody>\n",
       "</table>\n",
       "</div>"
      ],
      "text/plain": [
       "   Unnamed: 0                       Player       Span  Mat  Inns  NO   Runs  \\\n",
       "0           0         SR Tendulkar (INDIA)  1989-2012  463   452  41  18426   \n",
       "1           1  KC Sangakkara (Asia/ICC/SL)  2000-2015  404   380  41  14234   \n",
       "2           2         RT Ponting (AUS/ICC)  1995-2012  375   365  39  13704   \n",
       "3           3      ST Jayasuriya (Asia/SL)  1989-2011  445   433  18  13430   \n",
       "4           4   DPMD Jayawardene (Asia/SL)  1998-2015  448   418  39  12650   \n",
       "\n",
       "     HS    Ave     BF     SR  100  50   0  Unnamed: 13  \n",
       "0  200*  44.83  21367  86.23   49  96  20          NaN  \n",
       "1   169  41.98  18048  78.86   25  93  15          NaN  \n",
       "2   164  42.03  17046  80.39   30  82  20          NaN  \n",
       "3   189  32.36  14725   91.2   28  68  34          NaN  \n",
       "4   144  33.37  16020  78.96   19  77  28          NaN  "
      ]
     },
     "execution_count": 162,
     "metadata": {},
     "output_type": "execute_result"
    }
   ],
   "source": [
    "df.head()"
   ]
  },
  {
   "cell_type": "code",
   "execution_count": 163,
   "id": "5e09a13d-507d-43c3-a7c8-cddd614f3ac7",
   "metadata": {},
   "outputs": [
    {
     "name": "stdout",
     "output_type": "stream",
     "text": [
      "<class 'pandas.core.frame.DataFrame'>\n",
      "RangeIndex: 2490 entries, 0 to 2489\n",
      "Data columns (total 15 columns):\n",
      " #   Column       Non-Null Count  Dtype  \n",
      "---  ------       --------------  -----  \n",
      " 0   Unnamed: 0   2490 non-null   int64  \n",
      " 1   Player       2490 non-null   object \n",
      " 2   Span         2490 non-null   object \n",
      " 3   Mat          2490 non-null   int64  \n",
      " 4   Inns         2490 non-null   int64  \n",
      " 5   NO           2490 non-null   int64  \n",
      " 6   Runs         2490 non-null   int64  \n",
      " 7   HS           2490 non-null   object \n",
      " 8   Ave          2490 non-null   object \n",
      " 9   BF           2490 non-null   int64  \n",
      " 10  SR           2490 non-null   object \n",
      " 11  100          2490 non-null   int64  \n",
      " 12  50           2490 non-null   int64  \n",
      " 13  0            2490 non-null   int64  \n",
      " 14  Unnamed: 13  0 non-null      float64\n",
      "dtypes: float64(1), int64(9), object(5)\n",
      "memory usage: 291.9+ KB\n"
     ]
    }
   ],
   "source": [
    "df.info()"
   ]
  },
  {
   "cell_type": "code",
   "execution_count": 164,
   "id": "b03fc93c-b2b1-4208-bc69-4973c52c2e1f",
   "metadata": {},
   "outputs": [
    {
     "data": {
      "text/plain": [
       "Unnamed: 0        0\n",
       "Player            0\n",
       "Span              0\n",
       "Mat               0\n",
       "Inns              0\n",
       "NO                0\n",
       "Runs              0\n",
       "HS                0\n",
       "Ave               0\n",
       "BF                0\n",
       "SR                0\n",
       "100               0\n",
       "50                0\n",
       "0                 0\n",
       "Unnamed: 13    2490\n",
       "dtype: int64"
      ]
     },
     "execution_count": 164,
     "metadata": {},
     "output_type": "execute_result"
    }
   ],
   "source": [
    "#checking NULL values\n",
    "df.isna().sum()"
   ]
  },
  {
   "cell_type": "code",
   "execution_count": 165,
   "id": "3d3b60b1-f6b8-41fd-83eb-c6d343747fe3",
   "metadata": {},
   "outputs": [],
   "source": [
    "df.drop(columns=['Unnamed: 0','Unnamed: 13','Player'],inplace=True)"
   ]
  },
  {
   "cell_type": "code",
   "execution_count": 166,
   "id": "87d1c004-56f4-4f08-a4bf-dc5ee5f9fbe1",
   "metadata": {},
   "outputs": [
    {
     "data": {
      "text/plain": [
       "Index(['Span', 'Mat', 'Inns', 'NO', 'Runs', 'HS', 'Ave', 'BF', 'SR', '100',\n",
       "       '50', '0'],\n",
       "      dtype='object')"
      ]
     },
     "execution_count": 166,
     "metadata": {},
     "output_type": "execute_result"
    }
   ],
   "source": [
    "df.columns"
   ]
  },
  {
   "cell_type": "code",
   "execution_count": 167,
   "id": "e0ac9231-a451-486c-9507-2a3d53326192",
   "metadata": {},
   "outputs": [],
   "source": [
    "df[['Start', 'End']] = df['Span'].str.split('-', expand=True)\n",
    "df['Start'] = pd.to_numeric(df['Start'], errors='coerce')\n",
    "df['End'] = pd.to_numeric(df['End'], errors='coerce')\n",
    "df['Span'] = df['End'] - df['Start']"
   ]
  },
  {
   "cell_type": "code",
   "execution_count": 168,
   "id": "95f1b7ef-86cf-4b01-b505-4ff2120f77af",
   "metadata": {},
   "outputs": [],
   "source": [
    "df.drop(df[['Start', 'End']],axis=1,inplace=True)"
   ]
  },
  {
   "cell_type": "code",
   "execution_count": 169,
   "id": "e8ee1468-eb8a-411b-b2ad-2cf8049f564e",
   "metadata": {},
   "outputs": [
    {
     "data": {
      "text/html": [
       "<div>\n",
       "<style scoped>\n",
       "    .dataframe tbody tr th:only-of-type {\n",
       "        vertical-align: middle;\n",
       "    }\n",
       "\n",
       "    .dataframe tbody tr th {\n",
       "        vertical-align: top;\n",
       "    }\n",
       "\n",
       "    .dataframe thead th {\n",
       "        text-align: right;\n",
       "    }\n",
       "</style>\n",
       "<table border=\"1\" class=\"dataframe\">\n",
       "  <thead>\n",
       "    <tr style=\"text-align: right;\">\n",
       "      <th></th>\n",
       "      <th>Span</th>\n",
       "      <th>Mat</th>\n",
       "      <th>Inns</th>\n",
       "      <th>NO</th>\n",
       "      <th>Runs</th>\n",
       "      <th>HS</th>\n",
       "      <th>Ave</th>\n",
       "      <th>BF</th>\n",
       "      <th>SR</th>\n",
       "      <th>100</th>\n",
       "      <th>50</th>\n",
       "      <th>0</th>\n",
       "    </tr>\n",
       "  </thead>\n",
       "  <tbody>\n",
       "    <tr>\n",
       "      <th>0</th>\n",
       "      <td>23</td>\n",
       "      <td>463</td>\n",
       "      <td>452</td>\n",
       "      <td>41</td>\n",
       "      <td>18426</td>\n",
       "      <td>200*</td>\n",
       "      <td>44.83</td>\n",
       "      <td>21367</td>\n",
       "      <td>86.23</td>\n",
       "      <td>49</td>\n",
       "      <td>96</td>\n",
       "      <td>20</td>\n",
       "    </tr>\n",
       "    <tr>\n",
       "      <th>1</th>\n",
       "      <td>15</td>\n",
       "      <td>404</td>\n",
       "      <td>380</td>\n",
       "      <td>41</td>\n",
       "      <td>14234</td>\n",
       "      <td>169</td>\n",
       "      <td>41.98</td>\n",
       "      <td>18048</td>\n",
       "      <td>78.86</td>\n",
       "      <td>25</td>\n",
       "      <td>93</td>\n",
       "      <td>15</td>\n",
       "    </tr>\n",
       "    <tr>\n",
       "      <th>2</th>\n",
       "      <td>17</td>\n",
       "      <td>375</td>\n",
       "      <td>365</td>\n",
       "      <td>39</td>\n",
       "      <td>13704</td>\n",
       "      <td>164</td>\n",
       "      <td>42.03</td>\n",
       "      <td>17046</td>\n",
       "      <td>80.39</td>\n",
       "      <td>30</td>\n",
       "      <td>82</td>\n",
       "      <td>20</td>\n",
       "    </tr>\n",
       "    <tr>\n",
       "      <th>3</th>\n",
       "      <td>22</td>\n",
       "      <td>445</td>\n",
       "      <td>433</td>\n",
       "      <td>18</td>\n",
       "      <td>13430</td>\n",
       "      <td>189</td>\n",
       "      <td>32.36</td>\n",
       "      <td>14725</td>\n",
       "      <td>91.2</td>\n",
       "      <td>28</td>\n",
       "      <td>68</td>\n",
       "      <td>34</td>\n",
       "    </tr>\n",
       "    <tr>\n",
       "      <th>4</th>\n",
       "      <td>17</td>\n",
       "      <td>448</td>\n",
       "      <td>418</td>\n",
       "      <td>39</td>\n",
       "      <td>12650</td>\n",
       "      <td>144</td>\n",
       "      <td>33.37</td>\n",
       "      <td>16020</td>\n",
       "      <td>78.96</td>\n",
       "      <td>19</td>\n",
       "      <td>77</td>\n",
       "      <td>28</td>\n",
       "    </tr>\n",
       "  </tbody>\n",
       "</table>\n",
       "</div>"
      ],
      "text/plain": [
       "   Span  Mat  Inns  NO   Runs    HS    Ave     BF     SR  100  50   0\n",
       "0    23  463   452  41  18426  200*  44.83  21367  86.23   49  96  20\n",
       "1    15  404   380  41  14234   169  41.98  18048  78.86   25  93  15\n",
       "2    17  375   365  39  13704   164  42.03  17046  80.39   30  82  20\n",
       "3    22  445   433  18  13430   189  32.36  14725   91.2   28  68  34\n",
       "4    17  448   418  39  12650   144  33.37  16020  78.96   19  77  28"
      ]
     },
     "execution_count": 169,
     "metadata": {},
     "output_type": "execute_result"
    }
   ],
   "source": [
    "df.head()"
   ]
  },
  {
   "cell_type": "code",
   "execution_count": 170,
   "id": "c83b3496-7abd-47bc-95a1-a8736bffba18",
   "metadata": {},
   "outputs": [
    {
     "data": {
      "text/plain": [
       "0    200*\n",
       "1     169\n",
       "2     164\n",
       "3     189\n",
       "4     144\n",
       "Name: HS, dtype: object"
      ]
     },
     "execution_count": 170,
     "metadata": {},
     "output_type": "execute_result"
    }
   ],
   "source": [
    "df.HS.head()"
   ]
  },
  {
   "cell_type": "code",
   "execution_count": 171,
   "id": "af651030-a27b-461b-b711-cc946d462977",
   "metadata": {},
   "outputs": [],
   "source": [
    "#removing * and - in HS (high score)\n",
    "df['HS'] = df['HS'].astype(str).str.replace('*', '', regex=False)\n",
    "df['HS'] = df['HS'].replace('-', np.nan)"
   ]
  },
  {
   "cell_type": "code",
   "execution_count": 172,
   "id": "a1b8c128-b2fe-4d8e-938d-c0aeb6827c12",
   "metadata": {},
   "outputs": [
    {
     "data": {
      "text/plain": [
       "(2490, 12)"
      ]
     },
     "execution_count": 172,
     "metadata": {},
     "output_type": "execute_result"
    }
   ],
   "source": [
    "df.shape"
   ]
  },
  {
   "cell_type": "code",
   "execution_count": 173,
   "id": "df901e66-6585-4feb-a869-71fcda55ddee",
   "metadata": {},
   "outputs": [
    {
     "data": {
      "text/plain": [
       "Span     int64\n",
       "Mat      int64\n",
       "Inns     int64\n",
       "NO       int64\n",
       "Runs     int64\n",
       "HS      object\n",
       "Ave     object\n",
       "BF       int64\n",
       "SR      object\n",
       "100      int64\n",
       "50       int64\n",
       "0        int64\n",
       "dtype: object"
      ]
     },
     "execution_count": 173,
     "metadata": {},
     "output_type": "execute_result"
    }
   ],
   "source": [
    "df.dtypes"
   ]
  },
  {
   "cell_type": "code",
   "execution_count": 174,
   "id": "8ea86562-3824-46de-8f6b-c33e6854926c",
   "metadata": {},
   "outputs": [],
   "source": [
    "#converting to numerical values\n",
    "columns=['HS','Ave','SR',]\n",
    "for col in columns:\n",
    "    df[col]=pd.to_numeric(df[col],errors='coerce')"
   ]
  },
  {
   "cell_type": "code",
   "execution_count": 175,
   "id": "f91656c4-86da-43f7-a1a5-3780d059c8d4",
   "metadata": {},
   "outputs": [
    {
     "data": {
      "text/plain": [
       "Span      int64\n",
       "Mat       int64\n",
       "Inns      int64\n",
       "NO        int64\n",
       "Runs      int64\n",
       "HS        int64\n",
       "Ave     float64\n",
       "BF        int64\n",
       "SR      float64\n",
       "100       int64\n",
       "50        int64\n",
       "0         int64\n",
       "dtype: object"
      ]
     },
     "execution_count": 175,
     "metadata": {},
     "output_type": "execute_result"
    }
   ],
   "source": [
    "df.dtypes"
   ]
  },
  {
   "cell_type": "code",
   "execution_count": 176,
   "id": "016b54ff-2994-475e-b7a7-2195c144910b",
   "metadata": {},
   "outputs": [
    {
     "data": {
      "text/html": [
       "<div>\n",
       "<style scoped>\n",
       "    .dataframe tbody tr th:only-of-type {\n",
       "        vertical-align: middle;\n",
       "    }\n",
       "\n",
       "    .dataframe tbody tr th {\n",
       "        vertical-align: top;\n",
       "    }\n",
       "\n",
       "    .dataframe thead th {\n",
       "        text-align: right;\n",
       "    }\n",
       "</style>\n",
       "<table border=\"1\" class=\"dataframe\">\n",
       "  <thead>\n",
       "    <tr style=\"text-align: right;\">\n",
       "      <th></th>\n",
       "      <th>Span</th>\n",
       "      <th>Mat</th>\n",
       "      <th>Inns</th>\n",
       "      <th>NO</th>\n",
       "      <th>Runs</th>\n",
       "      <th>HS</th>\n",
       "      <th>Ave</th>\n",
       "      <th>BF</th>\n",
       "      <th>SR</th>\n",
       "      <th>100</th>\n",
       "      <th>50</th>\n",
       "      <th>0</th>\n",
       "    </tr>\n",
       "  </thead>\n",
       "  <tbody>\n",
       "    <tr>\n",
       "      <th>count</th>\n",
       "      <td>2490.000000</td>\n",
       "      <td>2490.000000</td>\n",
       "      <td>2490.000000</td>\n",
       "      <td>2490.000000</td>\n",
       "      <td>2490.000000</td>\n",
       "      <td>2490.000000</td>\n",
       "      <td>2370.000000</td>\n",
       "      <td>2490.000000</td>\n",
       "      <td>2481.000000</td>\n",
       "      <td>2490.000000</td>\n",
       "      <td>2490.000000</td>\n",
       "      <td>2490.000000</td>\n",
       "    </tr>\n",
       "    <tr>\n",
       "      <th>mean</th>\n",
       "      <td>4.241365</td>\n",
       "      <td>37.303213</td>\n",
       "      <td>29.605622</td>\n",
       "      <td>5.496787</td>\n",
       "      <td>676.234538</td>\n",
       "      <td>47.907631</td>\n",
       "      <td>18.280996</td>\n",
       "      <td>905.231325</td>\n",
       "      <td>63.577731</td>\n",
       "      <td>0.725703</td>\n",
       "      <td>3.570281</td>\n",
       "      <td>2.474297</td>\n",
       "    </tr>\n",
       "    <tr>\n",
       "      <th>std</th>\n",
       "      <td>4.439131</td>\n",
       "      <td>58.960699</td>\n",
       "      <td>51.380511</td>\n",
       "      <td>9.362150</td>\n",
       "      <td>1616.848599</td>\n",
       "      <td>44.028374</td>\n",
       "      <td>12.808239</td>\n",
       "      <td>2062.373445</td>\n",
       "      <td>26.810820</td>\n",
       "      <td>2.937931</td>\n",
       "      <td>9.872351</td>\n",
       "      <td>3.843402</td>\n",
       "    </tr>\n",
       "    <tr>\n",
       "      <th>min</th>\n",
       "      <td>0.000000</td>\n",
       "      <td>1.000000</td>\n",
       "      <td>1.000000</td>\n",
       "      <td>0.000000</td>\n",
       "      <td>0.000000</td>\n",
       "      <td>0.000000</td>\n",
       "      <td>0.000000</td>\n",
       "      <td>0.000000</td>\n",
       "      <td>0.000000</td>\n",
       "      <td>0.000000</td>\n",
       "      <td>0.000000</td>\n",
       "      <td>0.000000</td>\n",
       "    </tr>\n",
       "    <tr>\n",
       "      <th>25%</th>\n",
       "      <td>0.000000</td>\n",
       "      <td>4.000000</td>\n",
       "      <td>3.000000</td>\n",
       "      <td>0.000000</td>\n",
       "      <td>22.000000</td>\n",
       "      <td>12.250000</td>\n",
       "      <td>8.500000</td>\n",
       "      <td>43.000000</td>\n",
       "      <td>49.010000</td>\n",
       "      <td>0.000000</td>\n",
       "      <td>0.000000</td>\n",
       "      <td>0.000000</td>\n",
       "    </tr>\n",
       "    <tr>\n",
       "      <th>50%</th>\n",
       "      <td>3.000000</td>\n",
       "      <td>13.000000</td>\n",
       "      <td>10.000000</td>\n",
       "      <td>2.000000</td>\n",
       "      <td>100.500000</td>\n",
       "      <td>34.000000</td>\n",
       "      <td>16.330000</td>\n",
       "      <td>165.000000</td>\n",
       "      <td>64.230000</td>\n",
       "      <td>0.000000</td>\n",
       "      <td>0.000000</td>\n",
       "      <td>1.000000</td>\n",
       "    </tr>\n",
       "    <tr>\n",
       "      <th>75%</th>\n",
       "      <td>7.000000</td>\n",
       "      <td>43.000000</td>\n",
       "      <td>31.000000</td>\n",
       "      <td>6.000000</td>\n",
       "      <td>479.500000</td>\n",
       "      <td>72.000000</td>\n",
       "      <td>25.622500</td>\n",
       "      <td>671.750000</td>\n",
       "      <td>77.880000</td>\n",
       "      <td>0.000000</td>\n",
       "      <td>2.000000</td>\n",
       "      <td>3.000000</td>\n",
       "    </tr>\n",
       "    <tr>\n",
       "      <th>max</th>\n",
       "      <td>23.000000</td>\n",
       "      <td>463.000000</td>\n",
       "      <td>452.000000</td>\n",
       "      <td>84.000000</td>\n",
       "      <td>18426.000000</td>\n",
       "      <td>264.000000</td>\n",
       "      <td>145.000000</td>\n",
       "      <td>21367.000000</td>\n",
       "      <td>328.570000</td>\n",
       "      <td>49.000000</td>\n",
       "      <td>96.000000</td>\n",
       "      <td>34.000000</td>\n",
       "    </tr>\n",
       "  </tbody>\n",
       "</table>\n",
       "</div>"
      ],
      "text/plain": [
       "              Span          Mat         Inns           NO          Runs  \\\n",
       "count  2490.000000  2490.000000  2490.000000  2490.000000   2490.000000   \n",
       "mean      4.241365    37.303213    29.605622     5.496787    676.234538   \n",
       "std       4.439131    58.960699    51.380511     9.362150   1616.848599   \n",
       "min       0.000000     1.000000     1.000000     0.000000      0.000000   \n",
       "25%       0.000000     4.000000     3.000000     0.000000     22.000000   \n",
       "50%       3.000000    13.000000    10.000000     2.000000    100.500000   \n",
       "75%       7.000000    43.000000    31.000000     6.000000    479.500000   \n",
       "max      23.000000   463.000000   452.000000    84.000000  18426.000000   \n",
       "\n",
       "                HS          Ave            BF           SR          100  \\\n",
       "count  2490.000000  2370.000000   2490.000000  2481.000000  2490.000000   \n",
       "mean     47.907631    18.280996    905.231325    63.577731     0.725703   \n",
       "std      44.028374    12.808239   2062.373445    26.810820     2.937931   \n",
       "min       0.000000     0.000000      0.000000     0.000000     0.000000   \n",
       "25%      12.250000     8.500000     43.000000    49.010000     0.000000   \n",
       "50%      34.000000    16.330000    165.000000    64.230000     0.000000   \n",
       "75%      72.000000    25.622500    671.750000    77.880000     0.000000   \n",
       "max     264.000000   145.000000  21367.000000   328.570000    49.000000   \n",
       "\n",
       "                50            0  \n",
       "count  2490.000000  2490.000000  \n",
       "mean      3.570281     2.474297  \n",
       "std       9.872351     3.843402  \n",
       "min       0.000000     0.000000  \n",
       "25%       0.000000     0.000000  \n",
       "50%       0.000000     1.000000  \n",
       "75%       2.000000     3.000000  \n",
       "max      96.000000    34.000000  "
      ]
     },
     "execution_count": 176,
     "metadata": {},
     "output_type": "execute_result"
    }
   ],
   "source": [
    "df.describe()"
   ]
  },
  {
   "cell_type": "code",
   "execution_count": 177,
   "id": "339c2b3a-2f60-41d1-937e-02d548e2eb6b",
   "metadata": {},
   "outputs": [
    {
     "data": {
      "text/plain": [
       "Span      0\n",
       "Mat       0\n",
       "Inns      0\n",
       "NO        0\n",
       "Runs      0\n",
       "HS        0\n",
       "Ave     120\n",
       "BF        0\n",
       "SR        9\n",
       "100       0\n",
       "50        0\n",
       "0         0\n",
       "dtype: int64"
      ]
     },
     "execution_count": 177,
     "metadata": {},
     "output_type": "execute_result"
    }
   ],
   "source": [
    "df.isna().sum()"
   ]
  },
  {
   "cell_type": "code",
   "execution_count": 178,
   "id": "493237a4-a1aa-4513-a4ac-ceff3fac6ba1",
   "metadata": {},
   "outputs": [],
   "source": [
    "# Drop rows with missng Ave\n",
    "df = df.dropna(subset=['Ave'])\n",
    "# Fill missing 'SR' with median value\n",
    "df['SR'] = df['SR'].fillna(df['SR'].median())"
   ]
  },
  {
   "cell_type": "code",
   "execution_count": 179,
   "id": "60d1943c-5e3c-4f15-aeaa-65938a22facb",
   "metadata": {},
   "outputs": [
    {
     "data": {
      "text/plain": [
       "(2370, 12)"
      ]
     },
     "execution_count": 179,
     "metadata": {},
     "output_type": "execute_result"
    }
   ],
   "source": [
    "df.shape"
   ]
  },
  {
   "cell_type": "markdown",
   "id": "3660b64c-64df-47be-bc8e-2ceaeeb731d6",
   "metadata": {},
   "source": [
    "## Data visualization "
   ]
  },
  {
   "cell_type": "code",
   "execution_count": 180,
   "id": "ca17a995-3fea-4492-b6c5-17e605296878",
   "metadata": {},
   "outputs": [
    {
     "data": {
      "application/vnd.plotly.v1+json": {
       "config": {
        "plotlyServerURL": "https://plot.ly"
       },
       "data": [
        {
         "customdata": {
          "bdata": "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",
          "dtype": "i1",
          "shape": "2370, 3"
         },
         "hovertemplate": "BF=%{x}<br>Runs=%{y}<br>Ave=%{marker.size}<br>100=%{customdata[0]}<br>50=%{customdata[1]}<br>0=%{customdata[2]}<br>SR=%{marker.color}<extra></extra>",
         "legendgroup": "",
         "marker": {
          "color": {
           "bdata": "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",
           "dtype": "f8"
          },
          "coloraxis": "coloraxis",
          "size": {
           "bdata": "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",
           "dtype": "f8"
          },
          "sizemode": "area",
          "sizeref": 0.3625,
          "symbol": "circle"
         },
         "mode": "markers",
         "name": "",
         "showlegend": false,
         "type": "scattergl",
         "x": {
          "bdata": "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",
          "dtype": "i2"
         },
         "xaxis": "x",
         "y": {
          "bdata": "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",
          "dtype": "i2"
         },
         "yaxis": "y"
        }
       ],
       "layout": {
        "coloraxis": {
         "colorbar": {
          "title": {
           "text": "SR"
          }
         },
         "colorscale": [
          [
           0,
           "#0d0887"
          ],
          [
           0.1111111111111111,
           "#46039f"
          ],
          [
           0.2222222222222222,
           "#7201a8"
          ],
          [
           0.3333333333333333,
           "#9c179e"
          ],
          [
           0.4444444444444444,
           "#bd3786"
          ],
          [
           0.5555555555555556,
           "#d8576b"
          ],
          [
           0.6666666666666666,
           "#ed7953"
          ],
          [
           0.7777777777777778,
           "#fb9f3a"
          ],
          [
           0.8888888888888888,
           "#fdca26"
          ],
          [
           1,
           "#f0f921"
          ]
         ]
        },
        "legend": {
         "itemsizing": "constant",
         "tracegroupgap": 0
        },
        "template": {
         "data": {
          "bar": [
           {
            "error_x": {
             "color": "#2a3f5f"
            },
            "error_y": {
             "color": "#2a3f5f"
            },
            "marker": {
             "line": {
              "color": "#E5ECF6",
              "width": 0.5
             },
             "pattern": {
              "fillmode": "overlay",
              "size": 10,
              "solidity": 0.2
             }
            },
            "type": "bar"
           }
          ],
          "barpolar": [
           {
            "marker": {
             "line": {
              "color": "#E5ECF6",
              "width": 0.5
             },
             "pattern": {
              "fillmode": "overlay",
              "size": 10,
              "solidity": 0.2
             }
            },
            "type": "barpolar"
           }
          ],
          "carpet": [
           {
            "aaxis": {
             "endlinecolor": "#2a3f5f",
             "gridcolor": "white",
             "linecolor": "white",
             "minorgridcolor": "white",
             "startlinecolor": "#2a3f5f"
            },
            "baxis": {
             "endlinecolor": "#2a3f5f",
             "gridcolor": "white",
             "linecolor": "white",
             "minorgridcolor": "white",
             "startlinecolor": "#2a3f5f"
            },
            "type": "carpet"
           }
          ],
          "choropleth": [
           {
            "colorbar": {
             "outlinewidth": 0,
             "ticks": ""
            },
            "type": "choropleth"
           }
          ],
          "contour": [
           {
            "colorbar": {
             "outlinewidth": 0,
             "ticks": ""
            },
            "colorscale": [
             [
              0,
              "#0d0887"
             ],
             [
              0.1111111111111111,
              "#46039f"
             ],
             [
              0.2222222222222222,
              "#7201a8"
             ],
             [
              0.3333333333333333,
              "#9c179e"
             ],
             [
              0.4444444444444444,
              "#bd3786"
             ],
             [
              0.5555555555555556,
              "#d8576b"
             ],
             [
              0.6666666666666666,
              "#ed7953"
             ],
             [
              0.7777777777777778,
              "#fb9f3a"
             ],
             [
              0.8888888888888888,
              "#fdca26"
             ],
             [
              1,
              "#f0f921"
             ]
            ],
            "type": "contour"
           }
          ],
          "contourcarpet": [
           {
            "colorbar": {
             "outlinewidth": 0,
             "ticks": ""
            },
            "type": "contourcarpet"
           }
          ],
          "heatmap": [
           {
            "colorbar": {
             "outlinewidth": 0,
             "ticks": ""
            },
            "colorscale": [
             [
              0,
              "#0d0887"
             ],
             [
              0.1111111111111111,
              "#46039f"
             ],
             [
              0.2222222222222222,
              "#7201a8"
             ],
             [
              0.3333333333333333,
              "#9c179e"
             ],
             [
              0.4444444444444444,
              "#bd3786"
             ],
             [
              0.5555555555555556,
              "#d8576b"
             ],
             [
              0.6666666666666666,
              "#ed7953"
             ],
             [
              0.7777777777777778,
              "#fb9f3a"
             ],
             [
              0.8888888888888888,
              "#fdca26"
             ],
             [
              1,
              "#f0f921"
             ]
            ],
            "type": "heatmap"
           }
          ],
          "histogram": [
           {
            "marker": {
             "pattern": {
              "fillmode": "overlay",
              "size": 10,
              "solidity": 0.2
             }
            },
            "type": "histogram"
           }
          ],
          "histogram2d": [
           {
            "colorbar": {
             "outlinewidth": 0,
             "ticks": ""
            },
            "colorscale": [
             [
              0,
              "#0d0887"
             ],
             [
              0.1111111111111111,
              "#46039f"
             ],
             [
              0.2222222222222222,
              "#7201a8"
             ],
             [
              0.3333333333333333,
              "#9c179e"
             ],
             [
              0.4444444444444444,
              "#bd3786"
             ],
             [
              0.5555555555555556,
              "#d8576b"
             ],
             [
              0.6666666666666666,
              "#ed7953"
             ],
             [
              0.7777777777777778,
              "#fb9f3a"
             ],
             [
              0.8888888888888888,
              "#fdca26"
             ],
             [
              1,
              "#f0f921"
             ]
            ],
            "type": "histogram2d"
           }
          ],
          "histogram2dcontour": [
           {
            "colorbar": {
             "outlinewidth": 0,
             "ticks": ""
            },
            "colorscale": [
             [
              0,
              "#0d0887"
             ],
             [
              0.1111111111111111,
              "#46039f"
             ],
             [
              0.2222222222222222,
              "#7201a8"
             ],
             [
              0.3333333333333333,
              "#9c179e"
             ],
             [
              0.4444444444444444,
              "#bd3786"
             ],
             [
              0.5555555555555556,
              "#d8576b"
             ],
             [
              0.6666666666666666,
              "#ed7953"
             ],
             [
              0.7777777777777778,
              "#fb9f3a"
             ],
             [
              0.8888888888888888,
              "#fdca26"
             ],
             [
              1,
              "#f0f921"
             ]
            ],
            "type": "histogram2dcontour"
           }
          ],
          "mesh3d": [
           {
            "colorbar": {
             "outlinewidth": 0,
             "ticks": ""
            },
            "type": "mesh3d"
           }
          ],
          "parcoords": [
           {
            "line": {
             "colorbar": {
              "outlinewidth": 0,
              "ticks": ""
             }
            },
            "type": "parcoords"
           }
          ],
          "pie": [
           {
            "automargin": true,
            "type": "pie"
           }
          ],
          "scatter": [
           {
            "fillpattern": {
             "fillmode": "overlay",
             "size": 10,
             "solidity": 0.2
            },
            "type": "scatter"
           }
          ],
          "scatter3d": [
           {
            "line": {
             "colorbar": {
              "outlinewidth": 0,
              "ticks": ""
             }
            },
            "marker": {
             "colorbar": {
              "outlinewidth": 0,
              "ticks": ""
             }
            },
            "type": "scatter3d"
           }
          ],
          "scattercarpet": [
           {
            "marker": {
             "colorbar": {
              "outlinewidth": 0,
              "ticks": ""
             }
            },
            "type": "scattercarpet"
           }
          ],
          "scattergeo": [
           {
            "marker": {
             "colorbar": {
              "outlinewidth": 0,
              "ticks": ""
             }
            },
            "type": "scattergeo"
           }
          ],
          "scattergl": [
           {
            "marker": {
             "colorbar": {
              "outlinewidth": 0,
              "ticks": ""
             }
            },
            "type": "scattergl"
           }
          ],
          "scattermap": [
           {
            "marker": {
             "colorbar": {
              "outlinewidth": 0,
              "ticks": ""
             }
            },
            "type": "scattermap"
           }
          ],
          "scattermapbox": [
           {
            "marker": {
             "colorbar": {
              "outlinewidth": 0,
              "ticks": ""
             }
            },
            "type": "scattermapbox"
           }
          ],
          "scatterpolar": [
           {
            "marker": {
             "colorbar": {
              "outlinewidth": 0,
              "ticks": ""
             }
            },
            "type": "scatterpolar"
           }
          ],
          "scatterpolargl": [
           {
            "marker": {
             "colorbar": {
              "outlinewidth": 0,
              "ticks": ""
             }
            },
            "type": "scatterpolargl"
           }
          ],
          "scatterternary": [
           {
            "marker": {
             "colorbar": {
              "outlinewidth": 0,
              "ticks": ""
             }
            },
            "type": "scatterternary"
           }
          ],
          "surface": [
           {
            "colorbar": {
             "outlinewidth": 0,
             "ticks": ""
            },
            "colorscale": [
             [
              0,
              "#0d0887"
             ],
             [
              0.1111111111111111,
              "#46039f"
             ],
             [
              0.2222222222222222,
              "#7201a8"
             ],
             [
              0.3333333333333333,
              "#9c179e"
             ],
             [
              0.4444444444444444,
              "#bd3786"
             ],
             [
              0.5555555555555556,
              "#d8576b"
             ],
             [
              0.6666666666666666,
              "#ed7953"
             ],
             [
              0.7777777777777778,
              "#fb9f3a"
             ],
             [
              0.8888888888888888,
              "#fdca26"
             ],
             [
              1,
              "#f0f921"
             ]
            ],
            "type": "surface"
           }
          ],
          "table": [
           {
            "cells": {
             "fill": {
              "color": "#EBF0F8"
             },
             "line": {
              "color": "white"
             }
            },
            "header": {
             "fill": {
              "color": "#C8D4E3"
             },
             "line": {
              "color": "white"
             }
            },
            "type": "table"
           }
          ]
         },
         "layout": {
          "annotationdefaults": {
           "arrowcolor": "#2a3f5f",
           "arrowhead": 0,
           "arrowwidth": 1
          },
          "autotypenumbers": "strict",
          "coloraxis": {
           "colorbar": {
            "outlinewidth": 0,
            "ticks": ""
           }
          },
          "colorscale": {
           "diverging": [
            [
             0,
             "#8e0152"
            ],
            [
             0.1,
             "#c51b7d"
            ],
            [
             0.2,
             "#de77ae"
            ],
            [
             0.3,
             "#f1b6da"
            ],
            [
             0.4,
             "#fde0ef"
            ],
            [
             0.5,
             "#f7f7f7"
            ],
            [
             0.6,
             "#e6f5d0"
            ],
            [
             0.7,
             "#b8e186"
            ],
            [
             0.8,
             "#7fbc41"
            ],
            [
             0.9,
             "#4d9221"
            ],
            [
             1,
             "#276419"
            ]
           ],
           "sequential": [
            [
             0,
             "#0d0887"
            ],
            [
             0.1111111111111111,
             "#46039f"
            ],
            [
             0.2222222222222222,
             "#7201a8"
            ],
            [
             0.3333333333333333,
             "#9c179e"
            ],
            [
             0.4444444444444444,
             "#bd3786"
            ],
            [
             0.5555555555555556,
             "#d8576b"
            ],
            [
             0.6666666666666666,
             "#ed7953"
            ],
            [
             0.7777777777777778,
             "#fb9f3a"
            ],
            [
             0.8888888888888888,
             "#fdca26"
            ],
            [
             1,
             "#f0f921"
            ]
           ],
           "sequentialminus": [
            [
             0,
             "#0d0887"
            ],
            [
             0.1111111111111111,
             "#46039f"
            ],
            [
             0.2222222222222222,
             "#7201a8"
            ],
            [
             0.3333333333333333,
             "#9c179e"
            ],
            [
             0.4444444444444444,
             "#bd3786"
            ],
            [
             0.5555555555555556,
             "#d8576b"
            ],
            [
             0.6666666666666666,
             "#ed7953"
            ],
            [
             0.7777777777777778,
             "#fb9f3a"
            ],
            [
             0.8888888888888888,
             "#fdca26"
            ],
            [
             1,
             "#f0f921"
            ]
           ]
          },
          "colorway": [
           "#636efa",
           "#EF553B",
           "#00cc96",
           "#ab63fa",
           "#FFA15A",
           "#19d3f3",
           "#FF6692",
           "#B6E880",
           "#FF97FF",
           "#FECB52"
          ],
          "font": {
           "color": "#2a3f5f"
          },
          "geo": {
           "bgcolor": "white",
           "lakecolor": "white",
           "landcolor": "#E5ECF6",
           "showlakes": true,
           "showland": true,
           "subunitcolor": "white"
          },
          "hoverlabel": {
           "align": "left"
          },
          "hovermode": "closest",
          "mapbox": {
           "style": "light"
          },
          "paper_bgcolor": "white",
          "plot_bgcolor": "#E5ECF6",
          "polar": {
           "angularaxis": {
            "gridcolor": "white",
            "linecolor": "white",
            "ticks": ""
           },
           "bgcolor": "#E5ECF6",
           "radialaxis": {
            "gridcolor": "white",
            "linecolor": "white",
            "ticks": ""
           }
          },
          "scene": {
           "xaxis": {
            "backgroundcolor": "#E5ECF6",
            "gridcolor": "white",
            "gridwidth": 2,
            "linecolor": "white",
            "showbackground": true,
            "ticks": "",
            "zerolinecolor": "white"
           },
           "yaxis": {
            "backgroundcolor": "#E5ECF6",
            "gridcolor": "white",
            "gridwidth": 2,
            "linecolor": "white",
            "showbackground": true,
            "ticks": "",
            "zerolinecolor": "white"
           },
           "zaxis": {
            "backgroundcolor": "#E5ECF6",
            "gridcolor": "white",
            "gridwidth": 2,
            "linecolor": "white",
            "showbackground": true,
            "ticks": "",
            "zerolinecolor": "white"
           }
          },
          "shapedefaults": {
           "line": {
            "color": "#2a3f5f"
           }
          },
          "ternary": {
           "aaxis": {
            "gridcolor": "white",
            "linecolor": "white",
            "ticks": ""
           },
           "baxis": {
            "gridcolor": "white",
            "linecolor": "white",
            "ticks": ""
           },
           "bgcolor": "#E5ECF6",
           "caxis": {
            "gridcolor": "white",
            "linecolor": "white",
            "ticks": ""
           }
          },
          "title": {
           "x": 0.05
          },
          "xaxis": {
           "automargin": true,
           "gridcolor": "white",
           "linecolor": "white",
           "ticks": "",
           "title": {
            "standoff": 15
           },
           "zerolinecolor": "white",
           "zerolinewidth": 2
          },
          "yaxis": {
           "automargin": true,
           "gridcolor": "white",
           "linecolor": "white",
           "ticks": "",
           "title": {
            "standoff": 15
           },
           "zerolinecolor": "white",
           "zerolinewidth": 2
          }
         }
        },
        "title": {
         "text": " Balls Faced vs Runs (Color by Strike Rate, Size by Average)"
        },
        "xaxis": {
         "anchor": "y",
         "domain": [
          0,
          1
         ],
         "title": {
          "text": "BF"
         }
        },
        "yaxis": {
         "anchor": "x",
         "domain": [
          0,
          1
         ],
         "title": {
          "text": "Runs"
         }
        }
       }
      },
      "image/png": "[encoded data removed]"
     },
     "metadata": {},
     "output_type": "display_data"
    }
   ],
   "source": [
    "import plotly.express as px\n",
    "\n",
    "fig = px.scatter(df, x='BF', y='Runs', color='SR',\n",
    "                 size='Ave', hover_data=['100', '50', '0'],\n",
    "                 title=' Balls Faced vs Runs (Color by Strike Rate, Size by Average)')\n",
    "fig.show()"
   ]
  },
  {
   "cell_type": "code",
   "execution_count": 181,
   "id": "ad4105f4-e10f-479e-ae53-bebe6904b721",
   "metadata": {},
   "outputs": [
    {
     "data": {
      "application/vnd.plotly.v1+json": {
       "config": {
        "plotlyServerURL": "https://plot.ly"
       },
       "data": [
        {
         "bingroup": "x",
         "hovertemplate": "Ave=%{x}<br>count=%{y}<extra></extra>",
         "legendgroup": "",
         "marker": {
          "color": "#636efa",
          "pattern": {
           "shape": ""
          }
         },
         "name": "",
         "nbinsx": 50,
         "orientation": "v",
         "showlegend": false,
         "type": "histogram",
         "x": {
          "bdata": "CtejcD1qRkA9CtejcP1EQKRwPQrXA0VArkfhehQuQECPwvUoXK9AQMP1KFyPwkNA7FG4HoXrTUCuR+F6FC5GQMP1KFyPgkRAFK5H4XqUQ0ApXI/C9UhJQArXo3A96kJAPQrXo3A9REDD9Shcj6JDQHsUrkfh2kRAUrgehevxQUAAAAAAAMBKQPYoXI/CdUJAMzMzMzNzQUBSuB6F65FIQHsUrkfhmkNAzczMzMzMREBmZmZmZkZCQI/C9Shcr0RAKVyPwvXIQkDNzMzMzKxDQK5H4XoU7kdAZmZmZmaGQUB7FK5H4bpIQHE9CtejEEJAUrgeheuRN0AzMzMzMzNAQArXo3A9SkZAMzMzMzNzQEBmZmZmZkZBQOxRuB6F60FAmpmZmZnZREB7FK5H4dpDQD0K16NwPT9AcT0K16NwQED2KFyPwnVBQD0K16Nw/UJAH4XrUbjeQEAK16NwPcpKQMP1KFyPwkFAmpmZmZl5REDsUbgehatBQAAAAAAAgEdAmpmZmZkZRUAzMzMzM3NAQMP1KFyPwkBACtejcD0qQEAfhetRuJ4+QK5H4XoU7kJAZmZmZmbGQUAUrkfherRAQGZmZmZm5kVAMzMzMzPzR0BmZmZmZiZCQClcj8L1aD5ArkfhehRORkCF61G4HoVCQK5H4XoUjkFArkfhehSuSUDsUbgehQtAQD0K16NwXUVA9ihcj8JVRUDsUbgehatBQIXrUbgeRURAexSuR+G6O0BI4XoUrqdBQFyPwvUofEBAUrgehetRQ0AAAAAAAEBGQFyPwvUovEdAMzMzMzMTSECPwvUoXO9CQFyPwvUovEJAZmZmZmZmREDXo3A9CtdDQAAAAAAAgD5APQrXo3B9PUCkcD0K14NGQDMzMzMzs0VASOF6FK5nQkCuR+F6FK5BQAAAAAAA4ENAMzMzMzOzPUDD9Shcj+JGQPYoXI/CdT1A4XoUrkeBRkBcj8L1KNw/QK5H4XoULjxAZmZmZmZGQ0BSuB6F65E8QJqZmZmZmT9A7FG4HoUrREA9CtejcD1AQD0K16NwXURACtejcD2KQkAAAAAAAAA9QFyPwvUo/ENAexSuR+E6OUCPwvUoXK9CQD0K16NwfUJAcT0K16PQQUDD9ShcjwI9QIXrUbgehUJAzczMzMwMP0BI4XoUrqdDQOxRuB6F60BA4XoUrkehQUCF61G4HkU8QPYoXI/CdTpAH4XrUbh+QEAK16NwPapCQHE9CtejcERAFK5H4Xq0RECamZmZmZk9QArXo3A9yjdAhetRuB6FMEDNzMzMzAxBQLgehetRODZAFK5H4Xq0QECuR+F6FO48QBSuR+F6NERA9ihcj8I1QEDNzMzMzIxEQDMzMzMzczpAPQrXo3AdQEA9CtejcF1BQOF6FK5H4T5AexSuR+E6NkDNzMzMzAw9QD0K16NwHUVA4XoUrkcBQEAAAAAAAEA9QIXrUbgeZUVAzczMzMwsQUD2KFyPwhVLQK5H4XoUrjlAAAAAAAAAN0DXo3A9Chc6QDMzMzMzM0JAexSuR+FaQUDsUbgehStBQIXrUbgexT5AZmZmZmamPUBI4XoUroc/QArXo3A9Cj1AcT0K16OQQUB7FK5H4XpDQJqZmZmZWUNACtejcD1KREAAAAAAAGBKQArXo3A9ijhAXI/C9ShcOUDhehSuR6FBQArXo3A9SjxAw/UoXI+CPEApXI/C9ShAQNejcD0K10dAmpmZmZnZPkAAAAAAAKBJQDMzMzMz8zxAuB6F61HYQUBSuB6F69E7QMP1KFyPYkRA4XoUrkcBQEDsUbgehas7QB+F61G4Hj9AFK5H4XrUQEApXI/C9WhCQEjhehSuZ0NACtejcD2KNkAfhetRuJ4+QHE9CtejUERAZmZmZmYGQUDD9Shcj0I5QAAAAAAAAENASOF6FK5HQEDNzMzMzAw8QI/C9Shcz0dAhetRuB5FQEApXI/C9Wg9QMP1KFyPIkBA7FG4HoVLQEDD9ShcjwJAQNejcD0KFzhAPQrXo3B9N0CF61G4HuVCQOF6FK5HgUNAXI/C9SgcO0BmZmZmZuZFQI/C9ShcDzpAZmZmZmamN0DXo3A9CpdCQJqZmZmZmUFACtejcD2KOEDD9Shcj8I+QDMzMzMz8zlASOF6FK5HPkDXo3A9ChdEQM3MzMzM7EBAPQrXo3A9OkAUrkfhelQxQMP1KFyPAjZAj8L1KFzPQEB7FK5H4bozQEjhehSuRzxAH4XrUbiePEBxPQrXo3A/QAAAAAAAADlAAAAAAABAP0AAAAAAAMBCQK5H4XoUrjVA9ihcj8I1N0AAAAAAAIA9QFyPwvUovENAUrgehevROEB7FK5H4fpAQI/C9ShczzdAzczMzMyMOUCPwvUoXG9CQFyPwvUoXCtAcT0K16NwN0A9CtejcJ1AQGZmZmZmJjtAhetRuB7FQ0BI4XoUrgdBQMP1KFyPAj1AAAAAAAAAOEDhehSuR+FCQK5H4XoUTkdAFK5H4XqUP0B7FK5H4bo4QGZmZmZmJjdASOF6FK6HPkAUrkfhehQ6QFyPwvUonDhAFK5H4XoUPECPwvUoXM86QLgehetRuD5AcT0K16PwOECPwvUoXE83QB+F61G4HjhAMzMzMzNzQkCPwvUoXI8+QOF6FK5HITtAZmZmZmbmNUA9CtejcL0+QM3MzMzMzD9AMzMzMzMzPUCuR+F6FK45QDMzMzMzU0BArkfhehSOQUCuR+F6FK4rQAAAAAAAwDlA16NwPQqXOUAAAAAAAAA1QDMzMzMzMz5AXI/C9SicNUBxPQrXo/BAQOxRuB6F60pAcT0K16OwPkC4HoXrUTg3QOxRuB6FazNA9ihcj8J1PEBmZmZmZoZHQOF6FK5HwUJAAAAAAABAQkCF61G4HoU4QM3MzMzMTDFA16NwPQoXNUCuR+F6FA5HQAAAAAAAgEdAmpmZmZnZPEDsUbgehes9QK5H4XoULkBAXI/C9ShcQkD2KFyPwnU/QFyPwvUoXEBAUrgeheuRMkAAAAAAAABFQKRwPQrXYzdAAAAAAADAUEAfhetRuF46QD0K16NwfTdAmpmZmZkZMkAAAAAAAOBAQLgehetRuDlAAAAAAACAP0DhehSuR+E7QNejcD0K1zRArkfhehRuO0Bcj8L1KJw0QJqZmZmZ2UFAw/UoXI+CP0DD9ShcjyJDQB+F61G43jxA7FG4HoWrOkDXo3A9Chc6QHsUrkfhujBAzczMzMxMQEDsUbgehas3QI/C9ShcDzdAexSuR+GaQEDD9ShcjwJEQJqZmZmZWTNASOF6FK4nRUA9CtejcL04QKRwPQrXQ0BA4XoUrkehOUBcj8L1KNwuQMP1KFyPAjlApHA9CtfjQUCamZmZmdk3QFK4HoXr0TtAH4XrUbhePkDXo3A9Clc8QMP1KFyPAkNAuB6F61G4OkCuR+F6FC44QFyPwvUoHD1AMzMzMzMzQUBxPQrXozA0QOxRuB6F6zhA9ihcj8L1N0ApXI/C9SgtQGZmZmZmZjhA16NwPQoXQUBSuB6F6xEzQLgehetRWEFA7FG4HoUrP0DXo3A9Clc5QHsUrkfhWkNAmpmZmZmZKkCkcD0K1+M6QJqZmZmZmTNA9ihcj8KVQUAzMzMzM/M7QBSuR+F6FDRAH4XrUbieNkAAAAAAAEA/QI/C9ShczzhASOF6FK5HN0AAAAAAAAA3QMP1KFyPwipAMzMzMzOzOECPwvUoXM8xQClcj8L1yEFAXI/C9SgcO0DsUbgehSs4QNejcD0KF0FA16NwPQr3QEC4HoXrUfg+QIXrUbgehTNAuB6F61G4O0DXo3A9Cpc3QEjhehSuxz1AAAAAAADAOkDXo3A9Ctc3QD0K16NwPTZASOF6FK4HQkCuR+F6FK4+QHsUrkfh+jRACtejcD0KOkDsUbgehas6QNejcD0KF0BAH4XrUbieOEAK16NwPUoxQArXo3A9SjFAXI/C9SgcPkDNzMzMzAw+QI/C9Shc70BAPQrXo3A9L0DNzMzMzAw9QK5H4XoUrjVA9ihcj8I1O0AzMzMzMzNBQEjhehSuBzRAzczMzMyMQUCamZmZmRkqQMP1KFyPgjhA16NwPQrXNkDsUbgehes3QI/C9ShcTzZAFK5H4XrUO0C4HoXrUbgsQLgehetRuDBAUrgehesROEApXI/C9Wg0QHsUrkfhOjdAZmZmZmZmSEDNzMzMzMw3QBSuR+F6FDtApHA9CtejPECamZmZmZkkQAAAAAAAIERAMzMzMzPzNkB7FK5H4Xo3QGZmZmZmZjtAZmZmZmbmPUAUrkfhetQ+QNejcD0K1y1Aj8L1KFxPNEBSuB6F67FEQFyPwvUoHDBAH4XrUbieMkBxPQrXo/A6QI/C9ShcDyVAuB6F61G4MkBxPQrXo/A5QDMzMzMz00FAAAAAAAAAPEC4HoXrUbg4QArXo3A9CjVAAAAAAABAM0D2KFyPwjU7QI/C9ShczztACtejcD0qRUA9CtejcB1FQMP1KFyPQiVAexSuR+F6PEAK16NwPcozQAAAAAAAAD1ApHA9CtfjRkC4HoXrUbgzQAAAAAAAQDZA7FG4HoWrQEAfhetRuJ44QM3MzMzMzDtAcT0K16OQQ0Bcj8L1KNxHQOF6FK5HITBA16NwPQpXOEBmZmZmZmY/QBSuR+F6lDRAj8L1KFzPNkAK16NwPYo5QPYoXI/CNUBAXI/C9ShcN0BxPQrXo3A4QAAAAAAA4ElA7FG4HoWrNEAK16NwPUo4QBSuR+F69EFAFK5H4Xo0QUD2KFyPwvUtQLgehetRmENAH4XrUbheN0CuR+F6FG45QD0K16NwPUBAAAAAAAAAO0CamZmZmRlEQOF6FK5HoTpAmpmZmZlZN0AAAAAAAAAoQAAAAAAAQDRA9ihcj8K1QkCPwvUoXI84QJqZmZmZmUNAAAAAAAAAO0AAAAAAAEA5QHE9CtejsDdA16NwPQpXNkBcj8L1KNwqQArXo3A9CjJAhetRuB7FOEBcj8L1KNwxQHE9CtejMDJApHA9CtejOEDsUbgehetDQClcj8L1aEBAUrgeheuRNkApXI/C9SgtQAAAAAAAAD9AzczMzMyMM0AzMzMzM3M2QJqZmZmZmT1AH4XrUbheO0A9CtejcL03QDMzMzMz8z9ArkfhehSuQEAUrkfhelQ0QAAAAAAAAEpAcT0K16OwO0Bcj8L1KJw7QPYoXI/CdTFAH4XrUbjeMUDsUbgehWs7QDMzMzMzsydAMzMzMzMzNEApXI/C9chAQDMzMzMzszZAPQrXo3A9NUCamZmZmdk5QOxRuB6F6zBAMzMzMzOTSkAK16NwPQowQHsUrkfhOjpAPQrXo3C9K0CamZmZmZk2QAAAAAAAgClAUrgehesRMEAAAAAAAOBAQDMzMzMzMxtAKVyPwvUISEApXI/C9SgyQBSuR+F6VDRA7FG4HoXrN0BmZmZmZuY0QBSuR+F6lDNA4XoUrkdxUkDXo3A9CrdEQBSuR+F61DRAFK5H4XoUPEAzMzMzM/M7QOxRuB6F6zZAhetRuB6FLkA9CtejcN1AQM3MzMzMTCVAMzMzMzOzMkCF61G4HoU7QIXrUbgehTtAmpmZmZkZNUDhehSuR6FAQB+F61G4HjBAPQrXo3A9LUD2KFyPwvUyQDMzMzMzMy9AAAAAAACAJ0BI4XoUrgc0QLgehetRuDBAexSuR+G6N0BmZmZmZuYzQJqZmZmZmTpACtejcD2KMEBI4XoUrgczQNejcD0K1yhAAAAAAABAOUBmZmZmZiYyQPYoXI/C9TdA9ihcj8L1NkAzMzMzM7M9QHE9CtejcDFAH4XrUbieOECPwvUoXM86QPYoXI/C9TJA4XoUrkehOkDXo3A9Ctc+QOxRuB6FKzFAmpmZmZkZNEApXI/C9chEQI/C9ShcDzRAPQrXo3A9N0AK16NwPYowQOF6FK5HYTtAw/UoXI9CPkDhehSuR2E7QDMzMzMzsyxAKVyPwvXoOEAK16NwPYovQFK4HoXrURtApHA9CtejMECuR+F6FC4qQArXo3A9ijlAcT0K16NwMEBI4XoUrkc2QIXrUbgeRTlA16NwPQqXNEBmZmZmZmY0QDMzMzMz8zdAMzMzMzNzO0CF61G4HiVAQFyPwvUoHDBAexSuR+G6N0CamZmZmZk3QI/C9ShcDzJA16NwPQrXQECkcD0K12M3QI/C9Shcjy5AzczMzMyMPUDXo3A9Ctc7QJqZmZmZmShAAAAAAAAAKEDsUbgehWssQD0K16NwvS9AFK5H4XqUPkD2KFyPwvUzQDMzMzMzMzFArkfhehRuNkBI4XoUrgczQIXrUbgehTRArkfhehSuMUAAAAAAAIA8QMP1KFyPgjBAcT0K16NwLEBI4XoUrkc4QClcj8L1KDVAcT0K16PwKUAAAAAAAAA8QAAAAAAAADhAcT0K16PwK0DNzMzMzEwzQB+F61G4nixAexSuR+G6NUDD9Shcj8IrQNejcD0KlzZA16NwPQrXM0BxPQrXo/A5QHE9Ctej8DlAhetRuB6FM0B7FK5H4XozQAAAAAAAACtAZmZmZmamMkDhehSuRyFAQBSuR+F6FDRAFK5H4XoUNEBxPQrXoxBAQDMzMzMz8zRAj8L1KFxPOUCkcD0K1yMxQM3MzMzMjDpAXI/C9SjcP0ApXI/C9agxQM3MzMzMzEdAAAAAAADAN0AK16NwPYo1QKRwPQrX4zhAuB6F61F4NEDXo3A9CtcyQIXrUbgeRTVAAAAAAAAAOkDNzMzMzEw0QB+F61G4Hi1A9ihcj8J1PkBxPQrXo3AjQAAAAAAAADhArkfhehSuNEBxPQrXo/A3QMP1KFyPwjpAH4XrUbhePEAfhetRuN4yQHE9Ctej8DhAzczMzMzMPUAfhetRuF4wQM3MzMzMDDZAFK5H4XpUQkAzMzMzM/MzQB+F61G4XjtAw/UoXI/COUDNzMzMzMwwQFyPwvUo3DNA16NwPQrXNkBSuB6F61EcQOF6FK5HoTNA4XoUrkehNkBcj8L1KJw3QI/C9ShcjzpAcT0K16MwNEAfhetRuJ4xQOF6FK5HYTdAw/UoXI/CKEAUrkfhelQ3QDMzMzMzczFAMzMzMzPzNEAK16NwPUoxQHsUrkfhejBAZmZmZmZmO0AAAAAAAAAoQBSuR+F69EBAUrgehetRI0AzMzMzMzMwQI/C9ShcDypA16NwPQrXLUAAAAAAAAA/QKRwPQrXozxAmpmZmZkZNUDXo3A9ChczQClcj8L1qDBAKVyPwvWoOkAAAAAAAAAjQAAAAAAAgCtApHA9CtfjNEAK16NwPYowQAAAAAAAAEZAzczMzMxMPkBmZmZmZuYhQClcj8L1qDJArkfhehQuIkApXI/C9agsQAAAAAAAgDFAZmZmZmYmM0CF61G4HkU1QM3MzMzMDDNAMzMzMzPzMkDD9Shcj0I5QGZmZmZm5jJArkfhehQuMUC4HoXrUTgmQJqZmZmZ2TpAMzMzMzOzKkDD9Shcj8IsQLgehetRuDRAhetRuB6FM0ApXI/C9ag4QEjhehSuRzpAMzMzMzOzIkCamZmZmVk1QGZmZmZmJjJAAAAAAAAAJkD2KFyPwnUvQPYoXI/C9ShAzczMzMwMM0AUrkfhehROQMP1KFyPwjtASOF6FK7HOUCPwvUoXI82QM3MzMzMDDRAzczMzMzMLEBcj8L1KFwwQFyPwvUoXDBAH4XrUbgeNkBSuB6F61EsQFK4HoXrETtAw/UoXI9CN0AUrkfhelRDQNejcD0K1yhAMzMzMzMzN0Bcj8L1KJw6QD0K16NwvSxAAAAAAACANUAzMzMzMzMhQOF6FK5HYSpA16NwPQrXMUCuR+F6FC41QArXo3A9KkxAhetRuB7FMkDsUbgehes5QM3MzMzMzDBAZmZmZmZmNkAzMzMzMzMtQAAAAAAAAChASOF6FK6HOUCkcD0K16M3QK5H4XoUrjRApHA9CtejN0AAAAAAAIA7QAAAAAAAgEtAw/UoXI9CMUB7FK5H4TozQB+F61G4XjRAmpmZmZmZJUApXI/C9SgcQJqZmZmZGTBAAAAAAAAAR0CuR+F6FC49QOF6FK5H4RtAmpmZmZnZNkC4HoXrUbgxQFyPwvUonDFA7FG4HoVrNkCkcD0K1yMoQD0K16NwPSdAZmZmZmZmP0AUrkfhehQ6QClcj8L16DlAexSuR+G6NECkcD0K1yM2QAAAAAAAAC9AmpmZmZmZNECPwvUoXE8zQEjhehSuxypA7FG4HoXrNUBxPQrXo/AxQPYoXI/CtTVAFK5H4XoUOUCkcD0K16MxQM3MzMzMzB1A9ihcj8I1NUD2KFyPwjU1QNejcD0K1zZApHA9CtcjNUCamZmZmZktQJqZmZmZWTFAhetRuB4FI0AAAAAAAIA4QAAAAAAAgDhA4XoUrkehOkC4HoXrUTgwQM3MzMzMzCtA7FG4HoUrMUAAAAAAAEAyQK5H4XoULjJAAAAAAABAOED2KFyPwrU0QDMzMzMzMydAXI/C9ShcKkAfhetRuB4pQHE9Ctej8ChA16NwPQoXOkApXI/C9eg3QNejcD0KFzpAexSuR+FaRECkcD0K1yMrQOF6FK5H4S1ASOF6FK5HNEAK16NwPYovQLgehetRuClArkfhehQuIkCPwvUoXI9BQAAAAAAAACxAAAAAAACAMUAUrkfhelQ3QDMzMzMzczlAmpmZmZmZMkDNzMzMzMw7QNejcD0K1yBAzczMzMzMO0AAAAAAAEAxQFK4HoXrUR5AAAAAAAAANUAAAAAAAABBQBSuR+F6lDZAmpmZmZkZO0CuR+F6FO4wQI/C9ShcDzJAw/UoXI/CNEAAAAAAAIA2QM3MzMzMTCxAcT0K16OwNECPwvUoXM8wQHsUrkfheiJAXI/C9ShcJUCamZmZmZk6QClcj8L1qDFA16NwPQoXOECamZmZmZkxQBSuR+F6VD1AAAAAAAAANkDNzMzMzEw6QI/C9ShczzdAXI/C9SgcPUCPwvUoXM83QAAAAAAAADRAAAAAAABAQECuR+F6FC4wQK5H4XoULjBAzczMzMzMKUApXI/C9ag8QM3MzMzMjDxAhetRuB5FN0D2KFyPwjVCQFyPwvUonDNA4XoUrkfhLUAAAAAAAAA3QAAAAAAAADJAzczMzMzMMEAAAAAAAAA8QAAAAAAAADVAAAAAAAAAKECPwvUoXM82QIXrUbgexTtAAAAAAAAAOUCF61G4HtVUQGZmZmZm5ihAKVyPwvUoIUDNzMzMzMxIQM3MzMzMzChAzczMzMyMO0AAAAAAAAA/QPYoXI/CdSBAFK5H4XqUREBcj8L1KFw2QIXrUbgeRTZAAAAAAACAPkBmZmZmZmZIQMP1KFyPwiJAAAAAAACALkAAAAAAAEA0QB+F61G4Xj5A4XoUrkchMEBcj8L1KJwyQIXrUbgexTpA9ihcj8J1MkD2KFyPwnUiQAAAAAAAADBAKVyPwvXoM0DhehSuR2EiQOF6FK5HYSJAhetRuB6FGkDNzMzMzMw3QAAAAAAAACxAj8L1KFyPJkD2KFyPwnUmQAAAAAAAgC1AAAAAAACALUB7FK5H4dpAQBSuR+F6lDNAXI/C9ShcNUAUrkfhepRDQNejcD0KVyRAMzMzMzMzL0AAAAAAAAA6QM3MzMzMTDdAFK5H4XoUJEAAAAAAAMA8QFyPwvUonDFAFK5H4XoUM0AUrkfhelQ5QGZmZmZmZi5AUrgehetRKUBI4XoUrkcwQEjhehSuRx1AAAAAAABAPEAAAAAAAIBGQNejcD0KVypACtejcD2qQkAUrkfhepRCQJqZmZmZ2T9AzczMzMxMI0CamZmZmRlGQJqZmZmZmRtAMzMzMzMzI0AAAAAAAAAxQFK4HoXrUS1AuB6F61E4OEC4HoXrUTg4QAAAAAAAAC9AmpmZmZkZKEAAAAAAAAAvQFyPwvUonDBAH4XrUbieJkAAAAAAAIA6QKRwPQrXIy5ApHA9CtcjLkAAAAAAAAAsQAAAAAAAACRAAAAAAAAALkAK16NwPWpBQAAAAAAA4ElA7FG4HoVrLUAAAAAAAIA0QDMzMzMzMytAzczMzMzMKkAAAAAAAAA0QGZmZmZmZidAFK5H4XqUQEBcj8L1KBw2QGZmZmZm5kNAzczMzMxMIUAfhetRuJ4oQGZmZmZm5jFAMzMzMzOzM0AK16NwPQonQLgehetRuDFAKVyPwvWoNUC4HoXrUbgxQArXo3A9ijFAUrgeheuRO0AK16NwPYohQFK4HoXrkTtArkfhehSuLUAAAAAAAAA4QAAAAAAAADBAAAAAAADgR0AAAAAAAOBHQFK4HoXr0S9AH4XrUbjeN0CamZmZmRkzQBSuR+F6FCJAKVyPwvWoP0BmZmZmZuYyQNejcD0KVyBAUrgehetRH0DNzMzMzMwgQOxRuB6FaypAKVyPwvWoLkBI4XoUrkcqQClcj8L1qD5AKVyPwvWoLkDhehSuR6EwQKRwPQrXox9AuB6F61E4NEDXo3A9CtcpQClcj8L1KB5ArkfhehSuK0AAAAAAAAAkQAAAAAAAAD5AAAAAAAAALkBSuB6F65E5QFK4HoXrkTlAAAAAAABARkAAAAAAAAA2QOxRuB6F6ypAAAAAAAAALUAfhetRuJ4vQAAAAAAAwDVAH4XrUbieNUCPwvUoXI8oQDMzMzMzMyFAAAAAAACAPEAAAAAAAIA8QAAAAAAAACJAmpmZmZkZMUDhehSuR+EyQK5H4XoULiBAAAAAAABANUCkcD0K1yMoQGZmZmZm5jBAzczMzMzMQEDNzMzMzMwwQAAAAAAAADxAhetRuB6FHkBcj8L1KFwuQJqZmZmZ2TdAAAAAAADANECamZmZmZkwQClcj8L1qDtAZmZmZmZmGkDhehSuR2EpQAAAAAAAgDtAAAAAAACAS0AfhetRuJ40QBSuR+F6VDJAXI/C9SjcJUAUrkfhelRLQEjhehSuRydASOF6FK5HJ0DsUbgehesoQAAAAAAAACtAAAAAAAAAMkAAAAAAACBUQFK4HoXr0SpAFK5H4XrUSkCamZmZmRkwQB+F61G4HjRAH4XrUbgeJECamZmZmZkoQAAAAAAAAEBAAAAAAAAAREAAAAAAAABAQAAAAAAAADRAAAAAAACAOkBSuB6F65E2QJqZmZmZmS9AUrgeheuRNkBmZmZmZmYfQFyPwvUoXCxAUrgehevRKUCkcD0K1yMmQD0K16NwPSNAzczMzMzMPkAAAAAAAAAsQM3MzMzMzD5ArkfhehSuJ0AAAAAAAAAsQFyPwvUoHDFAmpmZmZnZNUCamZmZmdk1QOF6FK5HYSdAUrgehetRKUAUrkfhelQ5QFK4HoXrkTVAH4XrUbjeMkAfhetRuN4yQB+F61G43jJAKVyPwvUoKUApXI/C9agwQMP1KFyPQitAj8L1KFwPJ0DNzMzMzMw9QBSuR+F6FCtAZmZmZmZmPUC4HoXrUbgqQGZmZmZmZi1AZmZmZmZmLUBcj8L1KFwiQBSuR+F6VDhAmpmZmZnZNEAAAAAAAEBCQAAAAAAAIGJAUrgeheuRNECkcD0K1yMmQAAAAAAAADBArkfhehQuKkAUrkfhetQ3QDMzMzMzsyBACtejcD2KL0AK16NwPYovQEjhehSuRzRAAAAAAADAQUAzMzMzMzMsQB+F61G4nilAMzMzMzMzLECuR+F6FK4lQI/C9ShcjxZAMzMzMzMzLECkcD0K1yM0QJqZmZmZGS9AKVyPwvWoIkAAAAAAAAAUQAAAAAAAADRA4XoUrkfhLkDD9Shcj0IpQDMzMzMzsyNAAAAAAAAAN0AAAAAAAAA3QPYoXI/CtTNAAAAAAAAgUUDD9Shcj0IiQAAAAAAAIEFAAAAAAAAAIEAAAAAAAAAhQDMzMzMzMx5AAAAAAAAAMUC4HoXrUTguQDMzMzMzMztAAAAAAAAAUUAAAAAAAAAuQAAAAAAAwEBAw/UoXI/CLUAAAAAAAMAwQK5H4XoULihAAAAAAAAAM0CamZmZmZkqQM3MzMzMTCRAAAAAAAAANkAzMzMzMzM6QJqZmZmZGS1AKVyPwvWoJUAAAAAAAAAqQClcj8L1qDVAKVyPwvWoJUAAAAAAAIA1QHE9CtejcBdAFK5H4XpUNUCamZmZmZk5QAAAAAAAAEBA4XoUrkfhHUApXI/C9Sg1QGZmZmZmZilApHA9CtcjMkAzMzMzMzM5QAAAAAAAgE9AAAAAAAAALEAzMzMzMzM5QAAAAAAAACxAAAAAAACAP0AAAAAAAAAyQBSuR+F61DRAFK5H4XrUNEAAAAAAAEBPQArXo3A9iitAzczMzMzMOEDNzMzMzMwoQAAAAAAAAD9AKVyPwvWoNEAK16NwPYomQArXo3A9iiZAAAAAAACANEAAAAAAAIBEQJqZmZmZmShAw/UoXI/CIkBmZmZmZmY4QAAAAAAAgE5A7FG4HoVrMUDhehSuR+EqQAAAAAAAAD5AAAAAAAAAKEDNzMzMzMw3QHE9CtejcCVAcT0K16NwFUAAAAAAAIA9QJqZmZmZmSdAAAAAAACAM0AzMzMzM7MgQMP1KFyPQiVAPQrXo3A9LUAzMzMzMzMnQDMzMzMzMzdAFK5H4XoUJUBSuB6F65EwQBSuR+F6FCVAPQrXo3C9LEAAAAAAAMBMQKRwPQrXow5AAAAAAAAAM0BSuB6F61EpQM3MzMzMzCZAAAAAAAAAQ0DNzMzMzMwmQJqZmZmZmSZAFK5H4XrUMkCamZmZmRkpQArXo3A9qkJACtejcD2qQkBmZmZmZmY2QGZmZmZmZjZAAAAAAAAALEDhehSuR+EoQDMzMzMzMzZAMzMzMzMzJkAzMzMzMzM2QOxRuB6Fay9AZmZmZmZmH0AAAAAAAIArQClcj8L1KDJAAAAAAABAO0AAAAAAAEA7QAAAAAAAADJAAAAAAAAAO0DXo3A9CtcuQAAAAAAAADtAuB6F61G4GkAUrkfhetQxQClcj8L1qDFAAAAAAACAOkAAAAAAAIAqQAAAAAAAAC5AAAAAAABAOkAAAAAAAAAuQAAAAAAAQDpAAAAAAABASkAUrkfhehQXQBSuR+F6VDFAAAAAAAAAOkDNzMzMzMwkQJqZmZmZmTRAmpmZmZmZJEApXI/C9SgxQJqZmZmZmTRAKVyPwvWoJkAAAAAAAIApQGZmZmZmZjRAMzMzMzMzNEDXo3A9CtcsQDMzMzMzMzRAFK5H4XrUMEDXo3A9CtcsQD0K16NwPSlAFK5H4XrUQEAAAAAAAEA5QAAAAAAAQDlACtejcD2qQEAAAAAAAAApQAAAAAAAACRAuB6F61E4JkAK16NwPapAQAAAAAAAADRApHA9CtejGkAAAAAAAMA4QAAAAAAAgEBASOF6FK5HLEAAAAAAAIAwQAAAAAAAwEhAAAAAAADASEAAAAAAAIBAQAAAAAAAACxAAAAAAACAOEAUrkfhelQwQBSuR+F6VDBAmpmZmZmZM0AAAAAAAIA4QB+F61G4HhpAAAAAAAAALEAzMzMzM7MrQAAAAAAAQFhACtejcD0qQEAAAAAAAEA4QOxRuB6FaytAAAAAAAAAOEAzMzMzMzMzQAAAAAAAwFdAKVyPwvWoP0A9CtejcD0RQKRwPQrXIytAMzMzMzMzHUCkcD0K1yMrQAAAAAAAACNAzczMzMzMMkBSuB6F61EvQFK4HoXrUR9AAAAAAACAN0DNzMzMzMwyQAAAAAAAgDdAAAAAAAAAP0AAAAAAAAAvQI/C9ShcjypAAAAAAAAAL0BmZmZmZmYyQHE9CtejcBRACtejcD2KIEBSuB6F61EuQAAAAAAAABpAAAAAAADANkAAAAAAAIA2QAAAAAAAAC5AAAAAAACARkAzMzMzM7MpQAAAAAAAQEZA7FG4HoVrKUApXI/C9agtQClcj8L1qC1ApHA9CtcjKUCamZmZmZkxQBSuR+F6VD1AAAAAAAAAJkDXo3A9CtcoQAAAAAAAwDVAAAAAAADARUAAAAAAAAA9QAAAAAAAgCVAKVyPwvWoLEAAAAAAAIBFQOxRuB6F6xZAAAAAAACANUBxPQrXo3AaQJqZmZmZGSNAPQrXo3A9H0A9CtejcD0fQD0K16NwPSVA4XoUrkfhHkA9CtejcD0lQOF6FK5H4R5AAAAAAAAAVUAAAAAAAAAlQAAAAAAAAEVAKVyPwvWoIkAAAAAAAAA1QAAAAAAAADVAAAAAAAAARUCamZmZmZkwQAAAAAAAwERAAAAAAADANEBxPQrXo3AiQClcj8L1qDtAKVyPwvWoK0A9CtejcL0kQBSuR+F6VDtAUrgehetRK0BmZmZmZmYwQGZmZmZmZjBAFK5H4XpUO0AAAAAAAIBEQAAAAAAAACJAAAAAAABAREBxPQrXo3AdQDMzMzMzMzBApHA9CtcjJ0AAAAAAAEA0QAAAAAAAACtAPQrXo3A9FEA9CtejcD0kQAAAAAAAQDRA16NwPQrXJkAAAAAAAAAkQAAAAAAAACRAAAAAAAAAMEAAAAAAAAAwQAAAAAAAACRAFK5H4XpUOkCamZmZmZkvQJqZmZmZmR9APQrXo3C9I0CamZmZmZkfQAAAAAAAgDNAAAAAAACAM0AzMzMzMzMfQAAAAAAAgDNAAAAAAACAM0AAAAAAAAA6QAAAAAAAQDNA4XoUrkfhIEAAAAAAAAAjQDMzMzMzsyVAAAAAAAAAM0AAAAAAAMAyQAAAAAAAADlAAAAAAAAALkCamZmZmZktQAAAAAAAgDJAmpmZmZmZLUDhehSuR+EaQJqZmZmZmS1APQrXo3A9IkCF61G4HoUaQLgehetROCBAFK5H4XpUOEAUrkfhelQ4QFK4HoXrURhAAAAAAABAQkAUrkfhelQ4QAAAAAAAAEJAAAAAAAAAIkAAAAAAAAAgQM3MzMzMzCxAMzMzMzMzE0AAAAAAAAAiQAAAAAAAwDFAZmZmZmZmLEAAAAAAAMBBQAAAAAAAwEFAKVyPwvWoN0ApXI/C9agnQFK4HoXrUSdAUrgehetRJ0AAAAAAAIBBQAAAAAAAACxAUrgehetRJ0AAAAAAAEAxQJqZmZmZmStAAAAAAAAAN0AAAAAAAAA3QAAAAAAAQEFAFK5H4XoUGUAAAAAAAEBBQAAAAAAAAEFAKVyPwvWoNkAzMzMzMzMrQAAAAAAAAEFAKVyPwvWoJkAzMzMzMzMrQGZmZmZmZhNAMzMzMzMzHkAAAAAAAABBQDMzMzMzMytAMzMzMzMzG0AAAAAAAMAwQAAAAAAAwDBAzczMzMzMKkDD9Shcj8IdQD0K16NwvSBAUrgehetRFkAAAAAAAMBAQM3MzMzMzBpAXI/C9ShcGEAAAAAAAMAwQAAAAAAAgDBAAAAAAACAMEAAAAAAAIAwQNejcD0K1yJAKVyPwvWoJUApXI/C9aglQOF6FK5H4RxAAAAAAAAAKkAAAAAAAEAwQJqZmZmZmSlACtejcD0KEUBSuB6F61ElQAAAAAAAACJAAAAAAACAT0AAAAAAAAAlQAAAAAAAADVAKVyPwvWoNEApXI/C9agkQClcj8L1qDRAKVyPwvWoNECuR+F6FK4RQAAAAAAAAB9AAAAAAAAAL0ApXI/C9agkQAAAAAAAAD9A7FG4HoVrIUAAAAAAAIAuQHsUrkfheh5AFK5H4XpUNEBSuB6F61EkQAAAAAAAgC5AAAAAAACAPkAAAAAAAIAuQAAAAAAAgC5AFK5H4XpUNEAAAAAAAIA+QKRwPQrXIyFAAAAAAAAAHkAAAAAAAAAkQAAAAAAAADRAAAAAAAAANEAAAAAAAAAeQAAAAAAAgD1AexSuR+F6HUDXo3A9CtcgQJqZmZmZmSdAKVyPwvWoI0AUrkfhelQzQI/C9ShcjyBAj8L1KFyPIEAzMzMzMzMnQAAAAAAAAC1AAAAAAAAALUAAAAAAAAAtQAAAAAAAgCxAAAAAAAAAI0AAAAAAAAAzQM3MzMzMzCZAAAAAAACALEApXI/C9agyQAAAAAAAADxAAAAAAAAAIEApXI/C9agiQAAAAAAAADxAAAAAAAAAHEAAAAAAAAAgQFK4HoXrUSJAUrgehetRIkAAAAAAAIArQAAAAAAAgDtAAAAAAAAAFkAUrkfhelQyQAAAAAAAADJAAAAAAAAAK0AAAAAAAAA7QAAAAAAAABtAmpmZmZmZJUAAAAAAAAArQAAAAAAAACtAmpmZmZmZJUAAAAAAAAAyQAAAAAAAADJAAAAAAAAAMkCamZmZmZklQAAAAAAAgDpAKVyPwvWoMUApXI/C9agxQIXrUbgehRdAhetRuB6FF0AAAAAAAIAqQHsUrkfhehpAhetRuB6FF0B7FK5H4XoaQAAAAAAAgEpAzczMzMzMJEAUrkfhelQxQM3MzMzMzCRAAAAAAAAAKkAAAAAAAAAqQM3MzMzMzCRAFK5H4XoUF0AAAAAAAIA5QAAAAAAAADFAAAAAAAAAIUAAAAAAAAAxQGZmZmZmZiRAZmZmZmZmJEAAAAAAAIApQClcj8L1qCBAAAAAAAAAJEApXI/C9aggQAAAAAAAAClAKVyPwvWoIEAAAAAAAAApQAAAAAAAACRAj8L1KFyPHEAAAAAAAAA5QAAAAAAAgDhAFK5H4XpUMEAAAAAAAIBIQBSuR+F6VDBAFK5H4XpUMEAAAAAAAIAoQJqZmZmZmRNAAAAAAACAKEAUrkfhehQOQFK4HoXrUSBAFK5H4XpUMEAAAAAAAAAcQAAAAAAAAChAAAAAAAAAMEAAAAAAAAA4QAAAAAAAACBAAAAAAAAAEEAzMzMzMzMDQDMzMzMzMyNAMzMzMzMzI0AAAAAAAABIQAAAAAAAAEhAAAAAAAAAIEAAAAAAAAA4QHsUrkfhehdAUrgehetRL0AAAAAAAIBHQFK4HoXrUS9AUrgehetRL0BSuB6F61EvQFK4HoXrUS9AKVyPwvWoLkAAAAAAAAA3QGZmZmZmZhJAAAAAAAAAN0BmZmZmZmYiQAAAAAAAACdApHA9CtejHkAAAAAAAAAuQAAAAAAAgDZAAAAAAAAAIkAAAAAAAAAuQK5H4XoUrhlAAAAAAACANkBSuB6F61EtQFK4HoXrUR1AAAAAAAAANkAAAAAAAABGQAAAAAAAACZAmpmZmZmZIUAAAAAAAAA2QAAAAAAAABBAAAAAAAAAJkCkcD0K16McQAAAAAAAgCVAAAAAAACANUCkcD0K16McQHsUrkfhehVAKVyPwvWoLEAAAAAAAIA1QAAAAAAAgEVAMzMzMzMzIUAAAAAAAABFQAAAAAAAAEVAAAAAAAAANUAAAAAAAABFQAAAAAAAABxAAAAAAAAAJUAAAAAAAAAlQAAAAAAAADVAUrgehetRK0AAAAAAAIAkQAAAAAAAgCRAAAAAAACANEBSuB6F61ErQFK4HoXrUStAZmZmZmZmEEAAAAAAAIA0QClcj8L1qCpAAAAAAAAANEAAAAAAAAAgQClcj8L1qCpAAAAAAAAAJEAAAAAAAAA0QAAAAAAAADRAKVyPwvWoKkApXI/C9agqQAAAAAAAADRApHA9CtejGkAAAAAAAAAqQDMzMzMzMx9AAAAAAAAAKkAAAAAAAAAaQDMzMzMzMx9AAAAAAAAAGkAAAAAAAIBDQAAAAAAAgDNAAAAAAACAI0AAAAAAAIAjQAAAAAAAgCNAAAAAAACAQ0AzMzMzMzMfQAAAAAAAABpAAAAAAACAQ0AAAAAAAIAzQAAAAAAAACNAUrgehetRKUCuR+F6FK4VQFK4HoXrUSlAUrgehetRGUAAAAAAAAAjQGZmZmZmZh5AAAAAAAAAM0BSuB6F61EpQK5H4XoUrhVAUrgehetRKUBSuB6F61EpQAAAAAAAACNAAAAAAAAAI0AAAAAAAIAyQAAAAAAAgDJAKVyPwvWoKEAAAAAAAIAyQAAAAAAAgEJAKVyPwvWoKEAAAAAAAAAoQAAAAAAAAEJAzczMzMzMHEAAAAAAAAAiQAAAAAAAAChAAAAAAAAAIkAAAAAAAAAiQAAAAAAAADJAAAAAAAAAMkAAAAAAAAAiQFK4HoXrUSdAAAAAAAAADEAAAAAAAIAhQFK4HoXrUSdAAAAAAACAQUAAAAAAAIAxQHsUrkfhehFAAAAAAAAAFEBSuB6F61EXQFK4HoXrUSdAUrgehetRJ0AAAAAAAIBBQFK4HoXrUSdAAAAAAACAMUAAAAAAAAAxQClcj8L1KA5AZmZmZmZmE0AAAAAAAAAxQDMzMzMzMxtApHA9CtejFkApXI/C9agmQDMzMzMzMxtAAAAAAAAAMUBmZmZmZmYTQClcj8L1KA5ApHA9CtejBkAAAAAAAAAxQAAAAAAAgDBAAAAAAACAMEAAAAAAAIAwQAAAAAAAgCBAAAAAAACAMEAAAAAAAIAwQAAAAAAAgDBAAAAAAACAIEBI4XoUrkcFQAAAAAAAAEBAUrgehetRJUBSuB6F61ElQAAAAAAAABBAAAAAAAAAQECamZmZmZkZQClcj8L1qCRAzczMzMzMGEAAAAAAAAA/QKRwPQrXoxRAAAAAAAAAL0AAAAAAAAAfQAAAAAAAAC9AAAAAAAAAL0D2KFyPwvUOQAAAAAAAAB9AKVyPwvWoJEAAAAAAAAAfQAAAAAAAAD9AAAAAAAAAL0AAAAAAAAA/QAAAAAAAAD9AAAAAAAAAL0AAAAAAAAAUQAAAAAAAACRAAAAAAAAALkAfhetRuB4RQAAAAAAAACRAAAAAAAAAFEAAAAAAAAAuQAAAAAAAABRAAAAAAAAADkAAAAAAAAAuQAAAAAAAAC5AAAAAAAAAJEBSuB6F61EjQI/C9ShcjxBAAAAAAAAAHUBSuB6F61EjQAAAAAAAAC1AUrgehetRI0BSuB6F61EjQAAAAAAAAC1AZmZmZmZmBkAAAAAAAAAsQClcj8L1qCJAAAAAAAAALEBmZmZmZmYWQAAAAAAAACxAAAAAAAAAIkAAAAAAAAAiQJqZmZmZmRVAmpmZmZmZFUCamZmZmZkVQJqZmZmZmRVAAAAAAAAAIkAAAAAAAAA7QAAAAAAAACJAAAAAAAAAK0AAAAAAAAArQAAAAAAAACJAAAAAAAAAEkAAAAAAAAArQAAAAAAAADtAUrgehetRIUAAAAAAAAA6QM3MzMzMzBRAAAAAAAAAOkCuR+F6FK4NQAAAAAAAABpAzczMzMzMFEAAAAAAAAAqQAAAAAAAACpAAAAAAAAAKkAAAAAAAAAaQAAAAAAAADpAAAAAAAAAOkBSuB6F61EhQAAAAAAAACpAUrgehetREUAAAAAAAAApQAAAAAAAADlAAAAAAAAAOUApXI/C9aggQAAAAAAAAClAAAAAAAAAKUAAAAAAAAApQAAAAAAAADlAAAAAAAAAKUAAAAAAAAA5QAAAAAAAADlAAAAAAAAAOUAAAAAAAAAUQAAAAAAAAClAAAAAAAAAOEAAAAAAAAA4QAAAAAAAAChAXI/C9ShcC0AAAAAAAAAQQAAAAAAAAChAAAAAAAAAIEAAAAAAAAA4QAAAAAAAACBAAAAAAAAAOEBcj8L1KFwLQAAAAAAAADhAAAAAAAAAOEAAAAAAAAAoQAAAAAAAAChAMzMzMzMzE0A9CtejcD0KQKRwPQrXow5ApHA9CtejHkAAAAAAAAAXQKRwPQrXox5AAAAAAAAAN0AAAAAAAAA3QAAAAAAAADdAAAAAAAAAJ0AAAAAAAAA3QAAAAAAAACdAAAAAAAAAJ0AAAAAAAAAnQAAAAAAAADdAAAAAAAAAJ0BSuB6F61EdQAAAAAAAACZAAAAAAAAAJkAAAAAAAAAmQAAAAAAAABZAAAAAAAAANkAAAAAAAAAmQAAAAAAAADVAAAAAAAAAJUDNzMzMzMwQQAAAAAAAABVAAAAAAAAAJUAAAAAAAAAlQAAAAAAAACVAAAAAAAAANUAAAAAAAAAcQAAAAAAAAAxAAAAAAAAAFUAAAAAAAAAUQAAAAAAAACRAAAAAAAAAJEAAAAAAAAAkQAAAAAAAACRApHA9CtejGkAAAAAAAAAkQKRwPQrXoxpApHA9CtejGkCkcD0K16MaQKRwPQrXoxpApHA9CtejGkAAAAAAAAAkQAAAAAAAACRAzczMzMzMBkAAAAAAAAAUQAAAAAAAACNAZmZmZmZmDkCuR+F6FK4FQAAAAAAAADNAAAAAAAAAM0AAAAAAAAAzQFK4HoXrURlAAAAAAAAAM0BSuB6F61EZQAAAAAAAACNAAAAAAAAAI0BmZmZmZmYOQAAAAAAAADNAAAAAAAAAM0AAAAAAAAAjQAAAAAAAADNAAAAAAAAAIkAAAAAAAAAyQAAAAAAAACJAAAAAAAAAGEAAAAAAAAAYQAAAAAAAACJAAAAAAAAAGEAAAAAAAAAiQAAAAAAAADJAAAAAAAAAIkAAAAAAAAAiQAAAAAAAACJAAAAAAAAAMkAAAAAAAAAyQAAAAAAAADJAAAAAAAAAGEAzMzMzMzMLQAAAAAAAACFAAAAAAAAAMUAAAAAAAAAxQAAAAAAAABFAAAAAAAAAIUAAAAAAAAAhQAAAAAAAACFAAAAAAAAAMUAAAAAAAAAhQAAAAAAAADFApHA9CtejFkAAAAAAAAAxQAAAAAAAADFAAAAAAAAAIUAAAAAAAAARQAAAAAAAADBAAAAAAAAAMEBSuB6F61EVQAAAAAAAACBAUrgehetRFUBSuB6F61EVQAAAAAAAAABAAAAAAAAAMEAAAAAAAAAQQAAAAAAAADBAAAAAAAAAIEAAAAAAAAAgQJqZmZmZmQlAAAAAAAAAIECamZmZmZkJQAAAAAAAABBAAAAAAAAACEAAAAAAAAAeQAAAAAAAAC5AAAAAAAAAHkAAAAAAAAAEQAAAAAAAAC5AAAAAAAAALkAAAAAAAAAUQAAAAAAAAB5AAAAAAAAAHkAAAAAAAAAeQAAAAAAAAA5AAAAAAAAADkAAAAAAAAAeQAAAAAAAAC5AAAAAAAAAFEAAAAAAAAAuQAAAAAAAAB5AAAAAAAAADkAAAAAAAAAuQAAAAAAAAC5AAAAAAAAAHEAAAAAAAAAcQAAAAAAAABxAAAAAAAAALEAAAAAAAAAsQAAAAAAAABxAAAAAAAAAHECkcD0K16MSQAAAAAAAABxAAAAAAAAAHEAAAAAAAAAsQGZmZmZmZgZAAAAAAAAAHEAAAAAAAAAMQAAAAAAAACxAAAAAAAAALECkcD0K16MSQAAAAAAAACpAAAAAAAAAKkAAAAAAAAAKQAAAAAAAABpAAAAAAAAAGkAAAAAAAAAqQAAAAAAAABpAAAAAAAAAKkDNzMzMzMwEQAAAAAAAABpAAAAAAAAAKkAAAAAAAAAaQAAAAAAAACpAAAAAAAAACkAAAAAAAAAqQFK4HoXrURFAAAAAAAAACkDNzMzMzMwEQAAAAAAAABpAAAAAAAAAKkAAAAAAAAAYQAAAAAAAABhAAAAAAAAAKEAAAAAAAAAYQAAAAAAAABhAMzMzMzMzA0AAAAAAAAAYQAAAAAAAAChAAAAAAAAACEAAAAAAAAAIQAAAAAAAABhAAAAAAAAAKEAAAAAAAAAoQAAAAAAAABBAAAAAAAAAKEAAAAAAAAAoQAAAAAAAAAhAAAAAAAAAGEAAAAAAAAAYQAAAAAAAABhAAAAAAAAAKEAAAAAAAAAYQAAAAAAAABhASOF6FK5HDUAAAAAAAAAmQEjhehSuRw1AAAAAAAAAFkAAAAAAAAAWQJqZmZmZmQFAAAAAAAAAFkAAAAAAAAAWQAAAAAAAACZAAAAAAAAAFkBI4XoUrkcNQAAAAAAAACZAAAAAAAAAFkAAAAAAAAAWQAAAAAAAACZAAAAAAAAAFkAAAAAAAAAWQAAAAAAAABZAAAAAAAAAFkAAAAAAAAAmQAAAAAAAACZAAAAAAAAAFkAAAAAAAAAEQKRwPQrXowpAAAAAAAAAFEAAAAAAAAAUQAAAAAAAACRAAAAAAAAAFEAAAAAAAAAkQAAAAAAAAARAAAAAAAAAFEAAAAAAAAAkQAAAAAAAACRAAAAAAAAAFEAAAAAAAAAUQAAAAAAAACRApHA9CtejCkCPwvUoXI/6PwAAAAAAACRAAAAAAAAAJEAAAAAAAAAUQAAAAAAAABRAAAAAAAAAFEAAAAAAAAAkQAAAAAAAACRAAAAAAAAAEkAAAAAAAAAIQAAAAAAAAAhAAAAAAAAAIkAAAAAAAAAiQAAAAAAAACJAAAAAAAAAEkAAAAAAAAAIQAAAAAAAACJAAAAAAAAAEkAAAAAAAAAiQAAAAAAAACJAAAAAAAAAAkAAAAAAAAAiQAAAAAAAACJAAAAAAAAAEkAAAAAAAAAIQAAAAAAAACJAAAAAAAAAIkAAAAAAAAAiQAAAAAAAABJAAAAAAAAACEAAAAAAAAASQAAAAAAAABJAAAAAAAAAIkAAAAAAAAAiQAAAAAAAABJAAAAAAAAAIkAAAAAAAAAgQAAAAAAAACBAAAAAAAAAIEAAAAAAAAAgQAAAAAAAACBAAAAAAAAAEEBI4XoUrkcFQAAAAAAAACBAAAAAAAAAIEAAAAAAAAAgQAAAAAAAACBAAAAAAAAAIEAAAAAAAAAAQAAAAAAAABBAAAAAAAAAIEBI4XoUrkcFQJqZmZmZmfk/AAAAAAAAEEAAAAAAAAAQQAAAAAAAACBAmpmZmZmZ+T9I4XoUrkcFQAAAAAAAABBAAAAAAAAAEEAAAAAAAAAQQAAAAAAAACBAAAAAAAAAIEAAAAAAAAAgQAAAAAAAACBAAAAAAAAAIEAAAAAAAAAcQAAAAAAAABxAAAAAAAAADEAAAAAAAAAMQAAAAAAAAAxAAAAAAAAADEAAAAAAAAAMQAAAAAAAABxAAAAAAAAAHEAAAAAAAAAcQAAAAAAAABxAAAAAAAAA/D8AAAAAAAAcQAAAAAAAABxAAAAAAAAAHEAAAAAAAAAcQAAAAAAAABxAAAAAAAAAHEAAAAAAAAAcQKRwPQrXowJAAAAAAAAAHEAAAAAAAAAcQAAAAAAAAAxAAAAAAAAAGEAAAAAAAAAYQAAAAAAAAAhAAAAAAAAAGEAAAAAAAAAYQAAAAAAAAAhAAAAAAAAAGEAAAAAAAAAYQAAAAAAAAAhAAAAAAAAACEAAAAAAAAAAQAAAAAAAAPg/MzMzMzMz8z8AAAAAAAAYQAAAAAAAABhAAAAAAAAACEAAAAAAAAAYQAAAAAAAAAhAAAAAAAAACEAAAAAAAAAYQAAAAAAAAABAAAAAAAAABEAAAAAAAAAUQAAAAAAAABRAAAAAAAAABEAAAAAAAAAEQAAAAAAAABRAAAAAAAAABEAAAAAAAAAEQAAAAAAAABRAAAAAAAAAFEAAAAAAAAAUQAAAAAAAABRAAAAAAAAAFEAAAAAAAAAEQI/C9Shcj/o/AAAAAAAAFEAAAAAAAAAEQAAAAAAAAPQ/AAAAAAAABEAAAAAAAAAEQAAAAAAAABRAAAAAAAAABEAAAAAAAAAAQAAAAAAAAABAAAAAAAAAEEAAAAAAAAAQQAAAAAAAAABAAAAAAAAAEEAAAAAAAAAQQAAAAAAAABBAAAAAAAAAEEBI4XoUrkf1PwAAAAAAABBAAAAAAAAAEEAAAAAAAAAQQAAAAAAAAABAAAAAAAAAAEAAAAAAAAAAQAAAAAAAABBAAAAAAAAAEEBI4XoUrkf1PwAAAAAAAABAAAAAAAAAEEAAAAAAAAAQQAAAAAAAABBAAAAAAAAAEEAAAAAAAAAQQAAAAAAAAABAAAAAAAAAEEAAAAAAAAAAQAAAAAAAABBAAAAAAAAAAEBI4XoUrkf1PwAAAAAAABBAAAAAAAAACEAAAAAAAAAIQAAAAAAAAAhAAAAAAAAACEAAAAAAAAAIQAAAAAAAAAhAAAAAAAAACEAAAAAAAAD4PwAAAAAAAAhAAAAAAAAA+D8AAAAAAAAIQAAAAAAAAAhAAAAAAAAACEAAAAAAAAAIQAAAAAAAAAhAAAAAAAAA8D8AAAAAAAD4PwAAAAAAAAhAAAAAAAAACEAAAAAAAAAIQAAAAAAAAAhAAAAAAAAACEAAAAAAAAAIQAAAAAAAAAhAAAAAAAAACEAAAAAAAAAAQAAAAAAAAPA/AAAAAAAA8D8AAAAAAAAAQAAAAAAAAABAAAAAAAAA8D8AAAAAAADwPwAAAAAAAOA/AAAAAAAAAEAAAAAAAAAAQAAAAAAAAABAAAAAAAAAAEAAAAAAAAAAQAAAAAAAAABAAAAAAAAAAEAAAAAAAAAAQAAAAAAAAPA/AAAAAAAAAEAAAAAAAADwPwAAAAAAAPA/AAAAAAAAAEAAAAAAAAAAQAAAAAAAAABAAAAAAAAAAEAAAAAAAAAAQAAAAAAAAPA/AAAAAAAAAEAAAAAAAAAAQAAAAAAAAABAAAAAAAAAAEAAAAAAAAAAQAAAAAAAAPA/AAAAAAAA8D8AAAAAAADwPwAAAAAAAPA/AAAAAAAA8D8AAAAAAADwPwAAAAAAAPA/AAAAAAAA8D8AAAAAAADwPwAAAAAAAPA/AAAAAAAA8D8AAAAAAADgPwAAAAAAAPA/AAAAAAAA8D8AAAAAAADgPx+F61G4HtU/AAAAAAAA4D8AAAAAAADwPwAAAAAAAOA/AAAAAAAA8D8AAAAAAADwPwAAAAAAAPA/AAAAAAAA8D8AAAAAAADwPwAAAAAAAPA/AAAAAAAA8D8AAAAAAADgPwAAAAAAAPA/AAAAAAAA8D8AAAAAAADwPwAAAAAAAPA/AAAAAAAA4D8AAAAAAADgPwAAAAAAAOA/AAAAAAAAAAAAAAAAAAAAAAAAAAAAAAAAAAAAAAAAAAAAAAAAAAAAAAAAAAAAAAAAAAAAAAAAAAAAAAAAAAAAAAAAAAAAAAAAAAAAAAAAAAAAAAAAAAAAAAAAAAAAAAAAAAAAAAAAAAAAAAAAAAAAAAAAAAAAAAAAAAAAAAAAAAAAAAAAAAAAAAAAAAAAAAAAAAAAAAAAAAAAAAAAAAAAAAAAAAAAAAAAAAAAAAAAAAAAAAAAAAAAAAAAAAAAAAAAAAAAAAAAAAAAAAAAAAAAAAAAAAAAAAAAAAAAAAAAAAAAAAAAAAAAAAAAAAAAAAAAAAAAAAAAAAAAAAAAAAAAAAAAAAAAAAAAAAAAAAAAAAAAAAAAAAAAAAAAAAAAAAAAAAAAAAAAAAAAAAAAAAAAAAAAAAAAAAAAAAAAAAAAAAAAAAAAAAAAAAAAAAAAAAAAAAAAAAAAAAAAAAAAAAAAAAAAAAAAAAAAAAAAAAAAAAAAAAAAAAAAAAAAAAAAAAAA",
          "dtype": "f8"
         },
         "xaxis": "x",
         "yaxis": "y"
        },
        {
         "boxpoints": "all",
         "fillcolor": "rgba(255,255,255,0)",
         "hoveron": "points",
         "hovertemplate": "Ave=%{x}<extra></extra>",
         "jitter": 0,
         "legendgroup": "",
         "line": {
          "color": "rgba(255,255,255,0)"
         },
         "marker": {
          "color": "#636efa",
          "symbol": "line-ns-open"
         },
         "name": "",
         "showlegend": false,
         "type": "box",
         "x": {
          "bdata": "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",
          "dtype": "f8"
         },
         "xaxis": "x2",
         "yaxis": "y2"
        }
       ],
       "layout": {
        "barmode": "relative",
        "legend": {
         "tracegroupgap": 0
        },
        "template": {
         "data": {
          "bar": [
           {
            "error_x": {
             "color": "#2a3f5f"
            },
            "error_y": {
             "color": "#2a3f5f"
            },
            "marker": {
             "line": {
              "color": "#E5ECF6",
              "width": 0.5
             },
             "pattern": {
              "fillmode": "overlay",
              "size": 10,
              "solidity": 0.2
             }
            },
            "type": "bar"
           }
          ],
          "barpolar": [
           {
            "marker": {
             "line": {
              "color": "#E5ECF6",
              "width": 0.5
             },
             "pattern": {
              "fillmode": "overlay",
              "size": 10,
              "solidity": 0.2
             }
            },
            "type": "barpolar"
           }
          ],
          "carpet": [
           {
            "aaxis": {
             "endlinecolor": "#2a3f5f",
             "gridcolor": "white",
             "linecolor": "white",
             "minorgridcolor": "white",
             "startlinecolor": "#2a3f5f"
            },
            "baxis": {
             "endlinecolor": "#2a3f5f",
             "gridcolor": "white",
             "linecolor": "white",
             "minorgridcolor": "white",
             "startlinecolor": "#2a3f5f"
            },
            "type": "carpet"
           }
          ],
          "choropleth": [
           {
            "colorbar": {
             "outlinewidth": 0,
             "ticks": ""
            },
            "type": "choropleth"
           }
          ],
          "contour": [
           {
            "colorbar": {
             "outlinewidth": 0,
             "ticks": ""
            },
            "colorscale": [
             [
              0,
              "#0d0887"
             ],
             [
              0.1111111111111111,
              "#46039f"
             ],
             [
              0.2222222222222222,
              "#7201a8"
             ],
             [
              0.3333333333333333,
              "#9c179e"
             ],
             [
              0.4444444444444444,
              "#bd3786"
             ],
             [
              0.5555555555555556,
              "#d8576b"
             ],
             [
              0.6666666666666666,
              "#ed7953"
             ],
             [
              0.7777777777777778,
              "#fb9f3a"
             ],
             [
              0.8888888888888888,
              "#fdca26"
             ],
             [
              1,
              "#f0f921"
             ]
            ],
            "type": "contour"
           }
          ],
          "contourcarpet": [
           {
            "colorbar": {
             "outlinewidth": 0,
             "ticks": ""
            },
            "type": "contourcarpet"
           }
          ],
          "heatmap": [
           {
            "colorbar": {
             "outlinewidth": 0,
             "ticks": ""
            },
            "colorscale": [
             [
              0,
              "#0d0887"
             ],
             [
              0.1111111111111111,
              "#46039f"
             ],
             [
              0.2222222222222222,
              "#7201a8"
             ],
             [
              0.3333333333333333,
              "#9c179e"
             ],
             [
              0.4444444444444444,
              "#bd3786"
             ],
             [
              0.5555555555555556,
              "#d8576b"
             ],
             [
              0.6666666666666666,
              "#ed7953"
             ],
             [
              0.7777777777777778,
              "#fb9f3a"
             ],
             [
              0.8888888888888888,
              "#fdca26"
             ],
             [
              1,
              "#f0f921"
             ]
            ],
            "type": "heatmap"
           }
          ],
          "histogram": [
           {
            "marker": {
             "pattern": {
              "fillmode": "overlay",
              "size": 10,
              "solidity": 0.2
             }
            },
            "type": "histogram"
           }
          ],
          "histogram2d": [
           {
            "colorbar": {
             "outlinewidth": 0,
             "ticks": ""
            },
            "colorscale": [
             [
              0,
              "#0d0887"
             ],
             [
              0.1111111111111111,
              "#46039f"
             ],
             [
              0.2222222222222222,
              "#7201a8"
             ],
             [
              0.3333333333333333,
              "#9c179e"
             ],
             [
              0.4444444444444444,
              "#bd3786"
             ],
             [
              0.5555555555555556,
              "#d8576b"
             ],
             [
              0.6666666666666666,
              "#ed7953"
             ],
             [
              0.7777777777777778,
              "#fb9f3a"
             ],
             [
              0.8888888888888888,
              "#fdca26"
             ],
             [
              1,
              "#f0f921"
             ]
            ],
            "type": "histogram2d"
           }
          ],
          "histogram2dcontour": [
           {
            "colorbar": {
             "outlinewidth": 0,
             "ticks": ""
            },
            "colorscale": [
             [
              0,
              "#0d0887"
             ],
             [
              0.1111111111111111,
              "#46039f"
             ],
             [
              0.2222222222222222,
              "#7201a8"
             ],
             [
              0.3333333333333333,
              "#9c179e"
             ],
             [
              0.4444444444444444,
              "#bd3786"
             ],
             [
              0.5555555555555556,
              "#d8576b"
             ],
             [
              0.6666666666666666,
              "#ed7953"
             ],
             [
              0.7777777777777778,
              "#fb9f3a"
             ],
             [
              0.8888888888888888,
              "#fdca26"
             ],
             [
              1,
              "#f0f921"
             ]
            ],
            "type": "histogram2dcontour"
           }
          ],
          "mesh3d": [
           {
            "colorbar": {
             "outlinewidth": 0,
             "ticks": ""
            },
            "type": "mesh3d"
           }
          ],
          "parcoords": [
           {
            "line": {
             "colorbar": {
              "outlinewidth": 0,
              "ticks": ""
             }
            },
            "type": "parcoords"
           }
          ],
          "pie": [
           {
            "automargin": true,
            "type": "pie"
           }
          ],
          "scatter": [
           {
            "fillpattern": {
             "fillmode": "overlay",
             "size": 10,
             "solidity": 0.2
            },
            "type": "scatter"
           }
          ],
          "scatter3d": [
           {
            "line": {
             "colorbar": {
              "outlinewidth": 0,
              "ticks": ""
             }
            },
            "marker": {
             "colorbar": {
              "outlinewidth": 0,
              "ticks": ""
             }
            },
            "type": "scatter3d"
           }
          ],
          "scattercarpet": [
           {
            "marker": {
             "colorbar": {
              "outlinewidth": 0,
              "ticks": ""
             }
            },
            "type": "scattercarpet"
           }
          ],
          "scattergeo": [
           {
            "marker": {
             "colorbar": {
              "outlinewidth": 0,
              "ticks": ""
             }
            },
            "type": "scattergeo"
           }
          ],
          "scattergl": [
           {
            "marker": {
             "colorbar": {
              "outlinewidth": 0,
              "ticks": ""
             }
            },
            "type": "scattergl"
           }
          ],
          "scattermap": [
           {
            "marker": {
             "colorbar": {
              "outlinewidth": 0,
              "ticks": ""
             }
            },
            "type": "scattermap"
           }
          ],
          "scattermapbox": [
           {
            "marker": {
             "colorbar": {
              "outlinewidth": 0,
              "ticks": ""
             }
            },
            "type": "scattermapbox"
           }
          ],
          "scatterpolar": [
           {
            "marker": {
             "colorbar": {
              "outlinewidth": 0,
              "ticks": ""
             }
            },
            "type": "scatterpolar"
           }
          ],
          "scatterpolargl": [
           {
            "marker": {
             "colorbar": {
              "outlinewidth": 0,
              "ticks": ""
             }
            },
            "type": "scatterpolargl"
           }
          ],
          "scatterternary": [
           {
            "marker": {
             "colorbar": {
              "outlinewidth": 0,
              "ticks": ""
             }
            },
            "type": "scatterternary"
           }
          ],
          "surface": [
           {
            "colorbar": {
             "outlinewidth": 0,
             "ticks": ""
            },
            "colorscale": [
             [
              0,
              "#0d0887"
             ],
             [
              0.1111111111111111,
              "#46039f"
             ],
             [
              0.2222222222222222,
              "#7201a8"
             ],
             [
              0.3333333333333333,
              "#9c179e"
             ],
             [
              0.4444444444444444,
              "#bd3786"
             ],
             [
              0.5555555555555556,
              "#d8576b"
             ],
             [
              0.6666666666666666,
              "#ed7953"
             ],
             [
              0.7777777777777778,
              "#fb9f3a"
             ],
             [
              0.8888888888888888,
              "#fdca26"
             ],
             [
              1,
              "#f0f921"
             ]
            ],
            "type": "surface"
           }
          ],
          "table": [
           {
            "cells": {
             "fill": {
              "color": "#EBF0F8"
             },
             "line": {
              "color": "white"
             }
            },
            "header": {
             "fill": {
              "color": "#C8D4E3"
             },
             "line": {
              "color": "white"
             }
            },
            "type": "table"
           }
          ]
         },
         "layout": {
          "annotationdefaults": {
           "arrowcolor": "#2a3f5f",
           "arrowhead": 0,
           "arrowwidth": 1
          },
          "autotypenumbers": "strict",
          "coloraxis": {
           "colorbar": {
            "outlinewidth": 0,
            "ticks": ""
           }
          },
          "colorscale": {
           "diverging": [
            [
             0,
             "#8e0152"
            ],
            [
             0.1,
             "#c51b7d"
            ],
            [
             0.2,
             "#de77ae"
            ],
            [
             0.3,
             "#f1b6da"
            ],
            [
             0.4,
             "#fde0ef"
            ],
            [
             0.5,
             "#f7f7f7"
            ],
            [
             0.6,
             "#e6f5d0"
            ],
            [
             0.7,
             "#b8e186"
            ],
            [
             0.8,
             "#7fbc41"
            ],
            [
             0.9,
             "#4d9221"
            ],
            [
             1,
             "#276419"
            ]
           ],
           "sequential": [
            [
             0,
             "#0d0887"
            ],
            [
             0.1111111111111111,
             "#46039f"
            ],
            [
             0.2222222222222222,
             "#7201a8"
            ],
            [
             0.3333333333333333,
             "#9c179e"
            ],
            [
             0.4444444444444444,
             "#bd3786"
            ],
            [
             0.5555555555555556,
             "#d8576b"
            ],
            [
             0.6666666666666666,
             "#ed7953"
            ],
            [
             0.7777777777777778,
             "#fb9f3a"
            ],
            [
             0.8888888888888888,
             "#fdca26"
            ],
            [
             1,
             "#f0f921"
            ]
           ],
           "sequentialminus": [
            [
             0,
             "#0d0887"
            ],
            [
             0.1111111111111111,
             "#46039f"
            ],
            [
             0.2222222222222222,
             "#7201a8"
            ],
            [
             0.3333333333333333,
             "#9c179e"
            ],
            [
             0.4444444444444444,
             "#bd3786"
            ],
            [
             0.5555555555555556,
             "#d8576b"
            ],
            [
             0.6666666666666666,
             "#ed7953"
            ],
            [
             0.7777777777777778,
             "#fb9f3a"
            ],
            [
             0.8888888888888888,
             "#fdca26"
            ],
            [
             1,
             "#f0f921"
            ]
           ]
          },
          "colorway": [
           "#636efa",
           "#EF553B",
           "#00cc96",
           "#ab63fa",
           "#FFA15A",
           "#19d3f3",
           "#FF6692",
           "#B6E880",
           "#FF97FF",
           "#FECB52"
          ],
          "font": {
           "color": "#2a3f5f"
          },
          "geo": {
           "bgcolor": "white",
           "lakecolor": "white",
           "landcolor": "#E5ECF6",
           "showlakes": true,
           "showland": true,
           "subunitcolor": "white"
          },
          "hoverlabel": {
           "align": "left"
          },
          "hovermode": "closest",
          "mapbox": {
           "style": "light"
          },
          "paper_bgcolor": "white",
          "plot_bgcolor": "#E5ECF6",
          "polar": {
           "angularaxis": {
            "gridcolor": "white",
            "linecolor": "white",
            "ticks": ""
           },
           "bgcolor": "#E5ECF6",
           "radialaxis": {
            "gridcolor": "white",
            "linecolor": "white",
            "ticks": ""
           }
          },
          "scene": {
           "xaxis": {
            "backgroundcolor": "#E5ECF6",
            "gridcolor": "white",
            "gridwidth": 2,
            "linecolor": "white",
            "showbackground": true,
            "ticks": "",
            "zerolinecolor": "white"
           },
           "yaxis": {
            "backgroundcolor": "#E5ECF6",
            "gridcolor": "white",
            "gridwidth": 2,
            "linecolor": "white",
            "showbackground": true,
            "ticks": "",
            "zerolinecolor": "white"
           },
           "zaxis": {
            "backgroundcolor": "#E5ECF6",
            "gridcolor": "white",
            "gridwidth": 2,
            "linecolor": "white",
            "showbackground": true,
            "ticks": "",
            "zerolinecolor": "white"
           }
          },
          "shapedefaults": {
           "line": {
            "color": "#2a3f5f"
           }
          },
          "ternary": {
           "aaxis": {
            "gridcolor": "white",
            "linecolor": "white",
            "ticks": ""
           },
           "baxis": {
            "gridcolor": "white",
            "linecolor": "white",
            "ticks": ""
           },
           "bgcolor": "#E5ECF6",
           "caxis": {
            "gridcolor": "white",
            "linecolor": "white",
            "ticks": ""
           }
          },
          "title": {
           "x": 0.05
          },
          "xaxis": {
           "automargin": true,
           "gridcolor": "white",
           "linecolor": "white",
           "ticks": "",
           "title": {
            "standoff": 15
           },
           "zerolinecolor": "white",
           "zerolinewidth": 2
          },
          "yaxis": {
           "automargin": true,
           "gridcolor": "white",
           "linecolor": "white",
           "ticks": "",
           "title": {
            "standoff": 15
           },
           "zerolinecolor": "white",
           "zerolinewidth": 2
          }
         }
        },
        "title": {
         "text": " Distribution of Batting Averages"
        },
        "xaxis": {
         "anchor": "y",
         "domain": [
          0,
          1
         ],
         "title": {
          "text": "Ave"
         }
        },
        "xaxis2": {
         "anchor": "y2",
         "domain": [
          0,
          1
         ],
         "matches": "x",
         "showgrid": true,
         "showticklabels": false
        },
        "yaxis": {
         "anchor": "x",
         "domain": [
          0,
          0.8316
         ],
         "title": {
          "text": "count"
         }
        },
        "yaxis2": {
         "anchor": "x2",
         "domain": [
          0.8416,
          1
         ],
         "matches": "y2",
         "showgrid": false,
         "showline": false,
         "showticklabels": false,
         "ticks": ""
        }
       }
      },
      "image/png": "[encoded data removed]"
     },
     "metadata": {},
     "output_type": "display_data"
    }
   ],
   "source": [
    "fig = px.histogram(df, x='Ave', nbins=50, marginal='rug',\n",
    "                   title=' Distribution of Batting Averages')\n",
    "fig.show()"
   ]
  },
  {
   "cell_type": "code",
   "execution_count": 182,
   "id": "0664eaae-a64d-4e9a-a081-e58c4263a10a",
   "metadata": {},
   "outputs": [
    {
     "data": {
      "application/vnd.plotly.v1+json": {
       "config": {
        "plotlyServerURL": "https://plot.ly"
       },
       "data": [
        {
         "alignmentgroup": "True",
         "hovertemplate": "100=%{x}<br>Ave=%{y}<extra></extra>",
         "legendgroup": "",
         "marker": {
          "color": "#636efa"
         },
         "name": "",
         "notched": false,
         "offsetgroup": "",
         "orientation": "v",
         "showlegend": false,
         "type": "box",
         "x": {
          "bdata": "MRkeHBMKKxEWDAoZExYPEBkHCxwUCw4RCxIUDxsVBggIAwkECA0HBRAKDwYLDQQLEAsGCgMJCgUKDQcFBwUCEAkDBQcJBQUKAhEMAwQGBQsHBAsABAUGAxEEDgUDBAEEDwQJBgEJAgwIBgQICwQDAQIBAwUJCAIBAAMCAQUFBAIBAQECAwMEAwIJAQsBAAUFBAIHAgIEAQQFAwgCAgMABQEJAwQBAAEHAgMFBggBAAEDAwAGBgEHAwIEAgQBAQYEAwQDAAAEAQYBAQMCAgAAAwECAAQCAAgAAAEBAQIBAAMAAgEAAQIBAAIEAgAAAgACAQIAAAACAwECAAEFAAABAgABAwAAAAIHAQIAAQMCBAAAAAIDAQEBBAICAAIABQEAAAIAAQEAAQEBAwUBAgAAAgEAAwEAAgABAQAAAQAAAAIAAgABAQAAAAABAQACAAADAAEBAgEAAAEBAAEAAAAAAgIAAQIAAQAAAgAAAQAAAQAAAQAAAQMBAAEAAAEAAAAAAAEAAgAAAAAAAQAAAQABAAAAAAEAAQAAAAEAAAABAAAAAAABAwEAAAAAAQAAAQACAgQAAAIAAAADAQEBAAACAAAAAAABAgABAAAAAQAAAQEAAAAAAQAAAAEAAAAAAAABAQAAAQABAAEAAAAAAAIAAQEAAgAAAAAAAAAAAAEBAQAAAAAAAAAAAAEAAAAAAAEAAAAAAAAAAQAAAAAAAAAAAAEAAQAAAAIAAAEAAAABAQEAAAAAAAAAAQAAAAAAAAAAAAABAAAAAAAAAAAAAAAAAAAAAAAAAAAAAAAAAAAAAAAAAAEAAAAAAAAAAAAAAQAAAAAAAgABAAEAAAAAAAABAAABAAABAQAAAQAAAAAAAQAAAAAAAAAAAAAAAAAAAQABAAAAAAACAAAAAAAAAAACAQAAAAAAAAAAAAAAAAAAAAAAAAABAAAAAAAAAAEAAAAAAAAAAQAAAAAAAAAAAAAAAAABAAAAAAAAAAEAAAAAAAAAAAAAAQAAAAAAAQAAAAABAAAAAAAAAAAAAAAAAAAAAAAAAAAAAAAAAAAAAAAAAAAAAAABAQAAAAAAAAAAAAAAAAAAAAAAAAAAAAAAAAAAAAAAAAAAAAAAAQAAAAEAAAAAAAEAAAAAAAAAAAAAAAAAAQEAAAEAAAAAAQAAAAEAAAAAAAAAAAAAAAAAAAAAAAAAAAAAAAEAAAAAAAABAAEAAAAAAAAAAAAAAAAAAAAAAAAAAAAAAAAAAAAAAAAAAAAAAAAAAAABAAAAAAAAAAAAAAAAAAAAAQAAAAAAAAAAAAAAAAAAAAAAAAAAAAAAAAAAAAAAAAAAAAAAAAAAAAAAAAAAAAAAAAAAAAAAAAABAQAAAAAAAAAAAAEAAAAAAAAAAQAAAAAAAAAAAAAAAAAAAAAAAAAAAAAAAAAAAAAAAAAAAAAAAAAAAAAAAAAAAAAAAAAAAAAAAAAAAAAAAAAAAAAAAAAAAAAAAAAAAAAAAAAAAAAAAAAAAAAAAAAAAAAAAAAAAAAAAAAAAAAAAAAAAAAAAAAAAAAAAAAAAAAAAAAAAAAAAAAAAAAAAAAAAAAAAAAAAAAAAAAAAAAAAAAAAAAAAAAAAAAAAAAAAAAAAAAAAAAAAAAAAAAAAAAAAAAAAAAAAAAAAAAAAAAAAAAAAAAAAAAAAAAAAAAAAAAAAAAAAAAAAAAAAAAAAAAAAAAAAAAAAAAAAAAAAAAAAAAAAAAAAAAAAAAAAAAAAAAAAAAAAAAAAAAAAAAAAAAAAAAAAAAAAAAAAAAAAAAAAAAAAAAAAAAAAAAAAAAAAAAAAAAAAAAAAAAAAAAAAAAAAAAAAAAAAAAAAAAAAAAAAAAAAAAAAAAAAAAAAAAAAAAAAAAAAAAAAAAAAAAAAAAAAAAAAAAAAAAAAAAAAAAAAAAAAAAAAAAAAAAAAAAAAAAAAAAAAAAAAAAAAAAAAAAAAAAAAAAAAAAAAAAAAAAAAAAAAAAAAAAAAAAAAAAAAAAAAAAAAAAAAAAAAAAAAAAAAAAAAAAAAAAAAAAAAAAAAAAAAAAAAAAAAAAAAAAAAAAAAAAAAAAAAAAAAAAAAAAAAAAAAAAAAAAAAAAAAAAAAAAAAAAAAAAAAAAAAAAAAAAAAAAAAAAAAAAAAAAAAAAAAAAAAAAAAAAAAAAAAAAAAAAAAAAAAAAAAAAAAAAAAAAAAAAAAAAAAAAAAAAAAAAAAAAAAAAAAAAAAAAAAAAAAAAAAAAAAAAAAAAAAAAAAAAAAAAAAAAAAAAAAAAAAAAAAAAAAAAAAAAAAAAAAAAAAAAAAAAAAAAAAAAAAAAAAAAAAAAAAAAAAAAAAAAAAAAAAAAAAAAAAAAAAAAAAAAAAAAAAAAAAAAAAAAAAAAAAAAAAAAAAAAAAAAAAAAAAAAAAAAAAAAAAAAAAAAAAAAAAAAAAAAAAAAAAAAAAAAAAAAAAAAAAAAAAAAAAAAAAAAAAAAAAAAAAAAAAAAAAAAAAAAAAAAAAAAAAAAAAAAAAAAAAAAAAAAAAAAAAAAAAAAAAAAAAAAAAAAAAAAAAAAAAAAAAAAAAAAAAAAAAAAAAAAAAAAAAAAAAAAAAAAAAAAAAAAAAAAAAAAAAAAAAAAAAAAAAAAAAAAAAAAAAAAAAAAAAAAAAAAAAAAAAAAAAAAAAAAAAAAAAAAAAAAAAAAAAAAAAAAAAAAAAAAAAAAAAAAAAAAAAAAAAAAAAAAAAAAAAAAAAAAAAAAAAAAAAAAAAAAAAAAAAAAAAAAAAAAAAAAAAAAAAAAAAAAAAAAAAAAAAAAAAAAAAAAAAAAAAAAAAAAAAAAAAAAAAAAAAAAAAAAAAAAAAAAAAAAAAAAAAAAAAAAAAAAAAAAAAAAAAAAAAAAAAAAAAAAAAAAAAAAAAAAAAAAAAAAAAAAAAAAAAAAAAAAAAAAAAAAAAAAAAAAAAAAAAAAAAAAAAAAAAAAAAAAAAAAAAAAAAAAAAAAAAAAAAAAAAAAAAAAAAAAAAAAAAAAAAAAAAAAAAAAAAAAAAAAAAAAAAAAAAAAAAAAAAAAAAAAAAAAAAAAAAAAAAAAAAAAAAAAAAAAAAAAAAAAAAAAAAAAAAAAAAAAAAAAAAAAAAAAAAAAAAAAAAAAAAAAAAAAAAAAAAAAAAAAAAAAAAAAAAAAA",
          "dtype": "i1"
         },
         "x0": " ",
         "xaxis": "x",
         "y": {
          "bdata": "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",
          "dtype": "f8"
         },
         "y0": " ",
         "yaxis": "y"
        }
       ],
       "layout": {
        "boxmode": "group",
        "legend": {
         "tracegroupgap": 0
        },
        "template": {
         "data": {
          "bar": [
           {
            "error_x": {
             "color": "#2a3f5f"
            },
            "error_y": {
             "color": "#2a3f5f"
            },
            "marker": {
             "line": {
              "color": "#E5ECF6",
              "width": 0.5
             },
             "pattern": {
              "fillmode": "overlay",
              "size": 10,
              "solidity": 0.2
             }
            },
            "type": "bar"
           }
          ],
          "barpolar": [
           {
            "marker": {
             "line": {
              "color": "#E5ECF6",
              "width": 0.5
             },
             "pattern": {
              "fillmode": "overlay",
              "size": 10,
              "solidity": 0.2
             }
            },
            "type": "barpolar"
           }
          ],
          "carpet": [
           {
            "aaxis": {
             "endlinecolor": "#2a3f5f",
             "gridcolor": "white",
             "linecolor": "white",
             "minorgridcolor": "white",
             "startlinecolor": "#2a3f5f"
            },
            "baxis": {
             "endlinecolor": "#2a3f5f",
             "gridcolor": "white",
             "linecolor": "white",
             "minorgridcolor": "white",
             "startlinecolor": "#2a3f5f"
            },
            "type": "carpet"
           }
          ],
          "choropleth": [
           {
            "colorbar": {
             "outlinewidth": 0,
             "ticks": ""
            },
            "type": "choropleth"
           }
          ],
          "contour": [
           {
            "colorbar": {
             "outlinewidth": 0,
             "ticks": ""
            },
            "colorscale": [
             [
              0,
              "#0d0887"
             ],
             [
              0.1111111111111111,
              "#46039f"
             ],
             [
              0.2222222222222222,
              "#7201a8"
             ],
             [
              0.3333333333333333,
              "#9c179e"
             ],
             [
              0.4444444444444444,
              "#bd3786"
             ],
             [
              0.5555555555555556,
              "#d8576b"
             ],
             [
              0.6666666666666666,
              "#ed7953"
             ],
             [
              0.7777777777777778,
              "#fb9f3a"
             ],
             [
              0.8888888888888888,
              "#fdca26"
             ],
             [
              1,
              "#f0f921"
             ]
            ],
            "type": "contour"
           }
          ],
          "contourcarpet": [
           {
            "colorbar": {
             "outlinewidth": 0,
             "ticks": ""
            },
            "type": "contourcarpet"
           }
          ],
          "heatmap": [
           {
            "colorbar": {
             "outlinewidth": 0,
             "ticks": ""
            },
            "colorscale": [
             [
              0,
              "#0d0887"
             ],
             [
              0.1111111111111111,
              "#46039f"
             ],
             [
              0.2222222222222222,
              "#7201a8"
             ],
             [
              0.3333333333333333,
              "#9c179e"
             ],
             [
              0.4444444444444444,
              "#bd3786"
             ],
             [
              0.5555555555555556,
              "#d8576b"
             ],
             [
              0.6666666666666666,
              "#ed7953"
             ],
             [
              0.7777777777777778,
              "#fb9f3a"
             ],
             [
              0.8888888888888888,
              "#fdca26"
             ],
             [
              1,
              "#f0f921"
             ]
            ],
            "type": "heatmap"
           }
          ],
          "histogram": [
           {
            "marker": {
             "pattern": {
              "fillmode": "overlay",
              "size": 10,
              "solidity": 0.2
             }
            },
            "type": "histogram"
           }
          ],
          "histogram2d": [
           {
            "colorbar": {
             "outlinewidth": 0,
             "ticks": ""
            },
            "colorscale": [
             [
              0,
              "#0d0887"
             ],
             [
              0.1111111111111111,
              "#46039f"
             ],
             [
              0.2222222222222222,
              "#7201a8"
             ],
             [
              0.3333333333333333,
              "#9c179e"
             ],
             [
              0.4444444444444444,
              "#bd3786"
             ],
             [
              0.5555555555555556,
              "#d8576b"
             ],
             [
              0.6666666666666666,
              "#ed7953"
             ],
             [
              0.7777777777777778,
              "#fb9f3a"
             ],
             [
              0.8888888888888888,
              "#fdca26"
             ],
             [
              1,
              "#f0f921"
             ]
            ],
            "type": "histogram2d"
           }
          ],
          "histogram2dcontour": [
           {
            "colorbar": {
             "outlinewidth": 0,
             "ticks": ""
            },
            "colorscale": [
             [
              0,
              "#0d0887"
             ],
             [
              0.1111111111111111,
              "#46039f"
             ],
             [
              0.2222222222222222,
              "#7201a8"
             ],
             [
              0.3333333333333333,
              "#9c179e"
             ],
             [
              0.4444444444444444,
              "#bd3786"
             ],
             [
              0.5555555555555556,
              "#d8576b"
             ],
             [
              0.6666666666666666,
              "#ed7953"
             ],
             [
              0.7777777777777778,
              "#fb9f3a"
             ],
             [
              0.8888888888888888,
              "#fdca26"
             ],
             [
              1,
              "#f0f921"
             ]
            ],
            "type": "histogram2dcontour"
           }
          ],
          "mesh3d": [
           {
            "colorbar": {
             "outlinewidth": 0,
             "ticks": ""
            },
            "type": "mesh3d"
           }
          ],
          "parcoords": [
           {
            "line": {
             "colorbar": {
              "outlinewidth": 0,
              "ticks": ""
             }
            },
            "type": "parcoords"
           }
          ],
          "pie": [
           {
            "automargin": true,
            "type": "pie"
           }
          ],
          "scatter": [
           {
            "fillpattern": {
             "fillmode": "overlay",
             "size": 10,
             "solidity": 0.2
            },
            "type": "scatter"
           }
          ],
          "scatter3d": [
           {
            "line": {
             "colorbar": {
              "outlinewidth": 0,
              "ticks": ""
             }
            },
            "marker": {
             "colorbar": {
              "outlinewidth": 0,
              "ticks": ""
             }
            },
            "type": "scatter3d"
           }
          ],
          "scattercarpet": [
           {
            "marker": {
             "colorbar": {
              "outlinewidth": 0,
              "ticks": ""
             }
            },
            "type": "scattercarpet"
           }
          ],
          "scattergeo": [
           {
            "marker": {
             "colorbar": {
              "outlinewidth": 0,
              "ticks": ""
             }
            },
            "type": "scattergeo"
           }
          ],
          "scattergl": [
           {
            "marker": {
             "colorbar": {
              "outlinewidth": 0,
              "ticks": ""
             }
            },
            "type": "scattergl"
           }
          ],
          "scattermap": [
           {
            "marker": {
             "colorbar": {
              "outlinewidth": 0,
              "ticks": ""
             }
            },
            "type": "scattermap"
           }
          ],
          "scattermapbox": [
           {
            "marker": {
             "colorbar": {
              "outlinewidth": 0,
              "ticks": ""
             }
            },
            "type": "scattermapbox"
           }
          ],
          "scatterpolar": [
           {
            "marker": {
             "colorbar": {
              "outlinewidth": 0,
              "ticks": ""
             }
            },
            "type": "scatterpolar"
           }
          ],
          "scatterpolargl": [
           {
            "marker": {
             "colorbar": {
              "outlinewidth": 0,
              "ticks": ""
             }
            },
            "type": "scatterpolargl"
           }
          ],
          "scatterternary": [
           {
            "marker": {
             "colorbar": {
              "outlinewidth": 0,
              "ticks": ""
             }
            },
            "type": "scatterternary"
           }
          ],
          "surface": [
           {
            "colorbar": {
             "outlinewidth": 0,
             "ticks": ""
            },
            "colorscale": [
             [
              0,
              "#0d0887"
             ],
             [
              0.1111111111111111,
              "#46039f"
             ],
             [
              0.2222222222222222,
              "#7201a8"
             ],
             [
              0.3333333333333333,
              "#9c179e"
             ],
             [
              0.4444444444444444,
              "#bd3786"
             ],
             [
              0.5555555555555556,
              "#d8576b"
             ],
             [
              0.6666666666666666,
              "#ed7953"
             ],
             [
              0.7777777777777778,
              "#fb9f3a"
             ],
             [
              0.8888888888888888,
              "#fdca26"
             ],
             [
              1,
              "#f0f921"
             ]
            ],
            "type": "surface"
           }
          ],
          "table": [
           {
            "cells": {
             "fill": {
              "color": "#EBF0F8"
             },
             "line": {
              "color": "white"
             }
            },
            "header": {
             "fill": {
              "color": "#C8D4E3"
             },
             "line": {
              "color": "white"
             }
            },
            "type": "table"
           }
          ]
         },
         "layout": {
          "annotationdefaults": {
           "arrowcolor": "#2a3f5f",
           "arrowhead": 0,
           "arrowwidth": 1
          },
          "autotypenumbers": "strict",
          "coloraxis": {
           "colorbar": {
            "outlinewidth": 0,
            "ticks": ""
           }
          },
          "colorscale": {
           "diverging": [
            [
             0,
             "#8e0152"
            ],
            [
             0.1,
             "#c51b7d"
            ],
            [
             0.2,
             "#de77ae"
            ],
            [
             0.3,
             "#f1b6da"
            ],
            [
             0.4,
             "#fde0ef"
            ],
            [
             0.5,
             "#f7f7f7"
            ],
            [
             0.6,
             "#e6f5d0"
            ],
            [
             0.7,
             "#b8e186"
            ],
            [
             0.8,
             "#7fbc41"
            ],
            [
             0.9,
             "#4d9221"
            ],
            [
             1,
             "#276419"
            ]
           ],
           "sequential": [
            [
             0,
             "#0d0887"
            ],
            [
             0.1111111111111111,
             "#46039f"
            ],
            [
             0.2222222222222222,
             "#7201a8"
            ],
            [
             0.3333333333333333,
             "#9c179e"
            ],
            [
             0.4444444444444444,
             "#bd3786"
            ],
            [
             0.5555555555555556,
             "#d8576b"
            ],
            [
             0.6666666666666666,
             "#ed7953"
            ],
            [
             0.7777777777777778,
             "#fb9f3a"
            ],
            [
             0.8888888888888888,
             "#fdca26"
            ],
            [
             1,
             "#f0f921"
            ]
           ],
           "sequentialminus": [
            [
             0,
             "#0d0887"
            ],
            [
             0.1111111111111111,
             "#46039f"
            ],
            [
             0.2222222222222222,
             "#7201a8"
            ],
            [
             0.3333333333333333,
             "#9c179e"
            ],
            [
             0.4444444444444444,
             "#bd3786"
            ],
            [
             0.5555555555555556,
             "#d8576b"
            ],
            [
             0.6666666666666666,
             "#ed7953"
            ],
            [
             0.7777777777777778,
             "#fb9f3a"
            ],
            [
             0.8888888888888888,
             "#fdca26"
            ],
            [
             1,
             "#f0f921"
            ]
           ]
          },
          "colorway": [
           "#636efa",
           "#EF553B",
           "#00cc96",
           "#ab63fa",
           "#FFA15A",
           "#19d3f3",
           "#FF6692",
           "#B6E880",
           "#FF97FF",
           "#FECB52"
          ],
          "font": {
           "color": "#2a3f5f"
          },
          "geo": {
           "bgcolor": "white",
           "lakecolor": "white",
           "landcolor": "#E5ECF6",
           "showlakes": true,
           "showland": true,
           "subunitcolor": "white"
          },
          "hoverlabel": {
           "align": "left"
          },
          "hovermode": "closest",
          "mapbox": {
           "style": "light"
          },
          "paper_bgcolor": "white",
          "plot_bgcolor": "#E5ECF6",
          "polar": {
           "angularaxis": {
            "gridcolor": "white",
            "linecolor": "white",
            "ticks": ""
           },
           "bgcolor": "#E5ECF6",
           "radialaxis": {
            "gridcolor": "white",
            "linecolor": "white",
            "ticks": ""
           }
          },
          "scene": {
           "xaxis": {
            "backgroundcolor": "#E5ECF6",
            "gridcolor": "white",
            "gridwidth": 2,
            "linecolor": "white",
            "showbackground": true,
            "ticks": "",
            "zerolinecolor": "white"
           },
           "yaxis": {
            "backgroundcolor": "#E5ECF6",
            "gridcolor": "white",
            "gridwidth": 2,
            "linecolor": "white",
            "showbackground": true,
            "ticks": "",
            "zerolinecolor": "white"
           },
           "zaxis": {
            "backgroundcolor": "#E5ECF6",
            "gridcolor": "white",
            "gridwidth": 2,
            "linecolor": "white",
            "showbackground": true,
            "ticks": "",
            "zerolinecolor": "white"
           }
          },
          "shapedefaults": {
           "line": {
            "color": "#2a3f5f"
           }
          },
          "ternary": {
           "aaxis": {
            "gridcolor": "white",
            "linecolor": "white",
            "ticks": ""
           },
           "baxis": {
            "gridcolor": "white",
            "linecolor": "white",
            "ticks": ""
           },
           "bgcolor": "#E5ECF6",
           "caxis": {
            "gridcolor": "white",
            "linecolor": "white",
            "ticks": ""
           }
          },
          "title": {
           "x": 0.05
          },
          "xaxis": {
           "automargin": true,
           "gridcolor": "white",
           "linecolor": "white",
           "ticks": "",
           "title": {
            "standoff": 15
           },
           "zerolinecolor": "white",
           "zerolinewidth": 2
          },
          "yaxis": {
           "automargin": true,
           "gridcolor": "white",
           "linecolor": "white",
           "ticks": "",
           "title": {
            "standoff": 15
           },
           "zerolinecolor": "white",
           "zerolinewidth": 2
          }
         }
        },
        "title": {
         "text": " Batting Average vs Number of Centuries"
        },
        "xaxis": {
         "anchor": "y",
         "domain": [
          0,
          1
         ],
         "title": {
          "text": "100"
         }
        },
        "yaxis": {
         "anchor": "x",
         "domain": [
          0,
          1
         ],
         "title": {
          "text": "Ave"
         }
        }
       }
      },
      "image/png": "[encoded data removed]"
     },
     "metadata": {},
     "output_type": "display_data"
    }
   ],
   "source": [
    "fig = px.box(df, x='100', y='Ave',\n",
    "             title=' Batting Average vs Number of Centuries')\n",
    "fig.show()"
   ]
  },
  {
   "cell_type": "code",
   "execution_count": 183,
   "id": "fb125ac0-9afc-425b-b331-63a69447d13b",
   "metadata": {},
   "outputs": [
    {
     "data": {
      "image/png": "[encoded data removed]",
      "text/plain": [
       "<Figure size 1000x600 with 2 Axes>"
      ]
     },
     "metadata": {},
     "output_type": "display_data"
    }
   ],
   "source": [
    "plt.figure(figsize=(10, 6))\n",
    "sns.heatmap(df.corr(numeric_only=True), annot=True, cmap='Blues');"
   ]
  },
  {
   "cell_type": "code",
   "execution_count": 184,
   "id": "39d317a5-1f1c-46cc-82d5-a68f1796de6e",
   "metadata": {},
   "outputs": [
    {
     "data": {
      "application/vnd.plotly.v1+json": {
       "config": {
        "plotlyServerURL": "https://plot.ly"
       },
       "data": [
        {
         "hovertemplate": "Inns=%{x}<br>Runs=%{y}<extra></extra>",
         "legendgroup": "",
         "marker": {
          "color": "#636efa",
          "symbol": "circle"
         },
         "mode": "markers",
         "name": "",
         "showlegend": false,
         "type": "scattergl",
         "x": {
          "bdata": "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",
          "dtype": "i2"
         },
         "xaxis": "x",
         "y": {
          "bdata": "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",
          "dtype": "i2"
         },
         "yaxis": "y"
        }
       ],
       "layout": {
        "legend": {
         "tracegroupgap": 0
        },
        "template": {
         "data": {
          "bar": [
           {
            "error_x": {
             "color": "#2a3f5f"
            },
            "error_y": {
             "color": "#2a3f5f"
            },
            "marker": {
             "line": {
              "color": "#E5ECF6",
              "width": 0.5
             },
             "pattern": {
              "fillmode": "overlay",
              "size": 10,
              "solidity": 0.2
             }
            },
            "type": "bar"
           }
          ],
          "barpolar": [
           {
            "marker": {
             "line": {
              "color": "#E5ECF6",
              "width": 0.5
             },
             "pattern": {
              "fillmode": "overlay",
              "size": 10,
              "solidity": 0.2
             }
            },
            "type": "barpolar"
           }
          ],
          "carpet": [
           {
            "aaxis": {
             "endlinecolor": "#2a3f5f",
             "gridcolor": "white",
             "linecolor": "white",
             "minorgridcolor": "white",
             "startlinecolor": "#2a3f5f"
            },
            "baxis": {
             "endlinecolor": "#2a3f5f",
             "gridcolor": "white",
             "linecolor": "white",
             "minorgridcolor": "white",
             "startlinecolor": "#2a3f5f"
            },
            "type": "carpet"
           }
          ],
          "choropleth": [
           {
            "colorbar": {
             "outlinewidth": 0,
             "ticks": ""
            },
            "type": "choropleth"
           }
          ],
          "contour": [
           {
            "colorbar": {
             "outlinewidth": 0,
             "ticks": ""
            },
            "colorscale": [
             [
              0,
              "#0d0887"
             ],
             [
              0.1111111111111111,
              "#46039f"
             ],
             [
              0.2222222222222222,
              "#7201a8"
             ],
             [
              0.3333333333333333,
              "#9c179e"
             ],
             [
              0.4444444444444444,
              "#bd3786"
             ],
             [
              0.5555555555555556,
              "#d8576b"
             ],
             [
              0.6666666666666666,
              "#ed7953"
             ],
             [
              0.7777777777777778,
              "#fb9f3a"
             ],
             [
              0.8888888888888888,
              "#fdca26"
             ],
             [
              1,
              "#f0f921"
             ]
            ],
            "type": "contour"
           }
          ],
          "contourcarpet": [
           {
            "colorbar": {
             "outlinewidth": 0,
             "ticks": ""
            },
            "type": "contourcarpet"
           }
          ],
          "heatmap": [
           {
            "colorbar": {
             "outlinewidth": 0,
             "ticks": ""
            },
            "colorscale": [
             [
              0,
              "#0d0887"
             ],
             [
              0.1111111111111111,
              "#46039f"
             ],
             [
              0.2222222222222222,
              "#7201a8"
             ],
             [
              0.3333333333333333,
              "#9c179e"
             ],
             [
              0.4444444444444444,
              "#bd3786"
             ],
             [
              0.5555555555555556,
              "#d8576b"
             ],
             [
              0.6666666666666666,
              "#ed7953"
             ],
             [
              0.7777777777777778,
              "#fb9f3a"
             ],
             [
              0.8888888888888888,
              "#fdca26"
             ],
             [
              1,
              "#f0f921"
             ]
            ],
            "type": "heatmap"
           }
          ],
          "histogram": [
           {
            "marker": {
             "pattern": {
              "fillmode": "overlay",
              "size": 10,
              "solidity": 0.2
             }
            },
            "type": "histogram"
           }
          ],
          "histogram2d": [
           {
            "colorbar": {
             "outlinewidth": 0,
             "ticks": ""
            },
            "colorscale": [
             [
              0,
              "#0d0887"
             ],
             [
              0.1111111111111111,
              "#46039f"
             ],
             [
              0.2222222222222222,
              "#7201a8"
             ],
             [
              0.3333333333333333,
              "#9c179e"
             ],
             [
              0.4444444444444444,
              "#bd3786"
             ],
             [
              0.5555555555555556,
              "#d8576b"
             ],
             [
              0.6666666666666666,
              "#ed7953"
             ],
             [
              0.7777777777777778,
              "#fb9f3a"
             ],
             [
              0.8888888888888888,
              "#fdca26"
             ],
             [
              1,
              "#f0f921"
             ]
            ],
            "type": "histogram2d"
           }
          ],
          "histogram2dcontour": [
           {
            "colorbar": {
             "outlinewidth": 0,
             "ticks": ""
            },
            "colorscale": [
             [
              0,
              "#0d0887"
             ],
             [
              0.1111111111111111,
              "#46039f"
             ],
             [
              0.2222222222222222,
              "#7201a8"
             ],
             [
              0.3333333333333333,
              "#9c179e"
             ],
             [
              0.4444444444444444,
              "#bd3786"
             ],
             [
              0.5555555555555556,
              "#d8576b"
             ],
             [
              0.6666666666666666,
              "#ed7953"
             ],
             [
              0.7777777777777778,
              "#fb9f3a"
             ],
             [
              0.8888888888888888,
              "#fdca26"
             ],
             [
              1,
              "#f0f921"
             ]
            ],
            "type": "histogram2dcontour"
           }
          ],
          "mesh3d": [
           {
            "colorbar": {
             "outlinewidth": 0,
             "ticks": ""
            },
            "type": "mesh3d"
           }
          ],
          "parcoords": [
           {
            "line": {
             "colorbar": {
              "outlinewidth": 0,
              "ticks": ""
             }
            },
            "type": "parcoords"
           }
          ],
          "pie": [
           {
            "automargin": true,
            "type": "pie"
           }
          ],
          "scatter": [
           {
            "fillpattern": {
             "fillmode": "overlay",
             "size": 10,
             "solidity": 0.2
            },
            "type": "scatter"
           }
          ],
          "scatter3d": [
           {
            "line": {
             "colorbar": {
              "outlinewidth": 0,
              "ticks": ""
             }
            },
            "marker": {
             "colorbar": {
              "outlinewidth": 0,
              "ticks": ""
             }
            },
            "type": "scatter3d"
           }
          ],
          "scattercarpet": [
           {
            "marker": {
             "colorbar": {
              "outlinewidth": 0,
              "ticks": ""
             }
            },
            "type": "scattercarpet"
           }
          ],
          "scattergeo": [
           {
            "marker": {
             "colorbar": {
              "outlinewidth": 0,
              "ticks": ""
             }
            },
            "type": "scattergeo"
           }
          ],
          "scattergl": [
           {
            "marker": {
             "colorbar": {
              "outlinewidth": 0,
              "ticks": ""
             }
            },
            "type": "scattergl"
           }
          ],
          "scattermap": [
           {
            "marker": {
             "colorbar": {
              "outlinewidth": 0,
              "ticks": ""
             }
            },
            "type": "scattermap"
           }
          ],
          "scattermapbox": [
           {
            "marker": {
             "colorbar": {
              "outlinewidth": 0,
              "ticks": ""
             }
            },
            "type": "scattermapbox"
           }
          ],
          "scatterpolar": [
           {
            "marker": {
             "colorbar": {
              "outlinewidth": 0,
              "ticks": ""
             }
            },
            "type": "scatterpolar"
           }
          ],
          "scatterpolargl": [
           {
            "marker": {
             "colorbar": {
              "outlinewidth": 0,
              "ticks": ""
             }
            },
            "type": "scatterpolargl"
           }
          ],
          "scatterternary": [
           {
            "marker": {
             "colorbar": {
              "outlinewidth": 0,
              "ticks": ""
             }
            },
            "type": "scatterternary"
           }
          ],
          "surface": [
           {
            "colorbar": {
             "outlinewidth": 0,
             "ticks": ""
            },
            "colorscale": [
             [
              0,
              "#0d0887"
             ],
             [
              0.1111111111111111,
              "#46039f"
             ],
             [
              0.2222222222222222,
              "#7201a8"
             ],
             [
              0.3333333333333333,
              "#9c179e"
             ],
             [
              0.4444444444444444,
              "#bd3786"
             ],
             [
              0.5555555555555556,
              "#d8576b"
             ],
             [
              0.6666666666666666,
              "#ed7953"
             ],
             [
              0.7777777777777778,
              "#fb9f3a"
             ],
             [
              0.8888888888888888,
              "#fdca26"
             ],
             [
              1,
              "#f0f921"
             ]
            ],
            "type": "surface"
           }
          ],
          "table": [
           {
            "cells": {
             "fill": {
              "color": "#EBF0F8"
             },
             "line": {
              "color": "white"
             }
            },
            "header": {
             "fill": {
              "color": "#C8D4E3"
             },
             "line": {
              "color": "white"
             }
            },
            "type": "table"
           }
          ]
         },
         "layout": {
          "annotationdefaults": {
           "arrowcolor": "#2a3f5f",
           "arrowhead": 0,
           "arrowwidth": 1
          },
          "autotypenumbers": "strict",
          "coloraxis": {
           "colorbar": {
            "outlinewidth": 0,
            "ticks": ""
           }
          },
          "colorscale": {
           "diverging": [
            [
             0,
             "#8e0152"
            ],
            [
             0.1,
             "#c51b7d"
            ],
            [
             0.2,
             "#de77ae"
            ],
            [
             0.3,
             "#f1b6da"
            ],
            [
             0.4,
             "#fde0ef"
            ],
            [
             0.5,
             "#f7f7f7"
            ],
            [
             0.6,
             "#e6f5d0"
            ],
            [
             0.7,
             "#b8e186"
            ],
            [
             0.8,
             "#7fbc41"
            ],
            [
             0.9,
             "#4d9221"
            ],
            [
             1,
             "#276419"
            ]
           ],
           "sequential": [
            [
             0,
             "#0d0887"
            ],
            [
             0.1111111111111111,
             "#46039f"
            ],
            [
             0.2222222222222222,
             "#7201a8"
            ],
            [
             0.3333333333333333,
             "#9c179e"
            ],
            [
             0.4444444444444444,
             "#bd3786"
            ],
            [
             0.5555555555555556,
             "#d8576b"
            ],
            [
             0.6666666666666666,
             "#ed7953"
            ],
            [
             0.7777777777777778,
             "#fb9f3a"
            ],
            [
             0.8888888888888888,
             "#fdca26"
            ],
            [
             1,
             "#f0f921"
            ]
           ],
           "sequentialminus": [
            [
             0,
             "#0d0887"
            ],
            [
             0.1111111111111111,
             "#46039f"
            ],
            [
             0.2222222222222222,
             "#7201a8"
            ],
            [
             0.3333333333333333,
             "#9c179e"
            ],
            [
             0.4444444444444444,
             "#bd3786"
            ],
            [
             0.5555555555555556,
             "#d8576b"
            ],
            [
             0.6666666666666666,
             "#ed7953"
            ],
            [
             0.7777777777777778,
             "#fb9f3a"
            ],
            [
             0.8888888888888888,
             "#fdca26"
            ],
            [
             1,
             "#f0f921"
            ]
           ]
          },
          "colorway": [
           "#636efa",
           "#EF553B",
           "#00cc96",
           "#ab63fa",
           "#FFA15A",
           "#19d3f3",
           "#FF6692",
           "#B6E880",
           "#FF97FF",
           "#FECB52"
          ],
          "font": {
           "color": "#2a3f5f"
          },
          "geo": {
           "bgcolor": "white",
           "lakecolor": "white",
           "landcolor": "#E5ECF6",
           "showlakes": true,
           "showland": true,
           "subunitcolor": "white"
          },
          "hoverlabel": {
           "align": "left"
          },
          "hovermode": "closest",
          "mapbox": {
           "style": "light"
          },
          "paper_bgcolor": "white",
          "plot_bgcolor": "#E5ECF6",
          "polar": {
           "angularaxis": {
            "gridcolor": "white",
            "linecolor": "white",
            "ticks": ""
           },
           "bgcolor": "#E5ECF6",
           "radialaxis": {
            "gridcolor": "white",
            "linecolor": "white",
            "ticks": ""
           }
          },
          "scene": {
           "xaxis": {
            "backgroundcolor": "#E5ECF6",
            "gridcolor": "white",
            "gridwidth": 2,
            "linecolor": "white",
            "showbackground": true,
            "ticks": "",
            "zerolinecolor": "white"
           },
           "yaxis": {
            "backgroundcolor": "#E5ECF6",
            "gridcolor": "white",
            "gridwidth": 2,
            "linecolor": "white",
            "showbackground": true,
            "ticks": "",
            "zerolinecolor": "white"
           },
           "zaxis": {
            "backgroundcolor": "#E5ECF6",
            "gridcolor": "white",
            "gridwidth": 2,
            "linecolor": "white",
            "showbackground": true,
            "ticks": "",
            "zerolinecolor": "white"
           }
          },
          "shapedefaults": {
           "line": {
            "color": "#2a3f5f"
           }
          },
          "ternary": {
           "aaxis": {
            "gridcolor": "white",
            "linecolor": "white",
            "ticks": ""
           },
           "baxis": {
            "gridcolor": "white",
            "linecolor": "white",
            "ticks": ""
           },
           "bgcolor": "#E5ECF6",
           "caxis": {
            "gridcolor": "white",
            "linecolor": "white",
            "ticks": ""
           }
          },
          "title": {
           "x": 0.05
          },
          "xaxis": {
           "automargin": true,
           "gridcolor": "white",
           "linecolor": "white",
           "ticks": "",
           "title": {
            "standoff": 15
           },
           "zerolinecolor": "white",
           "zerolinewidth": 2
          },
          "yaxis": {
           "automargin": true,
           "gridcolor": "white",
           "linecolor": "white",
           "ticks": "",
           "title": {
            "standoff": 15
           },
           "zerolinecolor": "white",
           "zerolinewidth": 2
          }
         }
        },
        "title": {
         "text": "Total Runs with Innings Played"
        },
        "xaxis": {
         "anchor": "y",
         "domain": [
          0,
          1
         ],
         "title": {
          "text": "Inns"
         }
        },
        "yaxis": {
         "anchor": "x",
         "domain": [
          0,
          1
         ],
         "title": {
          "text": "Runs"
         }
        }
       }
      },
      "image/png": "[encoded data removed]"
     },
     "metadata": {},
     "output_type": "display_data"
    }
   ],
   "source": [
    "fig = px.scatter(df, x='Inns', y='Runs', title='Total Runs with Innings Played')\n",
    "fig.show()"
   ]
  },
  {
   "cell_type": "markdown",
   "id": "94f025ce-2ab0-477a-abac-4def01cbf356",
   "metadata": {},
   "source": [
    "## Splitting the dataset"
   ]
  },
  {
   "cell_type": "code",
   "execution_count": 185,
   "id": "3ac7c6cc-69c8-41c3-8b28-b4fb1c020ae2",
   "metadata": {},
   "outputs": [],
   "source": [
    "from sklearn.model_selection import train_test_split\n",
    "from sklearn.preprocessing import StandardScaler\n",
    "X = df[['Inns','NO','BF','100','50']]\n",
    "y = df['Runs']"
   ]
  },
  {
   "cell_type": "markdown",
   "id": "61f95129-37b9-48b5-bc8f-273bb49af503",
   "metadata": {},
   "source": [
    "## Data preprocessing"
   ]
  },
  {
   "cell_type": "code",
   "execution_count": 186,
   "id": "59dfbe34-9e1a-4074-a067-6d30da26c98d",
   "metadata": {},
   "outputs": [],
   "source": [
    "X_train, X_test, y_train, y_test = train_test_split(X, y, test_size=0.2, random_state=42)\n",
    "scaler = StandardScaler()\n",
    "X_train_scale = scaler.fit_transform(X_train)\n",
    "X_test_scale = scaler.transform(X_test)"
   ]
  },
  {
   "cell_type": "markdown",
   "id": "cd9ba668-f4eb-49fd-868d-57ae69ac898c",
   "metadata": {},
   "source": [
    "# Training the model"
   ]
  },
  {
   "cell_type": "markdown",
   "id": "3e0853a2-0947-49ec-bb25-786a6ad52a94",
   "metadata": {},
   "source": [
    "## Using Random Forest Regressor"
   ]
  },
  {
   "cell_type": "code",
   "execution_count": 188,
   "id": "fcc31f46-4f55-49d2-b771-88d3cf543587",
   "metadata": {},
   "outputs": [
    {
     "data": {
      "text/html": [
       "<style>#sk-container-id-5 {\n",
       "  /* Definition of color scheme common for light and dark mode */\n",
       "  --sklearn-color-text: #000;\n",
       "  --sklearn-color-text-muted: #666;\n",
       "  --sklearn-color-line: gray;\n",
       "  /* Definition of color scheme for unfitted estimators */\n",
       "  --sklearn-color-unfitted-level-0: #fff5e6;\n",
       "  --sklearn-color-unfitted-level-1: #f6e4d2;\n",
       "  --sklearn-color-unfitted-level-2: #ffe0b3;\n",
       "  --sklearn-color-unfitted-level-3: chocolate;\n",
       "  /* Definition of color scheme for fitted estimators */\n",
       "  --sklearn-color-fitted-level-0: #f0f8ff;\n",
       "  --sklearn-color-fitted-level-1: #d4ebff;\n",
       "  --sklearn-color-fitted-level-2: #b3dbfd;\n",
       "  --sklearn-color-fitted-level-3: cornflowerblue;\n",
       "\n",
       "  /* Specific color for light theme */\n",
       "  --sklearn-color-text-on-default-background: var(--sg-text-color, var(--theme-code-foreground, var(--jp-content-font-color1, black)));\n",
       "  --sklearn-color-background: var(--sg-background-color, var(--theme-background, var(--jp-layout-color0, white)));\n",
       "  --sklearn-color-border-box: var(--sg-text-color, var(--theme-code-foreground, var(--jp-content-font-color1, black)));\n",
       "  --sklearn-color-icon: #696969;\n",
       "\n",
       "  @media (prefers-color-scheme: dark) {\n",
       "    /* Redefinition of color scheme for dark theme */\n",
       "    --sklearn-color-text-on-default-background: var(--sg-text-color, var(--theme-code-foreground, var(--jp-content-font-color1, white)));\n",
       "    --sklearn-color-background: var(--sg-background-color, var(--theme-background, var(--jp-layout-color0, #111)));\n",
       "    --sklearn-color-border-box: var(--sg-text-color, var(--theme-code-foreground, var(--jp-content-font-color1, white)));\n",
       "    --sklearn-color-icon: #878787;\n",
       "  }\n",
       "}\n",
       "\n",
       "#sk-container-id-5 {\n",
       "  color: var(--sklearn-color-text);\n",
       "}\n",
       "\n",
       "#sk-container-id-5 pre {\n",
       "  padding: 0;\n",
       "}\n",
       "\n",
       "#sk-container-id-5 input.sk-hidden--visually {\n",
       "  border: 0;\n",
       "  clip: rect(1px 1px 1px 1px);\n",
       "  clip: rect(1px, 1px, 1px, 1px);\n",
       "  height: 1px;\n",
       "  margin: -1px;\n",
       "  overflow: hidden;\n",
       "  padding: 0;\n",
       "  position: absolute;\n",
       "  width: 1px;\n",
       "}\n",
       "\n",
       "#sk-container-id-5 div.sk-dashed-wrapped {\n",
       "  border: 1px dashed var(--sklearn-color-line);\n",
       "  margin: 0 0.4em 0.5em 0.4em;\n",
       "  box-sizing: border-box;\n",
       "  padding-bottom: 0.4em;\n",
       "  background-color: var(--sklearn-color-background);\n",
       "}\n",
       "\n",
       "#sk-container-id-5 div.sk-container {\n",
       "  /* jupyter's `normalize.less` sets `[hidden] { display: none; }`\n",
       "     but bootstrap.min.css set `[hidden] { display: none !important; }`\n",
       "     so we also need the `!important` here to be able to override the\n",
       "     default hidden behavior on the sphinx rendered scikit-learn.org.\n",
       "     See: https://github.com/scikit-learn/scikit-learn/issues/21755 */\n",
       "  display: inline-block !important;\n",
       "  position: relative;\n",
       "}\n",
       "\n",
       "#sk-container-id-5 div.sk-text-repr-fallback {\n",
       "  display: none;\n",
       "}\n",
       "\n",
       "div.sk-parallel-item,\n",
       "div.sk-serial,\n",
       "div.sk-item {\n",
       "  /* draw centered vertical line to link estimators */\n",
       "  background-image: linear-gradient(var(--sklearn-color-text-on-default-background), var(--sklearn-color-text-on-default-background));\n",
       "  background-size: 2px 100%;\n",
       "  background-repeat: no-repeat;\n",
       "  background-position: center center;\n",
       "}\n",
       "\n",
       "/* Parallel-specific style estimator block */\n",
       "\n",
       "#sk-container-id-5 div.sk-parallel-item::after {\n",
       "  content: \"\";\n",
       "  width: 100%;\n",
       "  border-bottom: 2px solid var(--sklearn-color-text-on-default-background);\n",
       "  flex-grow: 1;\n",
       "}\n",
       "\n",
       "#sk-container-id-5 div.sk-parallel {\n",
       "  display: flex;\n",
       "  align-items: stretch;\n",
       "  justify-content: center;\n",
       "  background-color: var(--sklearn-color-background);\n",
       "  position: relative;\n",
       "}\n",
       "\n",
       "#sk-container-id-5 div.sk-parallel-item {\n",
       "  display: flex;\n",
       "  flex-direction: column;\n",
       "}\n",
       "\n",
       "#sk-container-id-5 div.sk-parallel-item:first-child::after {\n",
       "  align-self: flex-end;\n",
       "  width: 50%;\n",
       "}\n",
       "\n",
       "#sk-container-id-5 div.sk-parallel-item:last-child::after {\n",
       "  align-self: flex-start;\n",
       "  width: 50%;\n",
       "}\n",
       "\n",
       "#sk-container-id-5 div.sk-parallel-item:only-child::after {\n",
       "  width: 0;\n",
       "}\n",
       "\n",
       "/* Serial-specific style estimator block */\n",
       "\n",
       "#sk-container-id-5 div.sk-serial {\n",
       "  display: flex;\n",
       "  flex-direction: column;\n",
       "  align-items: center;\n",
       "  background-color: var(--sklearn-color-background);\n",
       "  padding-right: 1em;\n",
       "  padding-left: 1em;\n",
       "}\n",
       "\n",
       "\n",
       "/* Toggleable style: style used for estimator/Pipeline/ColumnTransformer box that is\n",
       "clickable and can be expanded/collapsed.\n",
       "- Pipeline and ColumnTransformer use this feature and define the default style\n",
       "- Estimators will overwrite some part of the style using the `sk-estimator` class\n",
       "*/\n",
       "\n",
       "/* Pipeline and ColumnTransformer style (default) */\n",
       "\n",
       "#sk-container-id-5 div.sk-toggleable {\n",
       "  /* Default theme specific background. It is overwritten whether we have a\n",
       "  specific estimator or a Pipeline/ColumnTransformer */\n",
       "  background-color: var(--sklearn-color-background);\n",
       "}\n",
       "\n",
       "/* Toggleable label */\n",
       "#sk-container-id-5 label.sk-toggleable__label {\n",
       "  cursor: pointer;\n",
       "  display: flex;\n",
       "  width: 100%;\n",
       "  margin-bottom: 0;\n",
       "  padding: 0.5em;\n",
       "  box-sizing: border-box;\n",
       "  text-align: center;\n",
       "  align-items: start;\n",
       "  justify-content: space-between;\n",
       "  gap: 0.5em;\n",
       "}\n",
       "\n",
       "#sk-container-id-5 label.sk-toggleable__label .caption {\n",
       "  font-size: 0.6rem;\n",
       "  font-weight: lighter;\n",
       "  color: var(--sklearn-color-text-muted);\n",
       "}\n",
       "\n",
       "#sk-container-id-5 label.sk-toggleable__label-arrow:before {\n",
       "  /* Arrow on the left of the label */\n",
       "  content: \"▸\";\n",
       "  float: left;\n",
       "  margin-right: 0.25em;\n",
       "  color: var(--sklearn-color-icon);\n",
       "}\n",
       "\n",
       "#sk-container-id-5 label.sk-toggleable__label-arrow:hover:before {\n",
       "  color: var(--sklearn-color-text);\n",
       "}\n",
       "\n",
       "/* Toggleable content - dropdown */\n",
       "\n",
       "#sk-container-id-5 div.sk-toggleable__content {\n",
       "  max-height: 0;\n",
       "  max-width: 0;\n",
       "  overflow: hidden;\n",
       "  text-align: left;\n",
       "  /* unfitted */\n",
       "  background-color: var(--sklearn-color-unfitted-level-0);\n",
       "}\n",
       "\n",
       "#sk-container-id-5 div.sk-toggleable__content.fitted {\n",
       "  /* fitted */\n",
       "  background-color: var(--sklearn-color-fitted-level-0);\n",
       "}\n",
       "\n",
       "#sk-container-id-5 div.sk-toggleable__content pre {\n",
       "  margin: 0.2em;\n",
       "  border-radius: 0.25em;\n",
       "  color: var(--sklearn-color-text);\n",
       "  /* unfitted */\n",
       "  background-color: var(--sklearn-color-unfitted-level-0);\n",
       "}\n",
       "\n",
       "#sk-container-id-5 div.sk-toggleable__content.fitted pre {\n",
       "  /* unfitted */\n",
       "  background-color: var(--sklearn-color-fitted-level-0);\n",
       "}\n",
       "\n",
       "#sk-container-id-5 input.sk-toggleable__control:checked~div.sk-toggleable__content {\n",
       "  /* Expand drop-down */\n",
       "  max-height: 200px;\n",
       "  max-width: 100%;\n",
       "  overflow: auto;\n",
       "}\n",
       "\n",
       "#sk-container-id-5 input.sk-toggleable__control:checked~label.sk-toggleable__label-arrow:before {\n",
       "  content: \"▾\";\n",
       "}\n",
       "\n",
       "/* Pipeline/ColumnTransformer-specific style */\n",
       "\n",
       "#sk-container-id-5 div.sk-label input.sk-toggleable__control:checked~label.sk-toggleable__label {\n",
       "  color: var(--sklearn-color-text);\n",
       "  background-color: var(--sklearn-color-unfitted-level-2);\n",
       "}\n",
       "\n",
       "#sk-container-id-5 div.sk-label.fitted input.sk-toggleable__control:checked~label.sk-toggleable__label {\n",
       "  background-color: var(--sklearn-color-fitted-level-2);\n",
       "}\n",
       "\n",
       "/* Estimator-specific style */\n",
       "\n",
       "/* Colorize estimator box */\n",
       "#sk-container-id-5 div.sk-estimator input.sk-toggleable__control:checked~label.sk-toggleable__label {\n",
       "  /* unfitted */\n",
       "  background-color: var(--sklearn-color-unfitted-level-2);\n",
       "}\n",
       "\n",
       "#sk-container-id-5 div.sk-estimator.fitted input.sk-toggleable__control:checked~label.sk-toggleable__label {\n",
       "  /* fitted */\n",
       "  background-color: var(--sklearn-color-fitted-level-2);\n",
       "}\n",
       "\n",
       "#sk-container-id-5 div.sk-label label.sk-toggleable__label,\n",
       "#sk-container-id-5 div.sk-label label {\n",
       "  /* The background is the default theme color */\n",
       "  color: var(--sklearn-color-text-on-default-background);\n",
       "}\n",
       "\n",
       "/* On hover, darken the color of the background */\n",
       "#sk-container-id-5 div.sk-label:hover label.sk-toggleable__label {\n",
       "  color: var(--sklearn-color-text);\n",
       "  background-color: var(--sklearn-color-unfitted-level-2);\n",
       "}\n",
       "\n",
       "/* Label box, darken color on hover, fitted */\n",
       "#sk-container-id-5 div.sk-label.fitted:hover label.sk-toggleable__label.fitted {\n",
       "  color: var(--sklearn-color-text);\n",
       "  background-color: var(--sklearn-color-fitted-level-2);\n",
       "}\n",
       "\n",
       "/* Estimator label */\n",
       "\n",
       "#sk-container-id-5 div.sk-label label {\n",
       "  font-family: monospace;\n",
       "  font-weight: bold;\n",
       "  display: inline-block;\n",
       "  line-height: 1.2em;\n",
       "}\n",
       "\n",
       "#sk-container-id-5 div.sk-label-container {\n",
       "  text-align: center;\n",
       "}\n",
       "\n",
       "/* Estimator-specific */\n",
       "#sk-container-id-5 div.sk-estimator {\n",
       "  font-family: monospace;\n",
       "  border: 1px dotted var(--sklearn-color-border-box);\n",
       "  border-radius: 0.25em;\n",
       "  box-sizing: border-box;\n",
       "  margin-bottom: 0.5em;\n",
       "  /* unfitted */\n",
       "  background-color: var(--sklearn-color-unfitted-level-0);\n",
       "}\n",
       "\n",
       "#sk-container-id-5 div.sk-estimator.fitted {\n",
       "  /* fitted */\n",
       "  background-color: var(--sklearn-color-fitted-level-0);\n",
       "}\n",
       "\n",
       "/* on hover */\n",
       "#sk-container-id-5 div.sk-estimator:hover {\n",
       "  /* unfitted */\n",
       "  background-color: var(--sklearn-color-unfitted-level-2);\n",
       "}\n",
       "\n",
       "#sk-container-id-5 div.sk-estimator.fitted:hover {\n",
       "  /* fitted */\n",
       "  background-color: var(--sklearn-color-fitted-level-2);\n",
       "}\n",
       "\n",
       "/* Specification for estimator info (e.g. \"i\" and \"?\") */\n",
       "\n",
       "/* Common style for \"i\" and \"?\" */\n",
       "\n",
       ".sk-estimator-doc-link,\n",
       "a:link.sk-estimator-doc-link,\n",
       "a:visited.sk-estimator-doc-link {\n",
       "  float: right;\n",
       "  font-size: smaller;\n",
       "  line-height: 1em;\n",
       "  font-family: monospace;\n",
       "  background-color: var(--sklearn-color-background);\n",
       "  border-radius: 1em;\n",
       "  height: 1em;\n",
       "  width: 1em;\n",
       "  text-decoration: none !important;\n",
       "  margin-left: 0.5em;\n",
       "  text-align: center;\n",
       "  /* unfitted */\n",
       "  border: var(--sklearn-color-unfitted-level-1) 1pt solid;\n",
       "  color: var(--sklearn-color-unfitted-level-1);\n",
       "}\n",
       "\n",
       ".sk-estimator-doc-link.fitted,\n",
       "a:link.sk-estimator-doc-link.fitted,\n",
       "a:visited.sk-estimator-doc-link.fitted {\n",
       "  /* fitted */\n",
       "  border: var(--sklearn-color-fitted-level-1) 1pt solid;\n",
       "  color: var(--sklearn-color-fitted-level-1);\n",
       "}\n",
       "\n",
       "/* On hover */\n",
       "div.sk-estimator:hover .sk-estimator-doc-link:hover,\n",
       ".sk-estimator-doc-link:hover,\n",
       "div.sk-label-container:hover .sk-estimator-doc-link:hover,\n",
       ".sk-estimator-doc-link:hover {\n",
       "  /* unfitted */\n",
       "  background-color: var(--sklearn-color-unfitted-level-3);\n",
       "  color: var(--sklearn-color-background);\n",
       "  text-decoration: none;\n",
       "}\n",
       "\n",
       "div.sk-estimator.fitted:hover .sk-estimator-doc-link.fitted:hover,\n",
       ".sk-estimator-doc-link.fitted:hover,\n",
       "div.sk-label-container:hover .sk-estimator-doc-link.fitted:hover,\n",
       ".sk-estimator-doc-link.fitted:hover {\n",
       "  /* fitted */\n",
       "  background-color: var(--sklearn-color-fitted-level-3);\n",
       "  color: var(--sklearn-color-background);\n",
       "  text-decoration: none;\n",
       "}\n",
       "\n",
       "/* Span, style for the box shown on hovering the info icon */\n",
       ".sk-estimator-doc-link span {\n",
       "  display: none;\n",
       "  z-index: 9999;\n",
       "  position: relative;\n",
       "  font-weight: normal;\n",
       "  right: .2ex;\n",
       "  padding: .5ex;\n",
       "  margin: .5ex;\n",
       "  width: min-content;\n",
       "  min-width: 20ex;\n",
       "  max-width: 50ex;\n",
       "  color: var(--sklearn-color-text);\n",
       "  box-shadow: 2pt 2pt 4pt #999;\n",
       "  /* unfitted */\n",
       "  background: var(--sklearn-color-unfitted-level-0);\n",
       "  border: .5pt solid var(--sklearn-color-unfitted-level-3);\n",
       "}\n",
       "\n",
       ".sk-estimator-doc-link.fitted span {\n",
       "  /* fitted */\n",
       "  background: var(--sklearn-color-fitted-level-0);\n",
       "  border: var(--sklearn-color-fitted-level-3);\n",
       "}\n",
       "\n",
       ".sk-estimator-doc-link:hover span {\n",
       "  display: block;\n",
       "}\n",
       "\n",
       "/* \"?\"-specific style due to the `<a>` HTML tag */\n",
       "\n",
       "#sk-container-id-5 a.estimator_doc_link {\n",
       "  float: right;\n",
       "  font-size: 1rem;\n",
       "  line-height: 1em;\n",
       "  font-family: monospace;\n",
       "  background-color: var(--sklearn-color-background);\n",
       "  border-radius: 1rem;\n",
       "  height: 1rem;\n",
       "  width: 1rem;\n",
       "  text-decoration: none;\n",
       "  /* unfitted */\n",
       "  color: var(--sklearn-color-unfitted-level-1);\n",
       "  border: var(--sklearn-color-unfitted-level-1) 1pt solid;\n",
       "}\n",
       "\n",
       "#sk-container-id-5 a.estimator_doc_link.fitted {\n",
       "  /* fitted */\n",
       "  border: var(--sklearn-color-fitted-level-1) 1pt solid;\n",
       "  color: var(--sklearn-color-fitted-level-1);\n",
       "}\n",
       "\n",
       "/* On hover */\n",
       "#sk-container-id-5 a.estimator_doc_link:hover {\n",
       "  /* unfitted */\n",
       "  background-color: var(--sklearn-color-unfitted-level-3);\n",
       "  color: var(--sklearn-color-background);\n",
       "  text-decoration: none;\n",
       "}\n",
       "\n",
       "#sk-container-id-5 a.estimator_doc_link.fitted:hover {\n",
       "  /* fitted */\n",
       "  background-color: var(--sklearn-color-fitted-level-3);\n",
       "}\n",
       "</style><div id=\"sk-container-id-5\" class=\"sk-top-container\"><div class=\"sk-text-repr-fallback\"><pre>RandomForestRegressor(random_state=42)</pre><b>In a Jupyter environment, please rerun this cell to show the HTML representation or trust the notebook. <br />On GitHub, the HTML representation is unable to render, please try loading this page with nbviewer.org.</b></div><div class=\"sk-container\" hidden><div class=\"sk-item\"><div class=\"sk-estimator fitted sk-toggleable\"><input class=\"sk-toggleable__control sk-hidden--visually\" id=\"sk-estimator-id-7\" type=\"checkbox\" checked><label for=\"sk-estimator-id-7\" class=\"sk-toggleable__label fitted sk-toggleable__label-arrow\"><div><div>RandomForestRegressor</div></div><div><a class=\"sk-estimator-doc-link fitted\" rel=\"noreferrer\" target=\"_blank\" href=\"https://scikit-learn.org/1.6/modules/generated/sklearn.ensemble.RandomForestRegressor.html\">?<span>Documentation for RandomForestRegressor</span></a><span class=\"sk-estimator-doc-link fitted\">i<span>Fitted</span></span></div></label><div class=\"sk-toggleable__content fitted\"><pre>RandomForestRegressor(random_state=42)</pre></div> </div></div></div></div>"
      ],
      "text/plain": [
       "RandomForestRegressor(random_state=42)"
      ]
     },
     "execution_count": 188,
     "metadata": {},
     "output_type": "execute_result"
    }
   ],
   "source": [
    "from sklearn.ensemble import RandomForestRegressor\n",
    "from sklearn.metrics import r2_score, mean_squared_error\n",
    "\n",
    "# Initialize the model\n",
    "rf = RandomForestRegressor(random_state=42)\n",
    "#Train the model\n",
    "rf.fit(X_train_scale, y_train)"
   ]
  },
  {
   "cell_type": "markdown",
   "id": "bae6e167-6b8b-4d68-8c2e-ce06f850a9bf",
   "metadata": {},
   "source": [
    "## Predictions and Evaluation"
   ]
  },
  {
   "cell_type": "code",
   "execution_count": 190,
   "id": "afe5fbc4-1f6c-49f4-89fe-0c7ad56902c6",
   "metadata": {},
   "outputs": [
    {
     "name": "stdout",
     "output_type": "stream",
     "text": [
      "R2 Score (Basic RF): 0.9892564101074862\n",
      "MSE (Basic RF): 19408.123428013707\n"
     ]
    }
   ],
   "source": [
    "y_pred = rf.predict(X_test_scale)\n",
    "print(\"R2 Score (Basic RF):\", r2_score(y_test, y_pred))\n",
    "print(\"MSE (Basic RF):\", mean_squared_error(y_test, y_pred))"
   ]
  },
  {
   "cell_type": "code",
   "execution_count": 191,
   "id": "1f684068-1e7f-499d-ae83-845be760a9bc",
   "metadata": {},
   "outputs": [
    {
     "name": "stdout",
     "output_type": "stream",
     "text": [
      "Fitting 5 folds for each of 27 candidates, totalling 135 fits\n"
     ]
    },
    {
     "data": {
      "text/html": [
       "<style>#sk-container-id-6 {\n",
       "  /* Definition of color scheme common for light and dark mode */\n",
       "  --sklearn-color-text: #000;\n",
       "  --sklearn-color-text-muted: #666;\n",
       "  --sklearn-color-line: gray;\n",
       "  /* Definition of color scheme for unfitted estimators */\n",
       "  --sklearn-color-unfitted-level-0: #fff5e6;\n",
       "  --sklearn-color-unfitted-level-1: #f6e4d2;\n",
       "  --sklearn-color-unfitted-level-2: #ffe0b3;\n",
       "  --sklearn-color-unfitted-level-3: chocolate;\n",
       "  /* Definition of color scheme for fitted estimators */\n",
       "  --sklearn-color-fitted-level-0: #f0f8ff;\n",
       "  --sklearn-color-fitted-level-1: #d4ebff;\n",
       "  --sklearn-color-fitted-level-2: #b3dbfd;\n",
       "  --sklearn-color-fitted-level-3: cornflowerblue;\n",
       "\n",
       "  /* Specific color for light theme */\n",
       "  --sklearn-color-text-on-default-background: var(--sg-text-color, var(--theme-code-foreground, var(--jp-content-font-color1, black)));\n",
       "  --sklearn-color-background: var(--sg-background-color, var(--theme-background, var(--jp-layout-color0, white)));\n",
       "  --sklearn-color-border-box: var(--sg-text-color, var(--theme-code-foreground, var(--jp-content-font-color1, black)));\n",
       "  --sklearn-color-icon: #696969;\n",
       "\n",
       "  @media (prefers-color-scheme: dark) {\n",
       "    /* Redefinition of color scheme for dark theme */\n",
       "    --sklearn-color-text-on-default-background: var(--sg-text-color, var(--theme-code-foreground, var(--jp-content-font-color1, white)));\n",
       "    --sklearn-color-background: var(--sg-background-color, var(--theme-background, var(--jp-layout-color0, #111)));\n",
       "    --sklearn-color-border-box: var(--sg-text-color, var(--theme-code-foreground, var(--jp-content-font-color1, white)));\n",
       "    --sklearn-color-icon: #878787;\n",
       "  }\n",
       "}\n",
       "\n",
       "#sk-container-id-6 {\n",
       "  color: var(--sklearn-color-text);\n",
       "}\n",
       "\n",
       "#sk-container-id-6 pre {\n",
       "  padding: 0;\n",
       "}\n",
       "\n",
       "#sk-container-id-6 input.sk-hidden--visually {\n",
       "  border: 0;\n",
       "  clip: rect(1px 1px 1px 1px);\n",
       "  clip: rect(1px, 1px, 1px, 1px);\n",
       "  height: 1px;\n",
       "  margin: -1px;\n",
       "  overflow: hidden;\n",
       "  padding: 0;\n",
       "  position: absolute;\n",
       "  width: 1px;\n",
       "}\n",
       "\n",
       "#sk-container-id-6 div.sk-dashed-wrapped {\n",
       "  border: 1px dashed var(--sklearn-color-line);\n",
       "  margin: 0 0.4em 0.5em 0.4em;\n",
       "  box-sizing: border-box;\n",
       "  padding-bottom: 0.4em;\n",
       "  background-color: var(--sklearn-color-background);\n",
       "}\n",
       "\n",
       "#sk-container-id-6 div.sk-container {\n",
       "  /* jupyter's `normalize.less` sets `[hidden] { display: none; }`\n",
       "     but bootstrap.min.css set `[hidden] { display: none !important; }`\n",
       "     so we also need the `!important` here to be able to override the\n",
       "     default hidden behavior on the sphinx rendered scikit-learn.org.\n",
       "     See: https://github.com/scikit-learn/scikit-learn/issues/21755 */\n",
       "  display: inline-block !important;\n",
       "  position: relative;\n",
       "}\n",
       "\n",
       "#sk-container-id-6 div.sk-text-repr-fallback {\n",
       "  display: none;\n",
       "}\n",
       "\n",
       "div.sk-parallel-item,\n",
       "div.sk-serial,\n",
       "div.sk-item {\n",
       "  /* draw centered vertical line to link estimators */\n",
       "  background-image: linear-gradient(var(--sklearn-color-text-on-default-background), var(--sklearn-color-text-on-default-background));\n",
       "  background-size: 2px 100%;\n",
       "  background-repeat: no-repeat;\n",
       "  background-position: center center;\n",
       "}\n",
       "\n",
       "/* Parallel-specific style estimator block */\n",
       "\n",
       "#sk-container-id-6 div.sk-parallel-item::after {\n",
       "  content: \"\";\n",
       "  width: 100%;\n",
       "  border-bottom: 2px solid var(--sklearn-color-text-on-default-background);\n",
       "  flex-grow: 1;\n",
       "}\n",
       "\n",
       "#sk-container-id-6 div.sk-parallel {\n",
       "  display: flex;\n",
       "  align-items: stretch;\n",
       "  justify-content: center;\n",
       "  background-color: var(--sklearn-color-background);\n",
       "  position: relative;\n",
       "}\n",
       "\n",
       "#sk-container-id-6 div.sk-parallel-item {\n",
       "  display: flex;\n",
       "  flex-direction: column;\n",
       "}\n",
       "\n",
       "#sk-container-id-6 div.sk-parallel-item:first-child::after {\n",
       "  align-self: flex-end;\n",
       "  width: 50%;\n",
       "}\n",
       "\n",
       "#sk-container-id-6 div.sk-parallel-item:last-child::after {\n",
       "  align-self: flex-start;\n",
       "  width: 50%;\n",
       "}\n",
       "\n",
       "#sk-container-id-6 div.sk-parallel-item:only-child::after {\n",
       "  width: 0;\n",
       "}\n",
       "\n",
       "/* Serial-specific style estimator block */\n",
       "\n",
       "#sk-container-id-6 div.sk-serial {\n",
       "  display: flex;\n",
       "  flex-direction: column;\n",
       "  align-items: center;\n",
       "  background-color: var(--sklearn-color-background);\n",
       "  padding-right: 1em;\n",
       "  padding-left: 1em;\n",
       "}\n",
       "\n",
       "\n",
       "/* Toggleable style: style used for estimator/Pipeline/ColumnTransformer box that is\n",
       "clickable and can be expanded/collapsed.\n",
       "- Pipeline and ColumnTransformer use this feature and define the default style\n",
       "- Estimators will overwrite some part of the style using the `sk-estimator` class\n",
       "*/\n",
       "\n",
       "/* Pipeline and ColumnTransformer style (default) */\n",
       "\n",
       "#sk-container-id-6 div.sk-toggleable {\n",
       "  /* Default theme specific background. It is overwritten whether we have a\n",
       "  specific estimator or a Pipeline/ColumnTransformer */\n",
       "  background-color: var(--sklearn-color-background);\n",
       "}\n",
       "\n",
       "/* Toggleable label */\n",
       "#sk-container-id-6 label.sk-toggleable__label {\n",
       "  cursor: pointer;\n",
       "  display: flex;\n",
       "  width: 100%;\n",
       "  margin-bottom: 0;\n",
       "  padding: 0.5em;\n",
       "  box-sizing: border-box;\n",
       "  text-align: center;\n",
       "  align-items: start;\n",
       "  justify-content: space-between;\n",
       "  gap: 0.5em;\n",
       "}\n",
       "\n",
       "#sk-container-id-6 label.sk-toggleable__label .caption {\n",
       "  font-size: 0.6rem;\n",
       "  font-weight: lighter;\n",
       "  color: var(--sklearn-color-text-muted);\n",
       "}\n",
       "\n",
       "#sk-container-id-6 label.sk-toggleable__label-arrow:before {\n",
       "  /* Arrow on the left of the label */\n",
       "  content: \"▸\";\n",
       "  float: left;\n",
       "  margin-right: 0.25em;\n",
       "  color: var(--sklearn-color-icon);\n",
       "}\n",
       "\n",
       "#sk-container-id-6 label.sk-toggleable__label-arrow:hover:before {\n",
       "  color: var(--sklearn-color-text);\n",
       "}\n",
       "\n",
       "/* Toggleable content - dropdown */\n",
       "\n",
       "#sk-container-id-6 div.sk-toggleable__content {\n",
       "  max-height: 0;\n",
       "  max-width: 0;\n",
       "  overflow: hidden;\n",
       "  text-align: left;\n",
       "  /* unfitted */\n",
       "  background-color: var(--sklearn-color-unfitted-level-0);\n",
       "}\n",
       "\n",
       "#sk-container-id-6 div.sk-toggleable__content.fitted {\n",
       "  /* fitted */\n",
       "  background-color: var(--sklearn-color-fitted-level-0);\n",
       "}\n",
       "\n",
       "#sk-container-id-6 div.sk-toggleable__content pre {\n",
       "  margin: 0.2em;\n",
       "  border-radius: 0.25em;\n",
       "  color: var(--sklearn-color-text);\n",
       "  /* unfitted */\n",
       "  background-color: var(--sklearn-color-unfitted-level-0);\n",
       "}\n",
       "\n",
       "#sk-container-id-6 div.sk-toggleable__content.fitted pre {\n",
       "  /* unfitted */\n",
       "  background-color: var(--sklearn-color-fitted-level-0);\n",
       "}\n",
       "\n",
       "#sk-container-id-6 input.sk-toggleable__control:checked~div.sk-toggleable__content {\n",
       "  /* Expand drop-down */\n",
       "  max-height: 200px;\n",
       "  max-width: 100%;\n",
       "  overflow: auto;\n",
       "}\n",
       "\n",
       "#sk-container-id-6 input.sk-toggleable__control:checked~label.sk-toggleable__label-arrow:before {\n",
       "  content: \"▾\";\n",
       "}\n",
       "\n",
       "/* Pipeline/ColumnTransformer-specific style */\n",
       "\n",
       "#sk-container-id-6 div.sk-label input.sk-toggleable__control:checked~label.sk-toggleable__label {\n",
       "  color: var(--sklearn-color-text);\n",
       "  background-color: var(--sklearn-color-unfitted-level-2);\n",
       "}\n",
       "\n",
       "#sk-container-id-6 div.sk-label.fitted input.sk-toggleable__control:checked~label.sk-toggleable__label {\n",
       "  background-color: var(--sklearn-color-fitted-level-2);\n",
       "}\n",
       "\n",
       "/* Estimator-specific style */\n",
       "\n",
       "/* Colorize estimator box */\n",
       "#sk-container-id-6 div.sk-estimator input.sk-toggleable__control:checked~label.sk-toggleable__label {\n",
       "  /* unfitted */\n",
       "  background-color: var(--sklearn-color-unfitted-level-2);\n",
       "}\n",
       "\n",
       "#sk-container-id-6 div.sk-estimator.fitted input.sk-toggleable__control:checked~label.sk-toggleable__label {\n",
       "  /* fitted */\n",
       "  background-color: var(--sklearn-color-fitted-level-2);\n",
       "}\n",
       "\n",
       "#sk-container-id-6 div.sk-label label.sk-toggleable__label,\n",
       "#sk-container-id-6 div.sk-label label {\n",
       "  /* The background is the default theme color */\n",
       "  color: var(--sklearn-color-text-on-default-background);\n",
       "}\n",
       "\n",
       "/* On hover, darken the color of the background */\n",
       "#sk-container-id-6 div.sk-label:hover label.sk-toggleable__label {\n",
       "  color: var(--sklearn-color-text);\n",
       "  background-color: var(--sklearn-color-unfitted-level-2);\n",
       "}\n",
       "\n",
       "/* Label box, darken color on hover, fitted */\n",
       "#sk-container-id-6 div.sk-label.fitted:hover label.sk-toggleable__label.fitted {\n",
       "  color: var(--sklearn-color-text);\n",
       "  background-color: var(--sklearn-color-fitted-level-2);\n",
       "}\n",
       "\n",
       "/* Estimator label */\n",
       "\n",
       "#sk-container-id-6 div.sk-label label {\n",
       "  font-family: monospace;\n",
       "  font-weight: bold;\n",
       "  display: inline-block;\n",
       "  line-height: 1.2em;\n",
       "}\n",
       "\n",
       "#sk-container-id-6 div.sk-label-container {\n",
       "  text-align: center;\n",
       "}\n",
       "\n",
       "/* Estimator-specific */\n",
       "#sk-container-id-6 div.sk-estimator {\n",
       "  font-family: monospace;\n",
       "  border: 1px dotted var(--sklearn-color-border-box);\n",
       "  border-radius: 0.25em;\n",
       "  box-sizing: border-box;\n",
       "  margin-bottom: 0.5em;\n",
       "  /* unfitted */\n",
       "  background-color: var(--sklearn-color-unfitted-level-0);\n",
       "}\n",
       "\n",
       "#sk-container-id-6 div.sk-estimator.fitted {\n",
       "  /* fitted */\n",
       "  background-color: var(--sklearn-color-fitted-level-0);\n",
       "}\n",
       "\n",
       "/* on hover */\n",
       "#sk-container-id-6 div.sk-estimator:hover {\n",
       "  /* unfitted */\n",
       "  background-color: var(--sklearn-color-unfitted-level-2);\n",
       "}\n",
       "\n",
       "#sk-container-id-6 div.sk-estimator.fitted:hover {\n",
       "  /* fitted */\n",
       "  background-color: var(--sklearn-color-fitted-level-2);\n",
       "}\n",
       "\n",
       "/* Specification for estimator info (e.g. \"i\" and \"?\") */\n",
       "\n",
       "/* Common style for \"i\" and \"?\" */\n",
       "\n",
       ".sk-estimator-doc-link,\n",
       "a:link.sk-estimator-doc-link,\n",
       "a:visited.sk-estimator-doc-link {\n",
       "  float: right;\n",
       "  font-size: smaller;\n",
       "  line-height: 1em;\n",
       "  font-family: monospace;\n",
       "  background-color: var(--sklearn-color-background);\n",
       "  border-radius: 1em;\n",
       "  height: 1em;\n",
       "  width: 1em;\n",
       "  text-decoration: none !important;\n",
       "  margin-left: 0.5em;\n",
       "  text-align: center;\n",
       "  /* unfitted */\n",
       "  border: var(--sklearn-color-unfitted-level-1) 1pt solid;\n",
       "  color: var(--sklearn-color-unfitted-level-1);\n",
       "}\n",
       "\n",
       ".sk-estimator-doc-link.fitted,\n",
       "a:link.sk-estimator-doc-link.fitted,\n",
       "a:visited.sk-estimator-doc-link.fitted {\n",
       "  /* fitted */\n",
       "  border: var(--sklearn-color-fitted-level-1) 1pt solid;\n",
       "  color: var(--sklearn-color-fitted-level-1);\n",
       "}\n",
       "\n",
       "/* On hover */\n",
       "div.sk-estimator:hover .sk-estimator-doc-link:hover,\n",
       ".sk-estimator-doc-link:hover,\n",
       "div.sk-label-container:hover .sk-estimator-doc-link:hover,\n",
       ".sk-estimator-doc-link:hover {\n",
       "  /* unfitted */\n",
       "  background-color: var(--sklearn-color-unfitted-level-3);\n",
       "  color: var(--sklearn-color-background);\n",
       "  text-decoration: none;\n",
       "}\n",
       "\n",
       "div.sk-estimator.fitted:hover .sk-estimator-doc-link.fitted:hover,\n",
       ".sk-estimator-doc-link.fitted:hover,\n",
       "div.sk-label-container:hover .sk-estimator-doc-link.fitted:hover,\n",
       ".sk-estimator-doc-link.fitted:hover {\n",
       "  /* fitted */\n",
       "  background-color: var(--sklearn-color-fitted-level-3);\n",
       "  color: var(--sklearn-color-background);\n",
       "  text-decoration: none;\n",
       "}\n",
       "\n",
       "/* Span, style for the box shown on hovering the info icon */\n",
       ".sk-estimator-doc-link span {\n",
       "  display: none;\n",
       "  z-index: 9999;\n",
       "  position: relative;\n",
       "  font-weight: normal;\n",
       "  right: .2ex;\n",
       "  padding: .5ex;\n",
       "  margin: .5ex;\n",
       "  width: min-content;\n",
       "  min-width: 20ex;\n",
       "  max-width: 50ex;\n",
       "  color: var(--sklearn-color-text);\n",
       "  box-shadow: 2pt 2pt 4pt #999;\n",
       "  /* unfitted */\n",
       "  background: var(--sklearn-color-unfitted-level-0);\n",
       "  border: .5pt solid var(--sklearn-color-unfitted-level-3);\n",
       "}\n",
       "\n",
       ".sk-estimator-doc-link.fitted span {\n",
       "  /* fitted */\n",
       "  background: var(--sklearn-color-fitted-level-0);\n",
       "  border: var(--sklearn-color-fitted-level-3);\n",
       "}\n",
       "\n",
       ".sk-estimator-doc-link:hover span {\n",
       "  display: block;\n",
       "}\n",
       "\n",
       "/* \"?\"-specific style due to the `<a>` HTML tag */\n",
       "\n",
       "#sk-container-id-6 a.estimator_doc_link {\n",
       "  float: right;\n",
       "  font-size: 1rem;\n",
       "  line-height: 1em;\n",
       "  font-family: monospace;\n",
       "  background-color: var(--sklearn-color-background);\n",
       "  border-radius: 1rem;\n",
       "  height: 1rem;\n",
       "  width: 1rem;\n",
       "  text-decoration: none;\n",
       "  /* unfitted */\n",
       "  color: var(--sklearn-color-unfitted-level-1);\n",
       "  border: var(--sklearn-color-unfitted-level-1) 1pt solid;\n",
       "}\n",
       "\n",
       "#sk-container-id-6 a.estimator_doc_link.fitted {\n",
       "  /* fitted */\n",
       "  border: var(--sklearn-color-fitted-level-1) 1pt solid;\n",
       "  color: var(--sklearn-color-fitted-level-1);\n",
       "}\n",
       "\n",
       "/* On hover */\n",
       "#sk-container-id-6 a.estimator_doc_link:hover {\n",
       "  /* unfitted */\n",
       "  background-color: var(--sklearn-color-unfitted-level-3);\n",
       "  color: var(--sklearn-color-background);\n",
       "  text-decoration: none;\n",
       "}\n",
       "\n",
       "#sk-container-id-6 a.estimator_doc_link.fitted:hover {\n",
       "  /* fitted */\n",
       "  background-color: var(--sklearn-color-fitted-level-3);\n",
       "}\n",
       "</style><div id=\"sk-container-id-6\" class=\"sk-top-container\"><div class=\"sk-text-repr-fallback\"><pre>GridSearchCV(cv=5, estimator=RandomForestRegressor(random_state=42), n_jobs=-1,\n",
       "             param_grid={&#x27;max_depth&#x27;: [None, 10, 20],\n",
       "                         &#x27;min_samples_split&#x27;: [2, 5, 10],\n",
       "                         &#x27;n_estimators&#x27;: [50, 100, 200]},\n",
       "             scoring=&#x27;r2&#x27;, verbose=2)</pre><b>In a Jupyter environment, please rerun this cell to show the HTML representation or trust the notebook. <br />On GitHub, the HTML representation is unable to render, please try loading this page with nbviewer.org.</b></div><div class=\"sk-container\" hidden><div class=\"sk-item sk-dashed-wrapped\"><div class=\"sk-label-container\"><div class=\"sk-label fitted sk-toggleable\"><input class=\"sk-toggleable__control sk-hidden--visually\" id=\"sk-estimator-id-8\" type=\"checkbox\" ><label for=\"sk-estimator-id-8\" class=\"sk-toggleable__label fitted sk-toggleable__label-arrow\"><div><div>GridSearchCV</div></div><div><a class=\"sk-estimator-doc-link fitted\" rel=\"noreferrer\" target=\"_blank\" href=\"https://scikit-learn.org/1.6/modules/generated/sklearn.model_selection.GridSearchCV.html\">?<span>Documentation for GridSearchCV</span></a><span class=\"sk-estimator-doc-link fitted\">i<span>Fitted</span></span></div></label><div class=\"sk-toggleable__content fitted\"><pre>GridSearchCV(cv=5, estimator=RandomForestRegressor(random_state=42), n_jobs=-1,\n",
       "             param_grid={&#x27;max_depth&#x27;: [None, 10, 20],\n",
       "                         &#x27;min_samples_split&#x27;: [2, 5, 10],\n",
       "                         &#x27;n_estimators&#x27;: [50, 100, 200]},\n",
       "             scoring=&#x27;r2&#x27;, verbose=2)</pre></div> </div></div><div class=\"sk-parallel\"><div class=\"sk-parallel-item\"><div class=\"sk-item\"><div class=\"sk-label-container\"><div class=\"sk-label fitted sk-toggleable\"><input class=\"sk-toggleable__control sk-hidden--visually\" id=\"sk-estimator-id-9\" type=\"checkbox\" ><label for=\"sk-estimator-id-9\" class=\"sk-toggleable__label fitted sk-toggleable__label-arrow\"><div><div>best_estimator_: RandomForestRegressor</div></div></label><div class=\"sk-toggleable__content fitted\"><pre>RandomForestRegressor(max_depth=10, random_state=42)</pre></div> </div></div><div class=\"sk-serial\"><div class=\"sk-item\"><div class=\"sk-estimator fitted sk-toggleable\"><input class=\"sk-toggleable__control sk-hidden--visually\" id=\"sk-estimator-id-10\" type=\"checkbox\" ><label for=\"sk-estimator-id-10\" class=\"sk-toggleable__label fitted sk-toggleable__label-arrow\"><div><div>RandomForestRegressor</div></div><div><a class=\"sk-estimator-doc-link fitted\" rel=\"noreferrer\" target=\"_blank\" href=\"https://scikit-learn.org/1.6/modules/generated/sklearn.ensemble.RandomForestRegressor.html\">?<span>Documentation for RandomForestRegressor</span></a></div></label><div class=\"sk-toggleable__content fitted\"><pre>RandomForestRegressor(max_depth=10, random_state=42)</pre></div> </div></div></div></div></div></div></div></div></div>"
      ],
      "text/plain": [
       "GridSearchCV(cv=5, estimator=RandomForestRegressor(random_state=42), n_jobs=-1,\n",
       "             param_grid={'max_depth': [None, 10, 20],\n",
       "                         'min_samples_split': [2, 5, 10],\n",
       "                         'n_estimators': [50, 100, 200]},\n",
       "             scoring='r2', verbose=2)"
      ]
     },
     "execution_count": 191,
     "metadata": {},
     "output_type": "execute_result"
    }
   ],
   "source": [
    "from sklearn.model_selection import GridSearchCV\n",
    "\n",
    "# Define the parameter grid\n",
    "param_grid = {\n",
    "    'n_estimators': [50, 100, 200],\n",
    "    'max_depth': [None, 10, 20],\n",
    "    'min_samples_split': [2, 5, 10]\n",
    "}\n",
    "\n",
    "# Set up the GridSearchCV\n",
    "grid_search = GridSearchCV(estimator=RandomForestRegressor(random_state=42),\n",
    "                           param_grid=param_grid,\n",
    "                           cv=5,\n",
    "                           scoring='r2',\n",
    "                           n_jobs=-1,\n",
    "                           verbose=2)\n",
    "\n",
    "# Train the model using grid search\n",
    "grid_search.fit(X_train_scale, y_train)"
   ]
  },
  {
   "cell_type": "code",
   "execution_count": 192,
   "id": "1361ba08-5d54-4463-8001-13709570d83d",
   "metadata": {},
   "outputs": [
    {
     "name": "stdout",
     "output_type": "stream",
     "text": [
      "Best Parameters: {'max_depth': 10, 'min_samples_split': 2, 'n_estimators': 100}\n",
      "R2 Score (Tuned RF): 0.9893189582819846\n",
      "MSE (Tuned RF): 19295.131150478417\n"
     ]
    }
   ],
   "source": [
    "\n",
    "# Best parameters and estimator\n",
    "print(\"Best Parameters:\", grid_search.best_params_)\n",
    "best_rf = grid_search.best_estimator_\n",
    "\n",
    "# Evaluate the model\n",
    "y_pred = best_rf.predict(X_test_scale)\n",
    "print(\"R2 Score (Tuned RF):\", r2_score(y_test, y_pred))\n",
    "print(\"MSE (Tuned RF):\", mean_squared_error(y_test, y_pred))"
   ]
  },
  {
   "cell_type": "code",
   "execution_count": 193,
   "id": "69c9eea7-7600-459c-9579-17d8d4e7403b",
   "metadata": {},
   "outputs": [
    {
     "data": {
      "image/png": "[encoded data removed]",
      "text/plain": [
       "<Figure size 800x600 with 1 Axes>"
      ]
     },
     "metadata": {},
     "output_type": "display_data"
    }
   ],
   "source": [
    "residuals = y_test - y_pred\n",
    "plt.figure(figsize=(8, 6))\n",
    "sns.histplot(residuals, kde=True)\n",
    "plt.title('Distribution of Residuals')\n",
    "plt.xlabel('Residual (Actual - Predicted)')\n",
    "plt.ylabel('Frequency')\n",
    "plt.show()\n"
   ]
  },
  {
   "cell_type": "code",
   "execution_count": 194,
   "id": "a1423214-d010-44ca-99fd-5b5e24dd2c4d",
   "metadata": {},
   "outputs": [
    {
     "data": {
      "image/png": "[encoded data removed]",
      "text/plain": [
       "<Figure size 800x600 with 1 Axes>"
      ]
     },
     "metadata": {},
     "output_type": "display_data"
    }
   ],
   "source": [
    "plt.figure(figsize=(8, 6))\n",
    "plt.scatter(y_test, y_pred, alpha=0.7, color='green')\n",
    "plt.plot([y_test.min(), y_test.max()], [y_test.min(), y_test.max()], 'r--')\n",
    "plt.xlabel('Actual Runs')\n",
    "plt.ylabel('Predicted Runs')\n",
    "plt.title('Actual vs Predicted Runs')\n",
    "plt.show()"
   ]
  },
  {
   "cell_type": "markdown",
   "id": "b6abd0fa-e66a-4a82-87a8-b2da84f71206",
   "metadata": {},
   "source": [
    "## Using Linear Regression"
   ]
  },
  {
   "cell_type": "code",
   "execution_count": 196,
   "id": "b9d116e1-639b-49fe-a5a0-3ed675673a6e",
   "metadata": {},
   "outputs": [
    {
     "data": {
      "text/html": [
       "<style>#sk-container-id-8 {\n",
       "  /* Definition of color scheme common for light and dark mode */\n",
       "  --sklearn-color-text: #000;\n",
       "  --sklearn-color-text-muted: #666;\n",
       "  --sklearn-color-line: gray;\n",
       "  /* Definition of color scheme for unfitted estimators */\n",
       "  --sklearn-color-unfitted-level-0: #fff5e6;\n",
       "  --sklearn-color-unfitted-level-1: #f6e4d2;\n",
       "  --sklearn-color-unfitted-level-2: #ffe0b3;\n",
       "  --sklearn-color-unfitted-level-3: chocolate;\n",
       "  /* Definition of color scheme for fitted estimators */\n",
       "  --sklearn-color-fitted-level-0: #f0f8ff;\n",
       "  --sklearn-color-fitted-level-1: #d4ebff;\n",
       "  --sklearn-color-fitted-level-2: #b3dbfd;\n",
       "  --sklearn-color-fitted-level-3: cornflowerblue;\n",
       "\n",
       "  /* Specific color for light theme */\n",
       "  --sklearn-color-text-on-default-background: var(--sg-text-color, var(--theme-code-foreground, var(--jp-content-font-color1, black)));\n",
       "  --sklearn-color-background: var(--sg-background-color, var(--theme-background, var(--jp-layout-color0, white)));\n",
       "  --sklearn-color-border-box: var(--sg-text-color, var(--theme-code-foreground, var(--jp-content-font-color1, black)));\n",
       "  --sklearn-color-icon: #696969;\n",
       "\n",
       "  @media (prefers-color-scheme: dark) {\n",
       "    /* Redefinition of color scheme for dark theme */\n",
       "    --sklearn-color-text-on-default-background: var(--sg-text-color, var(--theme-code-foreground, var(--jp-content-font-color1, white)));\n",
       "    --sklearn-color-background: var(--sg-background-color, var(--theme-background, var(--jp-layout-color0, #111)));\n",
       "    --sklearn-color-border-box: var(--sg-text-color, var(--theme-code-foreground, var(--jp-content-font-color1, white)));\n",
       "    --sklearn-color-icon: #878787;\n",
       "  }\n",
       "}\n",
       "\n",
       "#sk-container-id-8 {\n",
       "  color: var(--sklearn-color-text);\n",
       "}\n",
       "\n",
       "#sk-container-id-8 pre {\n",
       "  padding: 0;\n",
       "}\n",
       "\n",
       "#sk-container-id-8 input.sk-hidden--visually {\n",
       "  border: 0;\n",
       "  clip: rect(1px 1px 1px 1px);\n",
       "  clip: rect(1px, 1px, 1px, 1px);\n",
       "  height: 1px;\n",
       "  margin: -1px;\n",
       "  overflow: hidden;\n",
       "  padding: 0;\n",
       "  position: absolute;\n",
       "  width: 1px;\n",
       "}\n",
       "\n",
       "#sk-container-id-8 div.sk-dashed-wrapped {\n",
       "  border: 1px dashed var(--sklearn-color-line);\n",
       "  margin: 0 0.4em 0.5em 0.4em;\n",
       "  box-sizing: border-box;\n",
       "  padding-bottom: 0.4em;\n",
       "  background-color: var(--sklearn-color-background);\n",
       "}\n",
       "\n",
       "#sk-container-id-8 div.sk-container {\n",
       "  /* jupyter's `normalize.less` sets `[hidden] { display: none; }`\n",
       "     but bootstrap.min.css set `[hidden] { display: none !important; }`\n",
       "     so we also need the `!important` here to be able to override the\n",
       "     default hidden behavior on the sphinx rendered scikit-learn.org.\n",
       "     See: https://github.com/scikit-learn/scikit-learn/issues/21755 */\n",
       "  display: inline-block !important;\n",
       "  position: relative;\n",
       "}\n",
       "\n",
       "#sk-container-id-8 div.sk-text-repr-fallback {\n",
       "  display: none;\n",
       "}\n",
       "\n",
       "div.sk-parallel-item,\n",
       "div.sk-serial,\n",
       "div.sk-item {\n",
       "  /* draw centered vertical line to link estimators */\n",
       "  background-image: linear-gradient(var(--sklearn-color-text-on-default-background), var(--sklearn-color-text-on-default-background));\n",
       "  background-size: 2px 100%;\n",
       "  background-repeat: no-repeat;\n",
       "  background-position: center center;\n",
       "}\n",
       "\n",
       "/* Parallel-specific style estimator block */\n",
       "\n",
       "#sk-container-id-8 div.sk-parallel-item::after {\n",
       "  content: \"\";\n",
       "  width: 100%;\n",
       "  border-bottom: 2px solid var(--sklearn-color-text-on-default-background);\n",
       "  flex-grow: 1;\n",
       "}\n",
       "\n",
       "#sk-container-id-8 div.sk-parallel {\n",
       "  display: flex;\n",
       "  align-items: stretch;\n",
       "  justify-content: center;\n",
       "  background-color: var(--sklearn-color-background);\n",
       "  position: relative;\n",
       "}\n",
       "\n",
       "#sk-container-id-8 div.sk-parallel-item {\n",
       "  display: flex;\n",
       "  flex-direction: column;\n",
       "}\n",
       "\n",
       "#sk-container-id-8 div.sk-parallel-item:first-child::after {\n",
       "  align-self: flex-end;\n",
       "  width: 50%;\n",
       "}\n",
       "\n",
       "#sk-container-id-8 div.sk-parallel-item:last-child::after {\n",
       "  align-self: flex-start;\n",
       "  width: 50%;\n",
       "}\n",
       "\n",
       "#sk-container-id-8 div.sk-parallel-item:only-child::after {\n",
       "  width: 0;\n",
       "}\n",
       "\n",
       "/* Serial-specific style estimator block */\n",
       "\n",
       "#sk-container-id-8 div.sk-serial {\n",
       "  display: flex;\n",
       "  flex-direction: column;\n",
       "  align-items: center;\n",
       "  background-color: var(--sklearn-color-background);\n",
       "  padding-right: 1em;\n",
       "  padding-left: 1em;\n",
       "}\n",
       "\n",
       "\n",
       "/* Toggleable style: style used for estimator/Pipeline/ColumnTransformer box that is\n",
       "clickable and can be expanded/collapsed.\n",
       "- Pipeline and ColumnTransformer use this feature and define the default style\n",
       "- Estimators will overwrite some part of the style using the `sk-estimator` class\n",
       "*/\n",
       "\n",
       "/* Pipeline and ColumnTransformer style (default) */\n",
       "\n",
       "#sk-container-id-8 div.sk-toggleable {\n",
       "  /* Default theme specific background. It is overwritten whether we have a\n",
       "  specific estimator or a Pipeline/ColumnTransformer */\n",
       "  background-color: var(--sklearn-color-background);\n",
       "}\n",
       "\n",
       "/* Toggleable label */\n",
       "#sk-container-id-8 label.sk-toggleable__label {\n",
       "  cursor: pointer;\n",
       "  display: flex;\n",
       "  width: 100%;\n",
       "  margin-bottom: 0;\n",
       "  padding: 0.5em;\n",
       "  box-sizing: border-box;\n",
       "  text-align: center;\n",
       "  align-items: start;\n",
       "  justify-content: space-between;\n",
       "  gap: 0.5em;\n",
       "}\n",
       "\n",
       "#sk-container-id-8 label.sk-toggleable__label .caption {\n",
       "  font-size: 0.6rem;\n",
       "  font-weight: lighter;\n",
       "  color: var(--sklearn-color-text-muted);\n",
       "}\n",
       "\n",
       "#sk-container-id-8 label.sk-toggleable__label-arrow:before {\n",
       "  /* Arrow on the left of the label */\n",
       "  content: \"▸\";\n",
       "  float: left;\n",
       "  margin-right: 0.25em;\n",
       "  color: var(--sklearn-color-icon);\n",
       "}\n",
       "\n",
       "#sk-container-id-8 label.sk-toggleable__label-arrow:hover:before {\n",
       "  color: var(--sklearn-color-text);\n",
       "}\n",
       "\n",
       "/* Toggleable content - dropdown */\n",
       "\n",
       "#sk-container-id-8 div.sk-toggleable__content {\n",
       "  max-height: 0;\n",
       "  max-width: 0;\n",
       "  overflow: hidden;\n",
       "  text-align: left;\n",
       "  /* unfitted */\n",
       "  background-color: var(--sklearn-color-unfitted-level-0);\n",
       "}\n",
       "\n",
       "#sk-container-id-8 div.sk-toggleable__content.fitted {\n",
       "  /* fitted */\n",
       "  background-color: var(--sklearn-color-fitted-level-0);\n",
       "}\n",
       "\n",
       "#sk-container-id-8 div.sk-toggleable__content pre {\n",
       "  margin: 0.2em;\n",
       "  border-radius: 0.25em;\n",
       "  color: var(--sklearn-color-text);\n",
       "  /* unfitted */\n",
       "  background-color: var(--sklearn-color-unfitted-level-0);\n",
       "}\n",
       "\n",
       "#sk-container-id-8 div.sk-toggleable__content.fitted pre {\n",
       "  /* unfitted */\n",
       "  background-color: var(--sklearn-color-fitted-level-0);\n",
       "}\n",
       "\n",
       "#sk-container-id-8 input.sk-toggleable__control:checked~div.sk-toggleable__content {\n",
       "  /* Expand drop-down */\n",
       "  max-height: 200px;\n",
       "  max-width: 100%;\n",
       "  overflow: auto;\n",
       "}\n",
       "\n",
       "#sk-container-id-8 input.sk-toggleable__control:checked~label.sk-toggleable__label-arrow:before {\n",
       "  content: \"▾\";\n",
       "}\n",
       "\n",
       "/* Pipeline/ColumnTransformer-specific style */\n",
       "\n",
       "#sk-container-id-8 div.sk-label input.sk-toggleable__control:checked~label.sk-toggleable__label {\n",
       "  color: var(--sklearn-color-text);\n",
       "  background-color: var(--sklearn-color-unfitted-level-2);\n",
       "}\n",
       "\n",
       "#sk-container-id-8 div.sk-label.fitted input.sk-toggleable__control:checked~label.sk-toggleable__label {\n",
       "  background-color: var(--sklearn-color-fitted-level-2);\n",
       "}\n",
       "\n",
       "/* Estimator-specific style */\n",
       "\n",
       "/* Colorize estimator box */\n",
       "#sk-container-id-8 div.sk-estimator input.sk-toggleable__control:checked~label.sk-toggleable__label {\n",
       "  /* unfitted */\n",
       "  background-color: var(--sklearn-color-unfitted-level-2);\n",
       "}\n",
       "\n",
       "#sk-container-id-8 div.sk-estimator.fitted input.sk-toggleable__control:checked~label.sk-toggleable__label {\n",
       "  /* fitted */\n",
       "  background-color: var(--sklearn-color-fitted-level-2);\n",
       "}\n",
       "\n",
       "#sk-container-id-8 div.sk-label label.sk-toggleable__label,\n",
       "#sk-container-id-8 div.sk-label label {\n",
       "  /* The background is the default theme color */\n",
       "  color: var(--sklearn-color-text-on-default-background);\n",
       "}\n",
       "\n",
       "/* On hover, darken the color of the background */\n",
       "#sk-container-id-8 div.sk-label:hover label.sk-toggleable__label {\n",
       "  color: var(--sklearn-color-text);\n",
       "  background-color: var(--sklearn-color-unfitted-level-2);\n",
       "}\n",
       "\n",
       "/* Label box, darken color on hover, fitted */\n",
       "#sk-container-id-8 div.sk-label.fitted:hover label.sk-toggleable__label.fitted {\n",
       "  color: var(--sklearn-color-text);\n",
       "  background-color: var(--sklearn-color-fitted-level-2);\n",
       "}\n",
       "\n",
       "/* Estimator label */\n",
       "\n",
       "#sk-container-id-8 div.sk-label label {\n",
       "  font-family: monospace;\n",
       "  font-weight: bold;\n",
       "  display: inline-block;\n",
       "  line-height: 1.2em;\n",
       "}\n",
       "\n",
       "#sk-container-id-8 div.sk-label-container {\n",
       "  text-align: center;\n",
       "}\n",
       "\n",
       "/* Estimator-specific */\n",
       "#sk-container-id-8 div.sk-estimator {\n",
       "  font-family: monospace;\n",
       "  border: 1px dotted var(--sklearn-color-border-box);\n",
       "  border-radius: 0.25em;\n",
       "  box-sizing: border-box;\n",
       "  margin-bottom: 0.5em;\n",
       "  /* unfitted */\n",
       "  background-color: var(--sklearn-color-unfitted-level-0);\n",
       "}\n",
       "\n",
       "#sk-container-id-8 div.sk-estimator.fitted {\n",
       "  /* fitted */\n",
       "  background-color: var(--sklearn-color-fitted-level-0);\n",
       "}\n",
       "\n",
       "/* on hover */\n",
       "#sk-container-id-8 div.sk-estimator:hover {\n",
       "  /* unfitted */\n",
       "  background-color: var(--sklearn-color-unfitted-level-2);\n",
       "}\n",
       "\n",
       "#sk-container-id-8 div.sk-estimator.fitted:hover {\n",
       "  /* fitted */\n",
       "  background-color: var(--sklearn-color-fitted-level-2);\n",
       "}\n",
       "\n",
       "/* Specification for estimator info (e.g. \"i\" and \"?\") */\n",
       "\n",
       "/* Common style for \"i\" and \"?\" */\n",
       "\n",
       ".sk-estimator-doc-link,\n",
       "a:link.sk-estimator-doc-link,\n",
       "a:visited.sk-estimator-doc-link {\n",
       "  float: right;\n",
       "  font-size: smaller;\n",
       "  line-height: 1em;\n",
       "  font-family: monospace;\n",
       "  background-color: var(--sklearn-color-background);\n",
       "  border-radius: 1em;\n",
       "  height: 1em;\n",
       "  width: 1em;\n",
       "  text-decoration: none !important;\n",
       "  margin-left: 0.5em;\n",
       "  text-align: center;\n",
       "  /* unfitted */\n",
       "  border: var(--sklearn-color-unfitted-level-1) 1pt solid;\n",
       "  color: var(--sklearn-color-unfitted-level-1);\n",
       "}\n",
       "\n",
       ".sk-estimator-doc-link.fitted,\n",
       "a:link.sk-estimator-doc-link.fitted,\n",
       "a:visited.sk-estimator-doc-link.fitted {\n",
       "  /* fitted */\n",
       "  border: var(--sklearn-color-fitted-level-1) 1pt solid;\n",
       "  color: var(--sklearn-color-fitted-level-1);\n",
       "}\n",
       "\n",
       "/* On hover */\n",
       "div.sk-estimator:hover .sk-estimator-doc-link:hover,\n",
       ".sk-estimator-doc-link:hover,\n",
       "div.sk-label-container:hover .sk-estimator-doc-link:hover,\n",
       ".sk-estimator-doc-link:hover {\n",
       "  /* unfitted */\n",
       "  background-color: var(--sklearn-color-unfitted-level-3);\n",
       "  color: var(--sklearn-color-background);\n",
       "  text-decoration: none;\n",
       "}\n",
       "\n",
       "div.sk-estimator.fitted:hover .sk-estimator-doc-link.fitted:hover,\n",
       ".sk-estimator-doc-link.fitted:hover,\n",
       "div.sk-label-container:hover .sk-estimator-doc-link.fitted:hover,\n",
       ".sk-estimator-doc-link.fitted:hover {\n",
       "  /* fitted */\n",
       "  background-color: var(--sklearn-color-fitted-level-3);\n",
       "  color: var(--sklearn-color-background);\n",
       "  text-decoration: none;\n",
       "}\n",
       "\n",
       "/* Span, style for the box shown on hovering the info icon */\n",
       ".sk-estimator-doc-link span {\n",
       "  display: none;\n",
       "  z-index: 9999;\n",
       "  position: relative;\n",
       "  font-weight: normal;\n",
       "  right: .2ex;\n",
       "  padding: .5ex;\n",
       "  margin: .5ex;\n",
       "  width: min-content;\n",
       "  min-width: 20ex;\n",
       "  max-width: 50ex;\n",
       "  color: var(--sklearn-color-text);\n",
       "  box-shadow: 2pt 2pt 4pt #999;\n",
       "  /* unfitted */\n",
       "  background: var(--sklearn-color-unfitted-level-0);\n",
       "  border: .5pt solid var(--sklearn-color-unfitted-level-3);\n",
       "}\n",
       "\n",
       ".sk-estimator-doc-link.fitted span {\n",
       "  /* fitted */\n",
       "  background: var(--sklearn-color-fitted-level-0);\n",
       "  border: var(--sklearn-color-fitted-level-3);\n",
       "}\n",
       "\n",
       ".sk-estimator-doc-link:hover span {\n",
       "  display: block;\n",
       "}\n",
       "\n",
       "/* \"?\"-specific style due to the `<a>` HTML tag */\n",
       "\n",
       "#sk-container-id-8 a.estimator_doc_link {\n",
       "  float: right;\n",
       "  font-size: 1rem;\n",
       "  line-height: 1em;\n",
       "  font-family: monospace;\n",
       "  background-color: var(--sklearn-color-background);\n",
       "  border-radius: 1rem;\n",
       "  height: 1rem;\n",
       "  width: 1rem;\n",
       "  text-decoration: none;\n",
       "  /* unfitted */\n",
       "  color: var(--sklearn-color-unfitted-level-1);\n",
       "  border: var(--sklearn-color-unfitted-level-1) 1pt solid;\n",
       "}\n",
       "\n",
       "#sk-container-id-8 a.estimator_doc_link.fitted {\n",
       "  /* fitted */\n",
       "  border: var(--sklearn-color-fitted-level-1) 1pt solid;\n",
       "  color: var(--sklearn-color-fitted-level-1);\n",
       "}\n",
       "\n",
       "/* On hover */\n",
       "#sk-container-id-8 a.estimator_doc_link:hover {\n",
       "  /* unfitted */\n",
       "  background-color: var(--sklearn-color-unfitted-level-3);\n",
       "  color: var(--sklearn-color-background);\n",
       "  text-decoration: none;\n",
       "}\n",
       "\n",
       "#sk-container-id-8 a.estimator_doc_link.fitted:hover {\n",
       "  /* fitted */\n",
       "  background-color: var(--sklearn-color-fitted-level-3);\n",
       "}\n",
       "</style><div id=\"sk-container-id-8\" class=\"sk-top-container\"><div class=\"sk-text-repr-fallback\"><pre>LinearRegression()</pre><b>In a Jupyter environment, please rerun this cell to show the HTML representation or trust the notebook. <br />On GitHub, the HTML representation is unable to render, please try loading this page with nbviewer.org.</b></div><div class=\"sk-container\" hidden><div class=\"sk-item\"><div class=\"sk-estimator fitted sk-toggleable\"><input class=\"sk-toggleable__control sk-hidden--visually\" id=\"sk-estimator-id-12\" type=\"checkbox\" checked><label for=\"sk-estimator-id-12\" class=\"sk-toggleable__label fitted sk-toggleable__label-arrow\"><div><div>LinearRegression</div></div><div><a class=\"sk-estimator-doc-link fitted\" rel=\"noreferrer\" target=\"_blank\" href=\"https://scikit-learn.org/1.6/modules/generated/sklearn.linear_model.LinearRegression.html\">?<span>Documentation for LinearRegression</span></a><span class=\"sk-estimator-doc-link fitted\">i<span>Fitted</span></span></div></label><div class=\"sk-toggleable__content fitted\"><pre>LinearRegression()</pre></div> </div></div></div></div>"
      ],
      "text/plain": [
       "LinearRegression()"
      ]
     },
     "execution_count": 196,
     "metadata": {},
     "output_type": "execute_result"
    }
   ],
   "source": [
    "from sklearn.linear_model import LinearRegression\n",
    "lr=LinearRegression()\n",
    "lr.fit(X_train_scale,y_train)"
   ]
  },
  {
   "cell_type": "markdown",
   "id": "78a74673-a7cc-4e26-ad1c-1ea28be6dd94",
   "metadata": {},
   "source": [
    "## Model evaluation"
   ]
  },
  {
   "cell_type": "code",
   "execution_count": 197,
   "id": "a61f3d31-8b84-4bd5-ad6c-edb35cae0054",
   "metadata": {},
   "outputs": [
    {
     "data": {
      "text/plain": [
       "0.9941258867241797"
      ]
     },
     "execution_count": 197,
     "metadata": {},
     "output_type": "execute_result"
    }
   ],
   "source": [
    "lr.score(X_test_scale,y_test)"
   ]
  },
  {
   "cell_type": "code",
   "execution_count": 198,
   "id": "63274302-537d-4ca8-b6d7-659bbee38619",
   "metadata": {},
   "outputs": [
    {
     "name": "stdout",
     "output_type": "stream",
     "text": [
      "R2 score: 0.9941258867241797\n",
      "MSE: 10611.49174790216\n",
      "RMSE: 103.01209515344381\n"
     ]
    }
   ],
   "source": [
    "from sklearn.metrics import mean_squared_error, r2_score\n",
    "y_pred = lr.predict(X_test_scale)\n",
    "print(\"R2 score:\", r2_score(y_test, y_pred))\n",
    "print(\"MSE:\", mean_squared_error(y_test, y_pred))\n",
    "print(\"RMSE:\", np.sqrt(mean_squared_error(y_test, y_pred)))"
   ]
  },
  {
   "cell_type": "code",
   "execution_count": 199,
   "id": "d12760ee-01ff-4eb4-acbd-5d0ffb1bf664",
   "metadata": {},
   "outputs": [
    {
     "data": {
      "text/html": [
       "<div>\n",
       "<style scoped>\n",
       "    .dataframe tbody tr th:only-of-type {\n",
       "        vertical-align: middle;\n",
       "    }\n",
       "\n",
       "    .dataframe tbody tr th {\n",
       "        vertical-align: top;\n",
       "    }\n",
       "\n",
       "    .dataframe thead th {\n",
       "        text-align: right;\n",
       "    }\n",
       "</style>\n",
       "<table border=\"1\" class=\"dataframe\">\n",
       "  <thead>\n",
       "    <tr style=\"text-align: right;\">\n",
       "      <th></th>\n",
       "      <th>Inns</th>\n",
       "      <th>NO</th>\n",
       "      <th>BF</th>\n",
       "      <th>100</th>\n",
       "      <th>50</th>\n",
       "    </tr>\n",
       "  </thead>\n",
       "  <tbody>\n",
       "    <tr>\n",
       "      <th>1094</th>\n",
       "      <td>20</td>\n",
       "      <td>9</td>\n",
       "      <td>208</td>\n",
       "      <td>0</td>\n",
       "      <td>0</td>\n",
       "    </tr>\n",
       "    <tr>\n",
       "      <th>188</th>\n",
       "      <td>116</td>\n",
       "      <td>15</td>\n",
       "      <td>2810</td>\n",
       "      <td>1</td>\n",
       "      <td>13</td>\n",
       "    </tr>\n",
       "    <tr>\n",
       "      <th>1811</th>\n",
       "      <td>6</td>\n",
       "      <td>4</td>\n",
       "      <td>35</td>\n",
       "      <td>0</td>\n",
       "      <td>0</td>\n",
       "    </tr>\n",
       "    <tr>\n",
       "      <th>707</th>\n",
       "      <td>14</td>\n",
       "      <td>0</td>\n",
       "      <td>561</td>\n",
       "      <td>1</td>\n",
       "      <td>3</td>\n",
       "    </tr>\n",
       "    <tr>\n",
       "      <th>679</th>\n",
       "      <td>35</td>\n",
       "      <td>14</td>\n",
       "      <td>645</td>\n",
       "      <td>0</td>\n",
       "      <td>1</td>\n",
       "    </tr>\n",
       "    <tr>\n",
       "      <th>...</th>\n",
       "      <td>...</td>\n",
       "      <td>...</td>\n",
       "      <td>...</td>\n",
       "      <td>...</td>\n",
       "      <td>...</td>\n",
       "    </tr>\n",
       "    <tr>\n",
       "      <th>620</th>\n",
       "      <td>24</td>\n",
       "      <td>1</td>\n",
       "      <td>527</td>\n",
       "      <td>0</td>\n",
       "      <td>4</td>\n",
       "    </tr>\n",
       "    <tr>\n",
       "      <th>286</th>\n",
       "      <td>60</td>\n",
       "      <td>2</td>\n",
       "      <td>2155</td>\n",
       "      <td>1</td>\n",
       "      <td>12</td>\n",
       "    </tr>\n",
       "    <tr>\n",
       "      <th>1050</th>\n",
       "      <td>14</td>\n",
       "      <td>2</td>\n",
       "      <td>243</td>\n",
       "      <td>0</td>\n",
       "      <td>0</td>\n",
       "    </tr>\n",
       "    <tr>\n",
       "      <th>406</th>\n",
       "      <td>39</td>\n",
       "      <td>16</td>\n",
       "      <td>868</td>\n",
       "      <td>0</td>\n",
       "      <td>5</td>\n",
       "    </tr>\n",
       "    <tr>\n",
       "      <th>1270</th>\n",
       "      <td>4</td>\n",
       "      <td>0</td>\n",
       "      <td>147</td>\n",
       "      <td>0</td>\n",
       "      <td>0</td>\n",
       "    </tr>\n",
       "  </tbody>\n",
       "</table>\n",
       "<p>474 rows × 5 columns</p>\n",
       "</div>"
      ],
      "text/plain": [
       "      Inns  NO    BF  100  50\n",
       "1094    20   9   208    0   0\n",
       "188    116  15  2810    1  13\n",
       "1811     6   4    35    0   0\n",
       "707     14   0   561    1   3\n",
       "679     35  14   645    0   1\n",
       "...    ...  ..   ...  ...  ..\n",
       "620     24   1   527    0   4\n",
       "286     60   2  2155    1  12\n",
       "1050    14   2   243    0   0\n",
       "406     39  16   868    0   5\n",
       "1270     4   0   147    0   0\n",
       "\n",
       "[474 rows x 5 columns]"
      ]
     },
     "execution_count": 199,
     "metadata": {},
     "output_type": "execute_result"
    }
   ],
   "source": [
    "X_test"
   ]
  },
  {
   "cell_type": "code",
   "execution_count": 200,
   "id": "d1f5c755-d6a7-49d7-80c6-746c26a322a0",
   "metadata": {},
   "outputs": [
    {
     "data": {
      "text/plain": [
       "1094     141\n",
       "188     2434\n",
       "1811      26\n",
       "707      368\n",
       "679      401\n",
       "        ... \n",
       "620      482\n",
       "286     1530\n",
       "1050     155\n",
       "406      952\n",
       "1270      97\n",
       "Name: Runs, Length: 474, dtype: int64"
      ]
     },
     "execution_count": 200,
     "metadata": {},
     "output_type": "execute_result"
    }
   ],
   "source": [
    "y_test"
   ]
  },
  {
   "cell_type": "code",
   "execution_count": 205,
   "id": "5273ecb3-8c6b-492c-b2e9-760295400967",
   "metadata": {},
   "outputs": [
    {
     "data": {
      "image/png": "[encoded data removed]",
      "text/plain": [
       "<Figure size 640x480 with 1 Axes>"
      ]
     },
     "metadata": {},
     "output_type": "display_data"
    }
   ],
   "source": [
    "plt.scatter(y_test, y_pred, alpha=0.6)\n",
    "plt.plot([y_test.min(), y_test.max()], [y_test.min(), y_test.max()])\n",
    "plt.xlabel(\"Actual\")\n",
    "plt.ylabel(\"Predicted\")\n",
    "plt.title(\"Actual vs Predicted Runs\")\n",
    "plt.show()"
   ]
  },
  {
   "cell_type": "markdown",
   "id": "03bbed37-7fc4-4563-bba4-d3f7128662f1",
   "metadata": {},
   "source": [
    "## saving the model"
   ]
  },
  {
   "cell_type": "code",
   "execution_count": 202,
   "id": "9915d78f-7c35-4d8f-acfd-cd2cc5b9658d",
   "metadata": {},
   "outputs": [
    {
     "data": {
      "text/plain": [
       "['C:/Users/HP/mlprojects/cricket/runs_scaler.pkl']"
      ]
     },
     "execution_count": 202,
     "metadata": {},
     "output_type": "execute_result"
    }
   ],
   "source": [
    "import joblib\n",
    "joblib.dump(best_rf,'C:/Users/HP/mlprojects/cricket/runs_model.pkl')\n",
    "from sklearn.preprocessing import StandardScaler\n",
    "scaler = StandardScaler()\n",
    "scaler.fit(X_train) \n",
    "joblib.dump(scaler, \"runs_scaler.pkl\")\n",
    "\n",
    "joblib.dump(scaler,'C:/Users/HP/mlprojects/cricket/runs_scaler.pkl')"
   ]
  },
  {
   "cell_type": "code",
   "execution_count": 203,
   "id": "fb536b76-bdb6-45bd-9755-53acf07fe390",
   "metadata": {},
   "outputs": [
    {
     "data": {
      "text/plain": [
       "['C:/Users/HP/mlprojects/cricket/linear_model.pkl']"
      ]
     },
     "execution_count": 203,
     "metadata": {},
     "output_type": "execute_result"
    }
   ],
   "source": [
    "import joblib\n",
    "joblib.dump(lr,'C:/Users/HP/mlprojects/cricket/linear_model.pkl')"
   ]
  },
  {
   "cell_type": "code",
   "execution_count": null,
   "id": "a068e2b4-34d7-4ccf-ad16-11babdee88ce",
   "metadata": {},
   "outputs": [],
   "source": []
  },
  {
   "cell_type": "code",
   "execution_count": null,
   "id": "ab754801-8d4f-441f-a7e0-dce50552b1a8",
   "metadata": {},
   "outputs": [],
   "source": []
  }
 ],
 "metadata": {
  "kernelspec": {
   "display_name": "Python 3 (ipykernel)",
   "language": "python",
   "name": "python3"
  },
  "language_info": {
   "codemirror_mode": {
    "name": "ipython",
    "version": 3
   },
   "file_extension": ".py",
   "mimetype": "text/x-python",
   "name": "python",
   "nbconvert_exporter": "python",
   "pygments_lexer": "ipython3",
   "version": "3.13.2"
  }
 },
 "nbformat": 4,
 "nbformat_minor": 5
}
